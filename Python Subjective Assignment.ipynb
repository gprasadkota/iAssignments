{
 "cells": [
  {
   "cell_type": "markdown",
   "metadata": {
    "colab_type": "text",
    "id": "X8EcAtKWU2kZ"
   },
   "source": [
    "# Q1.Write a Python program to get the string from the given string where all the occurrence of its first char has been changed to '$,' except first char itself?\n",
    "\n",
    "Sample String: 'prospect'\n",
    "\n",
    "Expected Result : 'pros$ect'"
   ]
  },
  {
   "cell_type": "code",
   "execution_count": 1,
   "metadata": {
    "colab": {
     "base_uri": "https://localhost:8080/",
     "height": 34
    },
    "colab_type": "code",
    "id": "No2_xxNaVGty",
    "outputId": "da0e511d-2fcc-4286-880b-c185a68b0872"
   },
   "outputs": [
    {
     "data": {
      "text/plain": [
       "'pros$ect'"
      ]
     },
     "execution_count": 1,
     "metadata": {},
     "output_type": "execute_result"
    }
   ],
   "source": [
    "def change_occurences(str):\n",
    "  return str[0] + str[1:].replace(str[0], '$')\n",
    "\n",
    "change_occurences('prospect')"
   ]
  },
  {
   "cell_type": "markdown",
   "metadata": {
    "colab_type": "text",
    "id": "P6Lmoc3_scXb"
   },
   "source": [
    "## Q2.Write a Python program to get the single string from the two given strings, and separated by the space and swap the first two characters of each string?\n",
    "\n",
    "Sample String : 'abc', 'xyz'.\n",
    "\n",
    "Expected Result: 'xbc ayz'"
   ]
  },
  {
   "cell_type": "code",
   "execution_count": 2,
   "metadata": {
    "colab": {
     "base_uri": "https://localhost:8080/",
     "height": 34
    },
    "colab_type": "code",
    "id": "_x5sj0zTsw7g",
    "outputId": "84d74eac-f15b-4c36-d629-0ddcb8f11d84"
   },
   "outputs": [
    {
     "data": {
      "text/plain": [
       "'xbc ayz'"
      ]
     },
     "execution_count": 2,
     "metadata": {},
     "output_type": "execute_result"
    }
   ],
   "source": [
    "def swap_firstchar(str1, str2):\n",
    "  str1, str2 = str2[0] + str1[1:], str1[0] + str2[1:]\n",
    "  return \"{} {}\".format(str1, str2) \n",
    "  \n",
    "swap_firstchar('abc', 'xyz')"
   ]
  },
  {
   "cell_type": "markdown",
   "metadata": {
    "colab_type": "text",
    "id": "C20X-QZLtowo"
   },
   "source": [
    "## Q3. Write the Python program to add 'ing' at the end of the given string (length of the string should be at least 3). If given string already ends with 'ing,'then add 'ly' instead. If string length of the given string is less than 3, leave it unchanged?\n",
    "\n",
    "Sample string:'abc'\n",
    "\n",
    "Expected result:'abcing'\n",
    "\n",
    "Sample string:'string'\n",
    "\n",
    "Expected result: 'stringly'"
   ]
  },
  {
   "cell_type": "code",
   "execution_count": 3,
   "metadata": {
    "colab": {
     "base_uri": "https://localhost:8080/",
     "height": 68
    },
    "colab_type": "code",
    "id": "jr1tHgHat9Eg",
    "outputId": "ff94ceea-06fd-4cfd-cbb4-a0ec4e0a67ad"
   },
   "outputs": [
    {
     "name": "stdout",
     "output_type": "stream",
     "text": [
      "abcing\n",
      "stringly\n"
     ]
    }
   ],
   "source": [
    "def add_ing_ly(str):\n",
    "  if len(str) < 3:\n",
    "    return str\n",
    "  elif \"ing\" in str[-3:]:\n",
    "    return str + \"ly\"\n",
    "  else:\n",
    "    return str + \"ing\"\n",
    "\n",
    "print(add_ing_ly('abc'))\n",
    "print(add_ing_ly('string'))"
   ]
  },
  {
   "cell_type": "markdown",
   "metadata": {
    "colab_type": "text",
    "id": "aAnTVnrNvjH3"
   },
   "source": [
    "### Q4. Write the Python program to find the first appearance of the substring 'not' and 'poor' from the given string, if 'not' follows the 'poor', replace the whole 'not'...'poor' substring with 'good'.Return the resulting string.\n",
    "\n",
    "Sample string: 'The lyrics are not that poor!''The lyrics arepoor!'\n",
    "\n",
    "Expected Result: 'The lyrics are good!''The lyrics are poor!'"
   ]
  },
  {
   "cell_type": "code",
   "execution_count": 4,
   "metadata": {
    "colab": {
     "base_uri": "https://localhost:8080/",
     "height": 34
    },
    "colab_type": "code",
    "id": "KqC38NEmwWFu",
    "outputId": "dfa1a270-e710-43dc-c841-5e4cf5e4808f"
   },
   "outputs": [
    {
     "data": {
      "text/plain": [
       "'The lyrics are good!The lyrics are poor!'"
      ]
     },
     "execution_count": 4,
     "metadata": {},
     "output_type": "execute_result"
    }
   ],
   "source": [
    "def good_poor(str):\n",
    "    try:\n",
    "        a, b = str.index('not'), str.index('poor')\n",
    "        if a < b:\n",
    "           return str[0:a] + \"good\" + str[b+4:]\n",
    "        else:\n",
    "          return str\n",
    "    except:\n",
    "        return str\n",
    "\n",
    "good_poor('The lyrics are not that poor!''The lyrics are poor!')"
   ]
  },
  {
   "cell_type": "markdown",
   "metadata": {
    "colab_type": "text",
    "id": "m8pQ0cWWJ8EW"
   },
   "source": [
    "### Q5.Write the Python program to remove the characters which have odd index values of a given string."
   ]
  },
  {
   "cell_type": "code",
   "execution_count": 5,
   "metadata": {
    "colab": {
     "base_uri": "https://localhost:8080/",
     "height": 33
    },
    "colab_type": "code",
    "id": "371oEYcoKKcF",
    "outputId": "b8124013-31c3-42e1-92d2-8da2d9593645"
   },
   "outputs": [
    {
     "data": {
      "text/plain": [
       "'yhnrga'"
      ]
     },
     "execution_count": 5,
     "metadata": {},
     "output_type": "execute_result"
    }
   ],
   "source": [
    "def remove_odd_index(str):\n",
    "    return \"\".join([str[i] for i in range(len(str)) if i%2 != 0])\n",
    "\n",
    "remove_odd_index(\"PythonProgram\")"
   ]
  },
  {
   "cell_type": "markdown",
   "metadata": {
    "colab_type": "text",
    "id": "852eD2iJMZJG"
   },
   "source": [
    "### Q6. Write the Python function to get a string made of 4 copies of the last two characters of the specified string (length must be at least 2).\n",
    "\n",
    "Sample functionandresult :\n",
    "\n",
    "insert-end('Python') -> abababab\n",
    "\n",
    "insert-end('Exercises') -> jkjkjkjk"
   ]
  },
  {
   "cell_type": "code",
   "execution_count": 6,
   "metadata": {
    "colab": {
     "base_uri": "https://localhost:8080/",
     "height": 33
    },
    "colab_type": "code",
    "id": "PJvp3hsIN_6Y",
    "outputId": "0c51b0f0-6c19-443d-f5b3-9e3e30907854"
   },
   "outputs": [
    {
     "data": {
      "text/plain": [
       "'eseseses'"
      ]
     },
     "execution_count": 6,
     "metadata": {},
     "output_type": "execute_result"
    }
   ],
   "source": [
    "def four_copies(str):\n",
    "    if len(str) >=2:\n",
    "        return str[-2:]*4\n",
    "    return str\n",
    "\n",
    "four_copies('fourcopies')"
   ]
  },
  {
   "cell_type": "markdown",
   "metadata": {
    "colab_type": "text",
    "id": "7UclKb1tO_uu"
   },
   "source": [
    "### Q7. Write the python function to get a string made of its first three characters of a specified string. If the length of the string is less than 3 then return the original string.\n",
    "\n",
    "Sample function and result :\n",
    "\n",
    "first-three('ipy') -> ipy\n",
    "\n",
    "first-three('python') -> pyt"
   ]
  },
  {
   "cell_type": "code",
   "execution_count": 7,
   "metadata": {
    "colab": {
     "base_uri": "https://localhost:8080/",
     "height": 50
    },
    "colab_type": "code",
    "id": "c6Ph03CYPJcF",
    "outputId": "76f2c9c6-cc13-4579-ef00-b4c61ed01462"
   },
   "outputs": [
    {
     "name": "stdout",
     "output_type": "stream",
     "text": [
      "ipy\n",
      "pyt\n"
     ]
    }
   ],
   "source": [
    "def first_three(str):\n",
    "    if len(str) > 2:\n",
    "        return str[:3]\n",
    "    return str\n",
    "\n",
    "print(first_three('ipy'))\n",
    "print(first_three('python'))"
   ]
  },
  {
   "cell_type": "markdown",
   "metadata": {
    "colab_type": "text",
    "id": "BnyB129JO_sw"
   },
   "source": [
    "### Q8. Write the python program to print the following floating numbers upto 2 decimal places?"
   ]
  },
  {
   "cell_type": "code",
   "execution_count": 8,
   "metadata": {
    "colab": {
     "base_uri": "https://localhost:8080/",
     "height": 33
    },
    "colab_type": "code",
    "id": "kU1skbOcQITz",
    "outputId": "f3e79b3d-51b5-4184-fcde-cd15abe1be7d"
   },
   "outputs": [
    {
     "data": {
      "text/plain": [
       "2.34"
      ]
     },
     "execution_count": 8,
     "metadata": {},
     "output_type": "execute_result"
    }
   ],
   "source": [
    "def two_decimal(number):\n",
    "  return float('{0:.2f}'.format(number))\n",
    "\n",
    "two_decimal(2.337)"
   ]
  },
  {
   "cell_type": "markdown",
   "metadata": {
    "colab_type": "text",
    "id": "AC_Tb6oMRsHg"
   },
   "source": [
    "### Q9. Write the Python program to format a number with a percentage?"
   ]
  },
  {
   "cell_type": "code",
   "execution_count": 9,
   "metadata": {
    "colab": {
     "base_uri": "https://localhost:8080/",
     "height": 33
    },
    "colab_type": "code",
    "id": "WmxjmQ9eSD5h",
    "outputId": "d1890865-7350-417f-e407-b4d6a86ce7a0"
   },
   "outputs": [
    {
     "data": {
      "text/plain": [
       "'100%'"
      ]
     },
     "execution_count": 9,
     "metadata": {},
     "output_type": "execute_result"
    }
   ],
   "source": [
    "def format_number(number):\n",
    "    return \"{0}%\".format(number)\n",
    "    \n",
    "format_number(100)"
   ]
  },
  {
   "cell_type": "markdown",
   "metadata": {
    "colab_type": "text",
    "id": "Kab49GVGTDDb"
   },
   "source": [
    "#### Q10. Write thePython program to count occurrences of a substring in a String?"
   ]
  },
  {
   "cell_type": "code",
   "execution_count": 10,
   "metadata": {
    "colab": {
     "base_uri": "https://localhost:8080/",
     "height": 33
    },
    "colab_type": "code",
    "id": "Ou7sQHmqTFm4",
    "outputId": "ca09f16c-53e1-4900-bc12-13509dc17d5a"
   },
   "outputs": [
    {
     "data": {
      "text/plain": [
       "2"
      ]
     },
     "execution_count": 10,
     "metadata": {},
     "output_type": "execute_result"
    }
   ],
   "source": [
    "def count_occurrences(str, substr):\n",
    "    try:\n",
    "        substr_occur_count = 0\n",
    "        substr_found = True\n",
    "        while substr_found:\n",
    "            substr_found = False\n",
    "            idx = str.index(substr)\n",
    "            if idx > -1:\n",
    "                str = str[idx + len(substr):]\n",
    "                substr_occur_count += 1\n",
    "                substr_found = True\n",
    "        return substr_occur_count\n",
    "    except:\n",
    "        return substr_occur_count\n",
    "            \n",
    "count_occurrences(\"where there's a will there's a way\", \"there's\")      "
   ]
  },
  {
   "cell_type": "markdown",
   "metadata": {
    "colab_type": "text",
    "id": "BwyzxCo9W7p_"
   },
   "source": [
    "### Q11. Write the Python program to count repeated characters in a string."
   ]
  },
  {
   "cell_type": "code",
   "execution_count": 11,
   "metadata": {
    "colab": {
     "base_uri": "https://localhost:8080/",
     "height": 117
    },
    "colab_type": "code",
    "id": "hIeEYxe-W_Na",
    "outputId": "936b077b-8d0b-4048-d351-eadfaea08c5d"
   },
   "outputs": [
    {
     "name": "stdout",
     "output_type": "stream",
     "text": [
      "t 2\n",
      "h 2\n",
      "u 2\n",
      "r 2\n",
      "e 3\n",
      "o 3\n"
     ]
    }
   ],
   "source": [
    "import collections\n",
    "\n",
    "str = 'thequickbrownjumpsoverthelazydog'\n",
    "\n",
    "_dict_repeated_chars = {}\n",
    "for i in range(len(str)):\n",
    "    char = str[i]\n",
    "    if char in _dict_repeated_chars.keys():\n",
    "        _dict_repeated_chars[char] = _dict_repeated_chars[char] + 1\n",
    "    else:\n",
    "        _dict_repeated_chars[char] = 1\n",
    "else:\n",
    "    _dict_repeated_chars = sorted(_dict_repeated_chars.items(), key=lambda kv: kv[1])\n",
    "    _dict_repeated_chars = collections.OrderedDict(_dict_repeated_chars)\n",
    "    for key in _dict_repeated_chars:\n",
    "        if _dict_repeated_chars[key] > 1:\n",
    "            print( key, _dict_repeated_chars[key])"
   ]
  },
  {
   "cell_type": "markdown",
   "metadata": {
    "colab_type": "text",
    "id": "b0RrqFDalIDt"
   },
   "source": [
    "### Q12. Write the Python program to print the square and cube symbol in the area of a rectangle and volume of a cylinder?\n",
    "\n",
    "Sample output-\n",
    "\n",
    "The area of the rectangle is 1256.66 cm2\n",
    "\n",
    "The volume of the cylinder is 1254.725 cm3"
   ]
  },
  {
   "cell_type": "code",
   "execution_count": 12,
   "metadata": {
    "colab": {
     "base_uri": "https://localhost:8080/",
     "height": 50
    },
    "colab_type": "code",
    "id": "HFatpp_6lzkz",
    "outputId": "c430606c-4b12-4c3a-d423-c86a8914da5e"
   },
   "outputs": [
    {
     "name": "stdout",
     "output_type": "stream",
     "text": [
      "The are of rectangle is 1256.66cm²\n",
      "The volue of the cylinder is 1254.725cm³\n"
     ]
    }
   ],
   "source": [
    "area_of_rectangle = 1256.66\n",
    "area_of_cylinder = 1254.725\n",
    "print('The are of rectangle is {0:.2f}cm\\u00b2'.format(area_of_rectangle))\n",
    "print('The volue of the cylinder is {0:.3f}cm\\u00b3'.format(area_of_cylinder))"
   ]
  },
  {
   "cell_type": "markdown",
   "metadata": {
    "colab_type": "text",
    "id": "b7yQ0vm-m54K"
   },
   "source": [
    "### Q13. Write thePython program to check if a string contains all letters of the alphabet?"
   ]
  },
  {
   "cell_type": "code",
   "execution_count": 13,
   "metadata": {
    "colab": {
     "base_uri": "https://localhost:8080/",
     "height": 33
    },
    "colab_type": "code",
    "id": "YEnL5zdBm9RM",
    "outputId": "93b5f4fa-baa6-4726-8cc8-3d7636468fef"
   },
   "outputs": [
    {
     "name": "stdout",
     "output_type": "stream",
     "text": [
      "True\n",
      "False\n"
     ]
    }
   ],
   "source": [
    "def is_contains_allalphabets(str):\n",
    "    contains_all_apphabets = True\n",
    "    for char in 'ABCDEFGHIJKLMNOPQRSTUVWXYZ':\n",
    "        if char not in str.upper():\n",
    "            contains_all_apphabets = False\n",
    "            break\n",
    "    return contains_all_apphabets\n",
    "\n",
    "print(is_contains_allalphabets('abcdefghijklmnopqrstuvwxyz'))\n",
    "print(is_contains_allalphabets('abcdefghjklmnopqrstuvwxyz'))"
   ]
  },
  {
   "cell_type": "markdown",
   "metadata": {
    "colab_type": "text",
    "id": "1D5-VJLtpAZ6"
   },
   "source": [
    "### Q14. Write the Python program to find the second most repeated word in a given string?"
   ]
  },
  {
   "cell_type": "code",
   "execution_count": 14,
   "metadata": {
    "colab": {
     "base_uri": "https://localhost:8080/",
     "height": 33
    },
    "colab_type": "code",
    "id": "Y9w2Hhy_pFIe",
    "outputId": "242ca984-ab33-4c6b-d1ba-d819c33939aa"
   },
   "outputs": [
    {
     "name": "stdout",
     "output_type": "stream",
     "text": [
      "('is', 2)\n"
     ]
    }
   ],
   "source": [
    "import collections\n",
    "\n",
    "_list_of_words = 'where there is a will thee is a way'.split()\n",
    "_dict_repeated_words = {}\n",
    "for i in range(len(_list_of_words)):\n",
    "    word = _list_of_words[i]\n",
    "    if word in _dict_repeated_words.keys():\n",
    "        _dict_repeated_words[word] = _dict_repeated_words[word] + 1\n",
    "    else:\n",
    "        _dict_repeated_words[word] = 1\n",
    "else:\n",
    "    _dict_repeated_words = sorted(_dict_repeated_words.items(), key=lambda kv: kv[1])\n",
    "    print(_dict_repeated_words[-2])"
   ]
  },
  {
   "cell_type": "markdown",
   "metadata": {
    "colab_type": "text",
    "id": "Fd4OhEqIuuJp"
   },
   "source": [
    "### Q15. Write the Python program to find the minimum window in the given string,which will contains all the characters of another given strings?\n",
    "\n",
    "Example 1\n",
    "\n",
    "Input : string1 = \" PRWSOERIUSFK \"\n",
    "\n",
    "string2 = \" OSU \"\n",
    "\n",
    "Output: Minimum window is \"OERIUS\""
   ]
  },
  {
   "cell_type": "code",
   "execution_count": 15,
   "metadata": {
    "colab": {},
    "colab_type": "code",
    "id": "NuXTIscnzuWc"
   },
   "outputs": [
    {
     "name": "stdout",
     "output_type": "stream",
     "text": [
      "Minimum window is OERIUS\n"
     ]
    }
   ],
   "source": [
    "import collections\n",
    "def min_window(str1, str2):\n",
    "    result_char, missing_char = collections.Counter(str2), len(str2)\n",
    "    i = p = q = 0\n",
    "    for j, c in enumerate(str1, 1):\n",
    "        missing_char -= result_char[c] > 0\n",
    "        result_char[c] -= 1\n",
    "        if not missing_char:\n",
    "            while i < q and result_char[str1[i]] < 0:\n",
    "                result_char[str1[i]] += 1\n",
    "                i += 1\n",
    "            if not q or j - i <= q - p:\n",
    "                p, q = i, j\n",
    "    return str1[p:q]\n",
    "           \n",
    "str1 = \"PRWSOERIUSFK\"\n",
    "str2 = \"OSU\"\n",
    "print(\"Minimum window is\", min_window(str1,str2))"
   ]
  },
  {
   "cell_type": "markdown",
   "metadata": {
    "colab_type": "text",
    "id": "MwgKAFjn3_Y6"
   },
   "source": [
    "### Q16. Write the Python program to find smallest window that contains all characters of the given string?\n",
    "\n",
    "Original Strings:\n",
    "\n",
    "asdaewsqgtwwsa\n",
    "\n",
    "Smallest window that contains all characters of the said string:\n",
    "\n",
    "Daewsqgt"
   ]
  },
  {
   "cell_type": "code",
   "execution_count": 16,
   "metadata": {
    "colab": {},
    "colab_type": "code",
    "id": "95BTmNFl4Td-"
   },
   "outputs": [
    {
     "name": "stdout",
     "output_type": "stream",
     "text": [
      "Original Strings:\n",
      " asdaewsqgtwwsa\n",
      "\n",
      "Smallest window that contains all characters of the string:\n",
      "daewsqgt\n"
     ]
    }
   ],
   "source": [
    "from collections import defaultdict   \n",
    "\n",
    "def find_sub_string(str): \n",
    "    str_len = len(str) \n",
    "      \n",
    "    # Count all distinct characters. \n",
    "    dist_count_char = len(set([x for x in str])) \n",
    "  \n",
    "    ctr, start_pos, start_pos_index, min_len = 0, 0, -1, 9999999999\n",
    "    curr_count = defaultdict(lambda: 0) \n",
    "    for i in range(str_len): \n",
    "        curr_count[str[i]] += 1\n",
    " \n",
    "        if curr_count[str[i]] == 1: \n",
    "            ctr += 1\n",
    "  \n",
    "        if ctr == dist_count_char: \n",
    "            while curr_count[str[start_pos]] > 1: \n",
    "                if curr_count[str[start_pos]] > 1: \n",
    "                    curr_count[str[start_pos]] -= 1\n",
    "                start_pos += 1\n",
    "  \n",
    "            len_window = i - start_pos + 1\n",
    "            if min_len > len_window: \n",
    "                min_len = len_window \n",
    "                start_pos_index = start_pos \n",
    "    return str[start_pos_index: start_pos_index + min_len] \n",
    "      \n",
    "str1 = \"asdaewsqgtwwsa\"\n",
    "print(\"Original Strings:\\n\",str1)\n",
    "print(\"\\nSmallest window that contains all characters of the string:\")\n",
    "print(find_sub_string(str1))"
   ]
  },
  {
   "cell_type": "markdown",
   "metadata": {
    "colab_type": "text",
    "id": "EOXj3Swf4UAM"
   },
   "source": [
    "### Q17. Write the Python program to count number of substrings from a given string of lowercase alphabets with exactly k distinct (given) characters?\n",
    "\n",
    "Input a string (lowercase alphabets): wolf\n",
    "\n",
    "Input k:4\n",
    "\n",
    "Number of substrings with exactly 4 distinct characters:1"
   ]
  },
  {
   "cell_type": "code",
   "execution_count": 17,
   "metadata": {},
   "outputs": [
    {
     "name": "stdout",
     "output_type": "stream",
     "text": [
      "Input a string (lowercase alphabets):wolf\n",
      "Input k: 4\n",
      "Number of substrings with exactly 4 distinct characters : 1\n"
     ]
    }
   ],
   "source": [
    "def count_k_dist(str1, k): \n",
    "    str_len = len(str1) \n",
    "    result = 0\n",
    "\n",
    "    ctr = [0] * 27\n",
    "\n",
    "    for i in range(0, str_len): \n",
    "        dist_ctr = 0\n",
    "        ctr = [0] * 27\n",
    "\n",
    "        for j in range(i, str_len): \n",
    "            if(ctr[ord(str1[j]) - 97] == 0): \n",
    "                dist_ctr += 1\n",
    "\n",
    "            ctr[ord(str1[j]) - 97] += 1\n",
    "            \n",
    "            if(dist_ctr == k): \n",
    "                result += 1\n",
    "            if(dist_ctr > k): \n",
    "                break\n",
    "\n",
    "    return result \n",
    "\n",
    "str1 = input(\"Input a string (lowercase alphabets):\")\n",
    "k = int(input(\"Input k: \"))\n",
    "print(\"Number of substrings with exactly\", k, \"distinct characters : \", end = \"\") \n",
    "print(count_k_dist(str1, k))\n",
    "\n"
   ]
  },
  {
   "cell_type": "markdown",
   "metadata": {
    "colab_type": "text",
    "id": "AjNf9ot86M4_"
   },
   "source": [
    "### Q18. Write thePython program to count number of non-empty substrings of the given string?\n",
    "\n",
    "Input a string:  w3resource\n",
    "\n",
    "Number of substrings:55"
   ]
  },
  {
   "cell_type": "code",
   "execution_count": 18,
   "metadata": {},
   "outputs": [
    {
     "name": "stdout",
     "output_type": "stream",
     "text": [
      "Input a string: w3resource\n",
      "Number of substrings:\n",
      "55\n"
     ]
    }
   ],
   "source": [
    "def number_of_substrings(str): \n",
    "    str_len = len(str) \n",
    "    return int(str_len * (str_len + 1) / 2) \n",
    "\n",
    "str1 = input(\"Input a string: \")\n",
    "print(\"Number of substrings:\") \n",
    "print(number_of_substrings(str1))"
   ]
  },
  {
   "cell_type": "markdown",
   "metadata": {
    "colab_type": "text",
    "id": "D5RiQYFL6YQC"
   },
   "source": [
    "### Q19.Write thePython program to count number of substrings with same first and last characters of thegiven string?"
   ]
  },
  {
   "cell_type": "code",
   "execution_count": 19,
   "metadata": {},
   "outputs": [
    {
     "name": "stdout",
     "output_type": "stream",
     "text": [
      "Input a string: abcd\n",
      "4\n"
     ]
    }
   ],
   "source": [
    "def no_of_substring_with_equalEnds(str1): \n",
    "    result = 0; \n",
    "    n = len(str1); \n",
    "    for i in range(n): \n",
    "        for j in range(i, n): \n",
    "            if (str1[i] == str1[j]): \n",
    "                result = result + 1\n",
    "    return result \n",
    "str1 = input(\"Input a string: \")\n",
    "print(no_of_substring_with_equalEnds(str1))"
   ]
  },
  {
   "cell_type": "markdown",
   "metadata": {
    "colab_type": "text",
    "id": "6cG4vGyM6baj"
   },
   "source": [
    "### Q20.Write thePython program to count the number of strings where the string length is 2 or more, and first and last character are same from a given list of strings."
   ]
  },
  {
   "cell_type": "code",
   "execution_count": 20,
   "metadata": {
    "colab": {
     "base_uri": "https://localhost:8080/",
     "height": 33
    },
    "colab_type": "code",
    "id": "8eRrIjX-6nzo",
    "outputId": "7846555c-5bb5-46ef-c0bb-2ba62e76bd45"
   },
   "outputs": [
    {
     "name": "stdout",
     "output_type": "stream",
     "text": [
      "2\n"
     ]
    }
   ],
   "source": [
    "def count_nofstr_flc_same(list_of_words):\n",
    "    words = [word for word in list_of_words if word[0] == word[-1]]\n",
    "    return len(words)\n",
    "\n",
    "print(count_nofstr_flc_same(['abc', 'xyz', 'wxw', '1331']))"
   ]
  },
  {
   "cell_type": "markdown",
   "metadata": {
    "colab_type": "text",
    "id": "KFhT0xj_8dzj"
   },
   "source": [
    "### Q21.Write the Python program to get a list, sorted in increasing orderby the last element in each tuple from the given list of non-empty tuples?\n",
    "\n",
    "Sample List -[(2, 5), (1, 2), (4, 4), (2, 3), (2, 1)]\n",
    "\n",
    "Expected Result -[(2, 1), (1, 2), (2, 3), (4, 4), (2, 5)]\n"
   ]
  },
  {
   "cell_type": "code",
   "execution_count": 21,
   "metadata": {
    "colab": {
     "base_uri": "https://localhost:8080/",
     "height": 33
    },
    "colab_type": "code",
    "id": "VASdCK4P8zUY",
    "outputId": "a80a9d6b-5d09-4673-c054-36412de78390"
   },
   "outputs": [
    {
     "name": "stdout",
     "output_type": "stream",
     "text": [
      "[(2, 1), (1, 2), (2, 3), (4, 4), (2, 5)]\n"
     ]
    }
   ],
   "source": [
    "import collections\n",
    "from collections import defaultdict\n",
    "dict = defaultdict(list)\n",
    "list_of_tuples = [(2, 5), (1, 2), (4, 4), (2, 3), (2, 1)]\n",
    "\n",
    "for tpl in list_of_tuples:\n",
    "    dict[tpl[1]] = tpl\n",
    "else:\n",
    "    sorted_dict = sorted(dict.items(), key=lambda kv: kv[0])\n",
    "    sorted_dict = collections.OrderedDict(sorted_dict)\n",
    "    print([value for value in sorted_dict.values()])\n"
   ]
  },
  {
   "cell_type": "markdown",
   "metadata": {
    "colab_type": "text",
    "id": "NVDAIIrqAea5"
   },
   "source": [
    "### Q22. Write thePython program to remove duplicates from a list?"
   ]
  },
  {
   "cell_type": "code",
   "execution_count": 22,
   "metadata": {
    "colab": {
     "base_uri": "https://localhost:8080/",
     "height": 33
    },
    "colab_type": "code",
    "id": "bTtyJvm-AugL",
    "outputId": "7f962fe4-fd18-4ecf-fcea-580d00d04c8a"
   },
   "outputs": [
    {
     "name": "stdout",
     "output_type": "stream",
     "text": [
      "[10, 20, 30, 50, 60, 40, 80]\n"
     ]
    }
   ],
   "source": [
    "list_of_items = [10,20,30,20,10,50,60,40,80,50,40]\n",
    "distinct_list = []\n",
    "for item in list_of_items:\n",
    "    if item not in distinct_list:\n",
    "        distinct_list.append(item)\n",
    "print(distinct_list)"
   ]
  },
  {
   "cell_type": "markdown",
   "metadata": {
    "colab_type": "text",
    "id": "KN96bivPB6fH"
   },
   "source": [
    "### Q23. Write the Python program to find the list of words that are longer than n from a given list of words?"
   ]
  },
  {
   "cell_type": "code",
   "execution_count": 23,
   "metadata": {
    "colab": {
     "base_uri": "https://localhost:8080/",
     "height": 33
    },
    "colab_type": "code",
    "id": "j1fQ6xUDCqem",
    "outputId": "237a9788-97bb-44d4-b520-51a19b7a3690"
   },
   "outputs": [
    {
     "data": {
      "text/plain": [
       "['Artificial Intelligence', 'Neural Networks']"
      ]
     },
     "execution_count": 23,
     "metadata": {},
     "output_type": "execute_result"
    }
   ],
   "source": [
    "def filter_long_words(seq, n):\n",
    "    return [word for word in seq if len(word) > n ]\n",
    "\n",
    "words = ['Artificial Intelligence','Deep Learning', 'Neural Networks', 'Data Mining', 'Data Labeling']\n",
    "filter_long_words(words, 14)"
   ]
  },
  {
   "cell_type": "markdown",
   "metadata": {
    "colab_type": "text",
    "id": "fYgW7e8DDASe"
   },
   "source": [
    "### Q24. Write the Python program to print a specified list after removing the 0th, 4th,and 5th elements?\n",
    "\n",
    "Sample List -['Red', 'Green', 'White', 'Black', 'Pink', 'Yellow']\n",
    "\n",
    "Expected Output -['Green', 'White', 'Black']\n"
   ]
  },
  {
   "cell_type": "code",
   "execution_count": 24,
   "metadata": {
    "colab": {
     "base_uri": "https://localhost:8080/",
     "height": 33
    },
    "colab_type": "code",
    "id": "v838EbfpDC4p",
    "outputId": "310c278c-e065-448d-9aed-aeff0f2c0c33"
   },
   "outputs": [
    {
     "name": "stdout",
     "output_type": "stream",
     "text": [
      "['Green', 'White', 'Black']\n"
     ]
    }
   ],
   "source": [
    "list_of_words = ['Red', 'Green', 'White', 'Black', 'Pink', 'Yellow']\n",
    "filtered_words = [list_of_words[index] for index in range(len(list_of_words)) if index not in [0,4,5]]\n",
    "print(filtered_words)"
   ]
  },
  {
   "cell_type": "markdown",
   "metadata": {
    "colab_type": "text",
    "id": "EuhowLJyEZPC"
   },
   "source": [
    "### Q25. Write the Python program to generate all permutations of a list in Python?"
   ]
  },
  {
   "cell_type": "code",
   "execution_count": 25,
   "metadata": {
    "colab": {
     "base_uri": "https://localhost:8080/",
     "height": 33
    },
    "colab_type": "code",
    "id": "spH24Dc1FA6L",
    "outputId": "ba670728-7d75-478c-a4bd-98b9d3ab4280"
   },
   "outputs": [
    {
     "name": "stdout",
     "output_type": "stream",
     "text": [
      "[(1, 2, 3), (1, 3, 2), (2, 1, 3), (2, 3, 1), (3, 1, 2), (3, 2, 1)]\n"
     ]
    }
   ],
   "source": [
    "from itertools import permutations\n",
    "list = list(permutations([1,2,3]))\n",
    "print(list)"
   ]
  },
  {
   "cell_type": "markdown",
   "metadata": {
    "colab_type": "text",
    "id": "RwtUSKtrHUYs"
   },
   "source": [
    "## Q26. Write the Python program to convert a pair of values into a sorted unique array?"
   ]
  },
  {
   "cell_type": "markdown",
   "metadata": {
    "colab_type": "text",
    "id": "kjY-GOWUqa-Z"
   },
   "source": [
    "Original List- [ (1, 2), (3, 4), (1, 2), (5, 6), (7, 8), (1, 2), (3, 4), (3, 4), (7, 8), (9, 10) ]"
   ]
  },
  {
   "cell_type": "markdown",
   "metadata": {
    "colab_type": "text",
    "id": "FPcr-hnOqehs"
   },
   "source": [
    "Sorted Unique Data- [ 1, 2, 3, 4, 5, 6, 7, 8, 9, 10 ]"
   ]
  },
  {
   "cell_type": "code",
   "execution_count": 26,
   "metadata": {
    "colab": {
     "base_uri": "https://localhost:8080/",
     "height": 33
    },
    "colab_type": "code",
    "id": "ZMCRPVqPHZAA",
    "outputId": "f57dc825-c6df-4fb6-ab66-c8368909103c"
   },
   "outputs": [
    {
     "data": {
      "text/plain": [
       "{1, 2, 3, 4, 5, 6, 7, 8, 9, 10}"
      ]
     },
     "execution_count": 26,
     "metadata": {},
     "output_type": "execute_result"
    }
   ],
   "source": [
    "original_list = [(1, 2), (3, 4), (1, 2), (5, 6), (7, 8), (1, 2), (3, 4), (3, 4), (7,8), (9, 10)]\n",
    "unique_items = set()\n",
    "for v1,v2 in original_list:\n",
    "    unique_items.add(v1)\n",
    "    unique_items.add(v2)\n",
    "\n",
    "unique_items"
   ]
  },
  {
   "cell_type": "markdown",
   "metadata": {
    "colab_type": "text",
    "id": "J-Vabm9gI8d9"
   },
   "source": [
    "### Q27. Write the Python class to convert an integer to a roman numeral?"
   ]
  },
  {
   "cell_type": "code",
   "execution_count": 27,
   "metadata": {
    "colab": {
     "base_uri": "https://localhost:8080/",
     "height": 34
    },
    "colab_type": "code",
    "id": "m9GT9E0xJAgx",
    "outputId": "dea832b9-62b9-4a96-aa69-dbff13549226"
   },
   "outputs": [
    {
     "data": {
      "text/plain": [
       "'MCMDMCM'"
      ]
     },
     "execution_count": 27,
     "metadata": {},
     "output_type": "execute_result"
    }
   ],
   "source": [
    "class roman_numeral:\n",
    "    def __init__(self):\n",
    "        pass\n",
    "    def convert(self, number):\n",
    "        values = [1000, 900, 500, 400, 100, 90, 50, 40, 10, 9, 5, 4, 1]\n",
    "        roman_symbols = ['M', 'CM', 'D', 'CD', 'C', 'XC', 'L', 'XL', 'X', 'IX', 'V', 'IV', 'I']\n",
    " \n",
    "        i = 0\n",
    "        roman_number = ''\n",
    "        while (number > 0):\n",
    "            for i in range(number//values[i]):\n",
    "                roman_number += roman_symbols[i]\n",
    "                number = number - values[i]\n",
    "            i += 1\n",
    "        return roman_number\n",
    "\n",
    "roman = roman_numeral()\n",
    "roman.convert(3523)"
   ]
  },
  {
   "cell_type": "markdown",
   "metadata": {
    "colab_type": "text",
    "id": "lkg4v_UePT65"
   },
   "source": [
    "### Q28 Write thePython class to convert a Roman numeral to an integer?"
   ]
  },
  {
   "cell_type": "code",
   "execution_count": 28,
   "metadata": {
    "colab": {
     "base_uri": "https://localhost:8080/",
     "height": 34
    },
    "colab_type": "code",
    "id": "bsKGjYwYPXEe",
    "outputId": "c078f5c9-e7ed-4ad3-eff2-21be62c8c9bd"
   },
   "outputs": [
    {
     "data": {
      "text/plain": [
       "1900"
      ]
     },
     "execution_count": 28,
     "metadata": {},
     "output_type": "execute_result"
    }
   ],
   "source": [
    "class roman_integer:\n",
    "    def __init__(self):\n",
    "        pass\n",
    "\n",
    "    def convert(self, roman_numeral):\n",
    "        values = [1000, 900, 500, 400, 100, 90, 50, 40, 10, 9, 5, 4, 1]\n",
    "        roman_symbols = ['M', 'CM', 'D', 'CD', 'C', 'XC', 'L', 'XL', 'X', 'IX', 'V', 'IV', 'I'] \n",
    "\n",
    "        _integer = 0\n",
    "        while (len (roman_numeral) > 0):\n",
    "            i = 2\n",
    "            while(i>0):\n",
    "                symbol = roman_numeral[:i]\n",
    "                is_exist = symbol in roman_symbols\n",
    "                i = i-1\n",
    "                if is_exist:\n",
    "                    index = roman_symbols.index(symbol)\n",
    "                    _integer += values[index]\n",
    "                    roman_numeral = roman_numeral[i+1:]\n",
    "                    break\n",
    "        return _integer\n",
    "\n",
    "integer = roman_integer()\n",
    "integer.convert('MCM') "
   ]
  },
  {
   "cell_type": "markdown",
   "metadata": {
    "colab_type": "text",
    "id": "MSWE3mDKU6pZ"
   },
   "source": [
    "### Q29. Write the Python class to find the validity of the string of the parentheses, '(', ')', '{', '}', '[' and '] and the brackets must be closed in the correct order, example -\"()\" and \"()[]{}\" are valid but \"[)\",\"({[)]\" and \"{{{\"are invalid"
   ]
  },
  {
   "cell_type": "code",
   "execution_count": 29,
   "metadata": {
    "colab": {
     "base_uri": "https://localhost:8080/",
     "height": 50
    },
    "colab_type": "code",
    "id": "k7cn87s9bmcw",
    "outputId": "387e0608-120a-4b45-9f10-16fcc2eb4b9a"
   },
   "outputs": [
    {
     "name": "stdout",
     "output_type": "stream",
     "text": [
      "[4 + (3 * 2)] =  valid\n",
      "[4 + (3 * 2) =  invalid\n"
     ]
    }
   ],
   "source": [
    "class string_paranth_validator:\n",
    "    def __init__(self):\n",
    "        self.items = []\n",
    "        \n",
    "    def validate(self, exp):\n",
    "\n",
    "        _valid_exp = 'valid'\n",
    "        _bracket_symbols = ['(', ')', '{', '}','[', ']']\n",
    "\n",
    "        for char in exp:\n",
    "            if char in _bracket_symbols:\n",
    "              if (_bracket_symbols.index(char) % 2 == 1) and (len(self.items) == 0):\n",
    "                  _valid_exp = 'invalid'\n",
    "                  break\n",
    "\n",
    "              elif (_bracket_symbols.index(char) % 2 == 1) and (len(self.items) != 0):\n",
    "                  if  _bracket_symbols[ _bracket_symbols.index(char) - 1 ] not in self.items:\n",
    "                      _valid_exp = 'invalid'\n",
    "                      break\n",
    "                  else:\n",
    "                      self.items.remove(_bracket_symbols[ _bracket_symbols.index(char) - 1 ])\n",
    "              else:\n",
    "                  self.items.append(char)\n",
    "        if len(self.items) != 0:\n",
    "            _valid_exp = 'invalid'\n",
    "        return _valid_exp\n",
    "    \n",
    "\n",
    "expvalidator = string_paranth_validator()\n",
    "print( '[4 + (3 * 2)] = ', expvalidator.validate('[4 + (3 * 2)]') )\n",
    "print( '[4 + (3 * 2) = ', expvalidator.validate('[4 + (3 * 2)') )"
   ]
  },
  {
   "cell_type": "markdown",
   "metadata": {
    "colab_type": "text",
    "id": "6gwvVqj8nVNy"
   },
   "source": [
    "### Q30. Write thePython class to get all possible unique subsets from a set of distinct integers?\n",
    "\n",
    "Input -[4, 5, 6]\n",
    "\n",
    "Output -[[], [6], [5], [5, 6], [4], [4, 6], [4, 5], [4, 5, 6]]"
   ]
  },
  {
   "cell_type": "code",
   "execution_count": 30,
   "metadata": {
    "colab": {
     "base_uri": "https://localhost:8080/",
     "height": 34
    },
    "colab_type": "code",
    "id": "FTmSFr4InxKk",
    "outputId": "fd74337b-e449-4a64-de1c-504898af8145"
   },
   "outputs": [
    {
     "name": "stdout",
     "output_type": "stream",
     "text": [
      "[[], [5], [4], [4, 5]]\n"
     ]
    }
   ],
   "source": [
    "class pos_uniq_subset:\n",
    "    def sub_sets(self, sset):\n",
    "        return self.sub_sets_recur([], sorted(sset))\n",
    "    \n",
    "    def sub_sets_recur(self, current, sset):\n",
    "        if sset:\n",
    "            return self.sub_sets_recur(current, sset[1:]) + self.sub_sets_recur(current + [sset[0]], sset[1:])\n",
    "        return [current]\n",
    "\n",
    "print(pos_uniq_subset().sub_sets([4,5]))"
   ]
  },
  {
   "cell_type": "markdown",
   "metadata": {
    "colab_type": "text",
    "id": "fihNK9_x0HCr"
   },
   "source": [
    "### Q31. Write the Python class to find a pair of elements (indices of the two numbers) from a given array whose sum equals the specific target number?\n",
    "\n",
    "Input: numbers-[10,20,10,40,50,60,70], target=50\n",
    "\n",
    "Output-3, 4"
   ]
  },
  {
   "cell_type": "code",
   "execution_count": 31,
   "metadata": {
    "colab": {
     "base_uri": "https://localhost:8080/",
     "height": 34
    },
    "colab_type": "code",
    "id": "nrKNUg1KVn2j",
    "outputId": "4c14563d-601a-4f37-a4ce-42b896729a35"
   },
   "outputs": [
    {
     "data": {
      "text/plain": [
       "(1, 4)"
      ]
     },
     "execution_count": 31,
     "metadata": {},
     "output_type": "execute_result"
    }
   ],
   "source": [
    "class indices_nums:\n",
    "\n",
    "    def __init__(self):\n",
    "        pass\n",
    "    \n",
    "    def to_find_target(self, list_of_nums, target):\n",
    "\n",
    "        for index, value in enumerate(list_of_nums):\n",
    "            _sublist =  [ x + value for x in list_of_nums[:index]]\n",
    "            if target in _sublist:\n",
    "                return _sublist.index(target)+1, index+1\n",
    "        else:\n",
    "          print('no numbers with indexes to find target') \n",
    "\n",
    "addtwo_indexvalues = indices_nums()\n",
    "addtwo_indexvalues.to_find_target([10,20,10,40,50,60,70], 50)"
   ]
  },
  {
   "cell_type": "markdown",
   "metadata": {
    "colab_type": "text",
    "id": "SIUDP1_DYDVg"
   },
   "source": [
    "### Q32. Write the Python class to find the three elements that sum to zero from the set of n real numbers?\n",
    "\n",
    "Input array-[-25, -10, -7, -3, 2, 4, 8, 10]\n",
    "\n",
    "Output -[[-10, 2, 8], [-7, -3, 10]]"
   ]
  },
  {
   "cell_type": "code",
   "execution_count": 32,
   "metadata": {
    "colab": {
     "base_uri": "https://localhost:8080/",
     "height": 34
    },
    "colab_type": "code",
    "id": "pJoaI9EernrD",
    "outputId": "80359afc-c199-4f1b-fc26-a0b7b1c4c0ae"
   },
   "outputs": [
    {
     "data": {
      "text/plain": [
       "[[-10, 2, 8], [-7, -3, 10]]"
      ]
     },
     "execution_count": 32,
     "metadata": {},
     "output_type": "execute_result"
    }
   ],
   "source": [
    "class three_element_sum0:\n",
    "    def __init__(self):\n",
    "        pass\n",
    "    \n",
    "    def to(self, list_of_nums, target):\n",
    "        is_exists = False\n",
    "        _list_of_triples = []\n",
    "\n",
    "        for i in range(len(list_of_nums) -2):\n",
    "            for j in range(1, len(list_of_nums)-1):\n",
    "                for k in range(2, len(list_of_nums)):\n",
    "                    if (list_of_nums[i] + list_of_nums[j] + list_of_nums[k]) == target:\n",
    "                        for subset in _list_of_triples:\n",
    "                            if( (list_of_nums[i]  in subset) and (list_of_nums[j]  in subset) and (list_of_nums[k] in subset) ):\n",
    "                                is_exists = True\n",
    "                                break\n",
    "                        if is_exists == False:\n",
    "                            _list_of_triples.append( [list_of_nums[i], list_of_nums[j], list_of_nums[k]] )\n",
    "                    is_exists = False\n",
    "        return _list_of_triples\n",
    "\n",
    "\n",
    "threelementsum = three_element_sum0()\n",
    "threelementsum.to([-25, -10, -7, -3, 2, 4, 8, 10], 0)"
   ]
  },
  {
   "cell_type": "markdown",
   "metadata": {
    "colab_type": "text",
    "id": "L5itbE6btz0S"
   },
   "source": [
    "#### Q33. Write the Python class to implement pow(x, n)?"
   ]
  },
  {
   "cell_type": "code",
   "execution_count": 33,
   "metadata": {
    "colab": {
     "base_uri": "https://localhost:8080/",
     "height": 34
    },
    "colab_type": "code",
    "id": "D7ZxBk6Juj4w",
    "outputId": "f8b2a581-4755-4537-c25d-4769080f056e"
   },
   "outputs": [
    {
     "data": {
      "text/plain": [
       "27"
      ]
     },
     "execution_count": 33,
     "metadata": {},
     "output_type": "execute_result"
    }
   ],
   "source": [
    "class power_xn:\n",
    "    def __init__(self):\n",
    "        pass\n",
    "    \n",
    "    def of(self, x, n):\n",
    "        return x**n\n",
    "      \n",
    "\n",
    "power = power_xn()\n",
    "power.of(3,3)"
   ]
  },
  {
   "cell_type": "markdown",
   "metadata": {
    "colab_type": "text",
    "id": "zYIdnf9xvP_4"
   },
   "source": [
    "#### Q34. Write the Python class which has two methods get_String and print_String. get_String accept the string from the user and print_String print the string in upper case."
   ]
  },
  {
   "cell_type": "code",
   "execution_count": 34,
   "metadata": {
    "colab": {
     "base_uri": "https://localhost:8080/",
     "height": 51
    },
    "colab_type": "code",
    "id": "QL74bQrRvdPt",
    "outputId": "199c0eda-da06-4711-d4ab-0cddfeb42534"
   },
   "outputs": [
    {
     "name": "stdout",
     "output_type": "stream",
     "text": [
      "string\n",
      "STRING\n"
     ]
    }
   ],
   "source": [
    "class string_upper:\n",
    "    def __init__(self):\n",
    "        pass\n",
    "\n",
    "    def get_String(self):\n",
    "        self.string = input()\n",
    "\n",
    "    def print_String(self):\n",
    "        print(self.string.upper())\n",
    "\n",
    "mystring = string_upper()\n",
    "mystring.get_String()\n",
    "mystring.print_String()"
   ]
  },
  {
   "cell_type": "markdown",
   "metadata": {
    "colab_type": "text",
    "id": "b18nzGsEwv4k"
   },
   "source": [
    "#### Q35. Write the Python class named Rectangle constructed by a length and width and the method which will compute the area of the rectangle?"
   ]
  },
  {
   "cell_type": "code",
   "execution_count": 35,
   "metadata": {
    "colab": {
     "base_uri": "https://localhost:8080/",
     "height": 34
    },
    "colab_type": "code",
    "id": "bkIpOgmaw76d",
    "outputId": "4da2a9cb-a0e5-4677-cceb-d7ddfab0c829"
   },
   "outputs": [
    {
     "name": "stdout",
     "output_type": "stream",
     "text": [
      "Area of Rectangle is 2000\n"
     ]
    }
   ],
   "source": [
    "class Rectangle:\n",
    "    def __init__(self, length, width):\n",
    "        self.length = length\n",
    "        self.width = width\n",
    "\n",
    "    def area(self):\n",
    "        return self.length * self.width\n",
    "\n",
    "rectangle = Rectangle(40,50)\n",
    "print( 'Area of Rectangle is', rectangle.area() )"
   ]
  },
  {
   "cell_type": "markdown",
   "metadata": {
    "colab_type": "text",
    "id": "o0SQn16qx7o0"
   },
   "source": [
    "### Q36. Write the Python class named Circle constructed by the radius and two methods which will compute the area and perimeter of the circle?"
   ]
  },
  {
   "cell_type": "code",
   "execution_count": 36,
   "metadata": {
    "colab": {
     "base_uri": "https://localhost:8080/",
     "height": 51
    },
    "colab_type": "code",
    "id": "fekpTasNyEC1",
    "outputId": "57f9fdea-798c-4d80-ed70-82bda6c5b652"
   },
   "outputs": [
    {
     "name": "stdout",
     "output_type": "stream",
     "text": [
      "Area = 430.10837999999995\n",
      "Perimeter = 73.52279999999999\n"
     ]
    }
   ],
   "source": [
    "class Circle:\n",
    "    def __init__(self, radius):\n",
    "        self.radius = radius\n",
    "\n",
    "    def area(self):\n",
    "        return 3.142 * (self.radius * self.radius)\n",
    "\n",
    "    def perimeter(self):\n",
    "        return 2 * 3.142 * self.radius\n",
    "\n",
    "circle = Circle(11.7)\n",
    "print( 'Area =', circle.area())\n",
    "print( 'Perimeter =', circle.perimeter())\n"
   ]
  },
  {
   "cell_type": "markdown",
   "metadata": {
    "colab_type": "text",
    "id": "AIduB7dq0D5R"
   },
   "source": [
    "### Q37. Write the Python program to get the class name of an instance in Python?"
   ]
  },
  {
   "cell_type": "code",
   "execution_count": 37,
   "metadata": {
    "colab": {
     "base_uri": "https://localhost:8080/",
     "height": 34
    },
    "colab_type": "code",
    "id": "gaXYn4Rb0Wr8",
    "outputId": "4e1e06f5-a6a9-4573-cd82-dbd188fb90e8"
   },
   "outputs": [
    {
     "name": "stdout",
     "output_type": "stream",
     "text": [
      "Circle\n"
     ]
    }
   ],
   "source": [
    "class Circle:\n",
    "    def __init__(self, radius):\n",
    "        self.radius = radius\n",
    "\n",
    "    def area(self):\n",
    "        return 3.142 * (self.radius * self.radius)\n",
    "\n",
    "    def perimeter(self):\n",
    "        return 2 * 3.142 * self.radius\n",
    "\n",
    "circle = Circle(11.7)\n",
    "print(type(circle).__name__)"
   ]
  },
  {
   "cell_type": "markdown",
   "metadata": {
    "colab_type": "text",
    "id": "Fv48HNAU1ttP"
   },
   "source": [
    "#### Q38. Write thePython program to count the number of students of individual class?"
   ]
  },
  {
   "cell_type": "code",
   "execution_count": 38,
   "metadata": {
    "colab": {
     "base_uri": "https://localhost:8080/",
     "height": 34
    },
    "colab_type": "code",
    "id": "SAso4uz-2dxb",
    "outputId": "e91d5e79-6edd-41b2-cc32-b46229133e2b"
   },
   "outputs": [
    {
     "name": "stdout",
     "output_type": "stream",
     "text": [
      "Counter({'VI': 3, 'V': 2, 'VII': 1})\n"
     ]
    }
   ],
   "source": [
    "from collections import Counter\n",
    "classes = (\n",
    "    ('V', 1),\n",
    "    ('VI', 1),\n",
    "    ('V', 2),\n",
    "    ('VI', 2),\n",
    "    ('VI', 3),\n",
    "    ('VII', 1),\n",
    ")\n",
    "students = Counter(class_name for class_name, no_students in classes)\n",
    "print(students)"
   ]
  },
  {
   "cell_type": "markdown",
   "metadata": {
    "colab_type": "text",
    "id": "2RRn23743DRx"
   },
   "source": [
    "### Q39. Write thePython program to create an instance of an OrderedDict using thegiven dictionary andsort dictionary during the creation and printmembers of the dictionary in reverse order?"
   ]
  },
  {
   "cell_type": "code",
   "execution_count": 39,
   "metadata": {
    "colab": {
     "base_uri": "https://localhost:8080/",
     "height": 238
    },
    "colab_type": "code",
    "id": "7YWE1zxh3ZbA",
    "outputId": "33a4a301-fb80-486b-c9c2-b98a1a2ee4c2"
   },
   "outputs": [
    {
     "name": "stdout",
     "output_type": "stream",
     "text": [
      "Afghanistan 93\n",
      "Albania 355\n",
      "Algeria 213\n",
      "Andorra 376\n",
      "Angola 244\n",
      "\n",
      "In reverse order\n",
      "\n",
      "Angola 244\n",
      "Andorra 376\n",
      "Algeria 213\n",
      "Albania 355\n",
      "Afghanistan 93\n"
     ]
    }
   ],
   "source": [
    "from collections import OrderedDict\n",
    "dict = OrderedDict({'Afghanistan': 93, 'Albania': 355, 'Algeria': 213, 'Andorra': 376, 'Angola': 244})\n",
    "\n",
    "for key, value in dict.items():\n",
    "    print(key, value)\n",
    "\n",
    "print('\\nIn reverse order\\n')\n",
    "for key in reversed(dict):\n",
    "    print(key, dict[key])"
   ]
  },
  {
   "cell_type": "markdown",
   "metadata": {
    "colab_type": "text",
    "id": "A7rjygTw8ewL"
   },
   "source": [
    "### Q40. Write thePython program to compare two unordered lists (not sets)?"
   ]
  },
  {
   "cell_type": "code",
   "execution_count": 40,
   "metadata": {
    "colab": {
     "base_uri": "https://localhost:8080/",
     "height": 34
    },
    "colab_type": "code",
    "id": "BCjTemkQ8hJw",
    "outputId": "8a4c0223-1fe5-40f9-982a-5c85a09883a9"
   },
   "outputs": [
    {
     "data": {
      "text/plain": [
       "False"
      ]
     },
     "execution_count": 40,
     "metadata": {},
     "output_type": "execute_result"
    }
   ],
   "source": [
    "from collections import Counter\n",
    "\n",
    "def compare_list(list1, list2):\n",
    "    return Counter(list1) == Counter(list2)\n",
    "\n",
    "compare_list([1,2,3], [1,3,4])"
   ]
  },
  {
   "cell_type": "markdown",
   "metadata": {
    "colab_type": "text",
    "id": "TUMDcIoC9mR2"
   },
   "source": [
    "### Q41. Write thePython program to get an array buffer information?"
   ]
  },
  {
   "cell_type": "code",
   "execution_count": 41,
   "metadata": {
    "colab": {
     "base_uri": "https://localhost:8080/",
     "height": 50
    },
    "colab_type": "code",
    "id": "odQpyBWgXqQD",
    "outputId": "4a1cef1b-b594-4970-86aa-cc296f795e11"
   },
   "outputs": [
    {
     "name": "stdout",
     "output_type": "stream",
     "text": [
      "Array buffer start address in memory and number of elements.\n",
      " (2421480777440, 2)\n"
     ]
    }
   ],
   "source": [
    "from array import array\n",
    "arr = array(\"I\", (1,2))\n",
    "print('Array buffer start address in memory and number of elements.\\n',arr.buffer_info())"
   ]
  },
  {
   "cell_type": "markdown",
   "metadata": {
    "colab_type": "text",
    "id": "4eZpoUeHcaLy"
   },
   "source": [
    "### Q42. Write thePython program to convert an array to an array of machine values and return thebytes representation?"
   ]
  },
  {
   "cell_type": "code",
   "execution_count": 42,
   "metadata": {
    "colab": {
     "base_uri": "https://localhost:8080/",
     "height": 100
    },
    "colab_type": "code",
    "id": "DhR07y0QcdWD",
    "outputId": "90faa850-971f-464d-99e2-963d3a194287"
   },
   "outputs": [
    {
     "name": "stdout",
     "output_type": "stream",
     "text": [
      "Original array-\n",
      "A1: array('i', [1, 2, 3, 4, 5, 6])\n",
      "\n",
      "Array of bytes:\n",
      " b'010000000200000003000000040000000500000006000000'\n"
     ]
    }
   ],
   "source": [
    "from array import array\n",
    "import binascii\n",
    "\n",
    "A1 = array(\"i\",[1,2,3,4,5,6])\n",
    "print('Original array-\\nA1:', A1)\n",
    "print('\\nArray of bytes:\\n', binascii.hexlify(A1.tobytes())  )"
   ]
  },
  {
   "cell_type": "markdown",
   "metadata": {
    "colab_type": "text",
    "id": "6vlTYmlIsDFp"
   },
   "source": [
    "### Q43. Write the Python program to read a string and interpreting the string as an array of machine values?"
   ]
  },
  {
   "cell_type": "code",
   "execution_count": 43,
   "metadata": {
    "colab": {
     "base_uri": "https://localhost:8080/",
     "height": 67
    },
    "colab_type": "code",
    "id": "gYuDLuq5sFF1",
    "outputId": "8d88df7c-8007-46bd-ea98-681e66ee7db2"
   },
   "outputs": [
    {
     "name": "stdout",
     "output_type": "stream",
     "text": [
      "array1: array('i', [7, 8, 9, 10])\n",
      "Bytes: b'0700000008000000090000000a000000'\n",
      "array2: array('i', [7, 8, 9, 10])\n"
     ]
    }
   ],
   "source": [
    "from array import array\n",
    "import binascii\n",
    "array1 = array('i', [7, 8, 9, 10])\n",
    "print('array1:', array1)\n",
    "as_bytes = array1.tobytes()\n",
    "print('Bytes:', binascii.hexlify(as_bytes))\n",
    "array2 = array('i')\n",
    "array2.frombytes(as_bytes)\n",
    "print('array2:', array2)"
   ]
  },
  {
   "cell_type": "markdown",
   "metadata": {
    "colab_type": "text",
    "id": "9Q4AvLJas9_o"
   },
   "source": [
    "### Q44. Write the Python program to push three items into the heap and return the smallest item from the heap. Also, return and popthe smallest item from the heap?"
   ]
  },
  {
   "cell_type": "code",
   "execution_count": 44,
   "metadata": {
    "colab": {
     "base_uri": "https://localhost:8080/",
     "height": 217
    },
    "colab_type": "code",
    "id": "kLD7Syvltafq",
    "outputId": "f5733a76-007a-4799-e988-ccc5de8bfa2e"
   },
   "outputs": [
    {
     "name": "stdout",
     "output_type": "stream",
     "text": [
      "Items in the heap-\n",
      "('VI', 1)\n",
      "('VII', 2)\n",
      "('VIII', 3)\n",
      "-----------------\n",
      "The smallest item in the heap:\n",
      "[('VI', 1)]\n",
      "-----------------\n",
      "\n",
      "Pop the smallest item in the heap:\n",
      "('VII', 2)\n",
      "('VIII', 3)\n"
     ]
    }
   ],
   "source": [
    "import heapq\n",
    "\n",
    "heap = []\n",
    "heapq.heappush(heap, ('VI', 1))\n",
    "heapq.heappush(heap, ('VII', 2))\n",
    "heapq.heappush(heap, ('VIII' ,3))\n",
    "print('Items in the heap-')\n",
    "for item in heap:\n",
    "    print(item)\n",
    "print('-----------------')\n",
    "\n",
    "print('The smallest item in the heap:')\n",
    "print(heapq.nsmallest(1, heap)) \n",
    "\n",
    "print('-----------------\\n')\n",
    "print('Pop the smallest item in the heap:')\n",
    "heapq.heappop(heap)\n",
    "\n",
    "for item in heap:\n",
    "    print(item)"
   ]
  },
  {
   "cell_type": "markdown",
   "metadata": {
    "colab_type": "text",
    "id": "-GfgqEU9wrkX"
   },
   "source": [
    "### Q45. Write the Python program to locate the left insertion point for a specified value in sorted order?"
   ]
  },
  {
   "cell_type": "code",
   "execution_count": 45,
   "metadata": {
    "colab": {
     "base_uri": "https://localhost:8080/",
     "height": 50
    },
    "colab_type": "code",
    "id": "oUk7HF8mwtyj",
    "outputId": "a8bc1ed5-ccf2-4957-d8bc-b0baeba7c6a4"
   },
   "outputs": [
    {
     "name": "stdout",
     "output_type": "stream",
     "text": [
      "4\n",
      "2\n"
     ]
    }
   ],
   "source": [
    "import bisect\n",
    "def index(a, x):\n",
    "    i = bisect.bisect_left(a, x)\n",
    "    return i\n",
    "    \n",
    "a = [1,2,4,5]\n",
    "print(index(a, 6))\n",
    "print(index(a, 3))"
   ]
  },
  {
   "cell_type": "markdown",
   "metadata": {
    "colab_type": "text",
    "id": "GSOgVg8yxkf1"
   },
   "source": [
    "### Q46. Write thePython program to create theFIFO queue?"
   ]
  },
  {
   "cell_type": "code",
   "execution_count": 46,
   "metadata": {
    "colab": {
     "base_uri": "https://localhost:8080/",
     "height": 33
    },
    "colab_type": "code",
    "id": "ig4GaQgDx57F",
    "outputId": "79df9569-8a2e-40e1-8ad5-0969321fe09f"
   },
   "outputs": [
    {
     "name": "stdout",
     "output_type": "stream",
     "text": [
      "0 1 2 3 "
     ]
    }
   ],
   "source": [
    "import queue\n",
    "\n",
    "q = queue.Queue()\n",
    "q.put(0)\n",
    "q.put(1)\n",
    "q.put(2)\n",
    "q.put(3)\n",
    "\n",
    "while not q.empty():\n",
    "    print(q.get(), end=\" \")\n"
   ]
  },
  {
   "cell_type": "markdown",
   "metadata": {
    "colab_type": "text",
    "id": "4bcWnk_byqgx"
   },
   "source": [
    "### Q47. Write the Python program to calculate the harmonic sum of n-1.Note: The harmonic sum is the sum of reciprocals of the positive Integers?"
   ]
  },
  {
   "cell_type": "code",
   "execution_count": 47,
   "metadata": {
    "colab": {
     "base_uri": "https://localhost:8080/",
     "height": 33
    },
    "colab_type": "code",
    "id": "JgZjMFoVzL13",
    "outputId": "2e2dd353-d1fe-4a03-9a6e-ffbf050c2c39"
   },
   "outputs": [
    {
     "name": "stdout",
     "output_type": "stream",
     "text": [
      "2.9289682539682538\n"
     ]
    }
   ],
   "source": [
    "n = 10\n",
    "sum = 1\n",
    "for i in range(2, n+1):\n",
    "    sum += 1/i\n",
    "print(sum)"
   ]
  },
  {
   "cell_type": "markdown",
   "metadata": {
    "colab_type": "text",
    "id": "wFuZUsrQ1s7U"
   },
   "source": [
    "### Q48. Write the NumPy program to create a 2d array with 6 on the border and 0 inside?"
   ]
  },
  {
   "cell_type": "code",
   "execution_count": 48,
   "metadata": {
    "colab": {
     "base_uri": "https://localhost:8080/",
     "height": 251
    },
    "colab_type": "code",
    "id": "p4IzziTL1vBt",
    "outputId": "f2c2bdce-e4ee-444f-d737-28db5871cac3"
   },
   "outputs": [
    {
     "name": "stdout",
     "output_type": "stream",
     "text": [
      "\n",
      "\n",
      "6 on the border and 0 inside in the array-\n",
      "[[6 6 6 6 6 6]\n",
      " [6 0 0 0 0 6]\n",
      " [6 0 0 0 0 6]\n",
      " [6 0 0 0 0 6]\n",
      " [6 0 0 0 0 6]\n",
      " [6 6 6 6 6 6]]\n"
     ]
    }
   ],
   "source": [
    "import numpy as np\n",
    "arr = np.zeros((6,6), dtype = int)\n",
    "arr[:] = 6\n",
    "\n",
    "arr[1:-1, 1:-1] = 0\n",
    "print('\\n\\n6 on the border and 0 inside in the array-')\n",
    "print(arr)"
   ]
  },
  {
   "cell_type": "markdown",
   "metadata": {
    "colab_type": "text",
    "id": "iwErjuYw6tQP"
   },
   "source": [
    "### Q49. Write the NumPy program to create a 8x8 matrix and fillit with the checkerboard pattern?"
   ]
  },
  {
   "cell_type": "code",
   "execution_count": 49,
   "metadata": {
    "colab": {
     "base_uri": "https://localhost:8080/",
     "height": 150
    },
    "colab_type": "code",
    "id": "aHglA8LA69UK",
    "outputId": "bca3e0a5-84d2-478d-d1ee-b067f89484d5"
   },
   "outputs": [
    {
     "data": {
      "text/plain": [
       "array([[3, 9, 3, 9, 3, 9, 3, 9],\n",
       "       [3, 9, 3, 9, 3, 9, 3, 9],\n",
       "       [3, 9, 3, 9, 3, 9, 3, 9],\n",
       "       [3, 9, 3, 9, 3, 9, 3, 9],\n",
       "       [3, 9, 3, 9, 3, 9, 3, 9],\n",
       "       [3, 9, 3, 9, 3, 9, 3, 9],\n",
       "       [3, 9, 3, 9, 3, 9, 3, 9],\n",
       "       [3, 9, 3, 9, 3, 9, 3, 9]])"
      ]
     },
     "execution_count": 49,
     "metadata": {},
     "output_type": "execute_result"
    }
   ],
   "source": [
    "import numpy as np\n",
    "arr = np.zeros((8,8), dtype=int)\n",
    "arr[:] = [3,9,3,9,3,9,3,9]\n",
    "arr"
   ]
  },
  {
   "cell_type": "markdown",
   "metadata": {
    "colab_type": "text",
    "id": "7ez4KugO74TG"
   },
   "source": [
    "### Q50. Write theNumPy program to create an empty and a full array"
   ]
  },
  {
   "cell_type": "code",
   "execution_count": 50,
   "metadata": {
    "colab": {
     "base_uri": "https://localhost:8080/",
     "height": 117
    },
    "colab_type": "code",
    "id": "CBNfI-JZ7_TA",
    "outputId": "40205507-1e67-4cc7-85ed-cfa0f1ba02db"
   },
   "outputs": [
    {
     "name": "stdout",
     "output_type": "stream",
     "text": [
      "[[1.19637318e-311 3.16202013e-322 0.00000000e+000 0.00000000e+000]\n",
      " [1.33508845e-306 7.93498164e+165 1.14394707e-071 2.05470552e+160]\n",
      " [7.25086136e-042 1.31537233e-047 2.95762887e-032 1.93382020e-076]]\n",
      "[[6 6 6]\n",
      " [6 6 6]\n",
      " [6 6 6]]\n"
     ]
    }
   ],
   "source": [
    "import numpy as np\n",
    "arr_embty = np.empty((3,4))\n",
    "print(arr_embty)\n",
    "\n",
    "arr_full = np.full((3,3), 6)\n",
    "print(arr_full)"
   ]
  },
  {
   "cell_type": "markdown",
   "metadata": {
    "colab_type": "text",
    "id": "7nXf-e5b8mXW"
   },
   "source": [
    "### Q51. Write the NumPy program to convert the values of Centigradedegrees into the Fahrenheit degrees and the centigrade values are stored in theNumPy array"
   ]
  },
  {
   "cell_type": "code",
   "execution_count": 52,
   "metadata": {
    "colab": {
     "base_uri": "https://localhost:8080/",
     "height": 84
    },
    "colab_type": "code",
    "id": "6wd9E8yr9AUn",
    "outputId": "777e67f8-a933-4919-d77a-8f359dd2c949"
   },
   "outputs": [
    {
     "name": "stdout",
     "output_type": "stream",
     "text": [
      "Values in Fahrenheit degrees:\n",
      "[ 0.   12.   45.21 34.   99.91]\n",
      "Values in Centigrade degrees:\n",
      "[-17.77777778 -11.11111111   7.33888889   1.11111111  37.72777778]\n"
     ]
    }
   ],
   "source": [
    "import numpy as np\n",
    "fvalues = [0, 12, 45.21, 34, 99.91]\n",
    "F = np.array(fvalues)\n",
    "print(\"Values in Fahrenheit degrees:\")\n",
    "print(F)\n",
    "print(\"Values in Centigrade degrees:\")\n",
    "print(5*F/9 - 5*32/9)"
   ]
  },
  {
   "cell_type": "markdown",
   "metadata": {
    "colab_type": "text",
    "id": "EKq7XwOvAOXS"
   },
   "source": [
    "##### Q52. Write the NumPy program to find the real and imaginary parts of an array of complex numbers?"
   ]
  },
  {
   "cell_type": "code",
   "execution_count": 53,
   "metadata": {
    "colab": {
     "base_uri": "https://localhost:8080/",
     "height": 100
    },
    "colab_type": "code",
    "id": "JCKVZLClAQyF",
    "outputId": "bc200fd3-7f4a-4805-c162-048fcbdb77f7"
   },
   "outputs": [
    {
     "name": "stdout",
     "output_type": "stream",
     "text": [
      "Original array  [(1+0j), (0.70710678+0.70710678j)]\n",
      "Real part of the array-\n",
      "[1.         0.70710678]\n",
      "imaginary part of the array-\n",
      "[0.         0.70710678]\n"
     ]
    }
   ],
   "source": [
    "import numpy as np\n",
    "x =  [1.00000000+0.j, 0.70710678+0.70710678j]\n",
    "real = np.array([])\n",
    "imag = np.array([])\n",
    "for complex_no in x:\n",
    "    real = np.append(real, complex_no.real)\n",
    "    imag = np.append(imag, complex_no.imag)\n",
    "print('Original array ', x)\n",
    "print('Real part of the array-')\n",
    "print(real)\n",
    "print('imaginary part of the array-')\n",
    "print(imag)"
   ]
  },
  {
   "cell_type": "markdown",
   "metadata": {
    "colab_type": "text",
    "id": "4gaRYq8uFoUh"
   },
   "source": [
    "### Q53. Write theNumPy program to test whether each element of a 1-D array is also present in thesecond array?"
   ]
  },
  {
   "cell_type": "code",
   "execution_count": 54,
   "metadata": {
    "colab": {
     "base_uri": "https://localhost:8080/",
     "height": 84
    },
    "colab_type": "code",
    "id": "74DxfPPjFrhi",
    "outputId": "2cc2388b-6218-41c1-a2e5-7dc9adf7bcde"
   },
   "outputs": [
    {
     "name": "stdout",
     "output_type": "stream",
     "text": [
      "Array1:  [ 0 10 20 40 60]\n",
      "Array2:  [ 0 40]\n",
      "Compare each element of array1 and array2\n",
      "[ True False False  True False]\n"
     ]
    }
   ],
   "source": [
    "import numpy as np\n",
    "arr1 = np.array([0, 10, 20, 40, 60])\n",
    "arr2 = np.array([0, 40])\n",
    "print('Array1: ', arr1)\n",
    "print('Array2: ', arr2)\n",
    "print('Compare each element of array1 and array2')\n",
    "print(np.in1d(arr1, arr2))\n"
   ]
  },
  {
   "cell_type": "markdown",
   "metadata": {
    "colab_type": "text",
    "id": "znC7uWPZGprR"
   },
   "source": [
    "### Q54. Write theNumPy program to find common values between two arrays?"
   ]
  },
  {
   "cell_type": "code",
   "execution_count": 55,
   "metadata": {
    "colab": {
     "base_uri": "https://localhost:8080/",
     "height": 84
    },
    "colab_type": "code",
    "id": "Ww0ohmyiGxi1",
    "outputId": "4fd5393a-b477-4ba2-b56d-11a65e106717"
   },
   "outputs": [
    {
     "name": "stdout",
     "output_type": "stream",
     "text": [
      "Array1: [ 0 10 20 40 60]\n",
      "Array2: [10 30 40]\n",
      "Common values between two arrays-\n",
      "[10 40]\n"
     ]
    }
   ],
   "source": [
    "import numpy as np\n",
    "arr1 = np.array([0, 10, 20, 40, 60])\n",
    "arr2 = np.array([10, 30, 40])\n",
    "print('Array1:', arr1)\n",
    "print('Array2:', arr2)\n",
    "print('Common values between two arrays-')\n",
    "print(np.intersect1d(arr1, arr2))\n"
   ]
  },
  {
   "cell_type": "markdown",
   "metadata": {
    "colab_type": "text",
    "id": "x-jUBZy0Htd4"
   },
   "source": [
    "### Q55. Write theNumPy program to get the unique elements of an array?"
   ]
  },
  {
   "cell_type": "code",
   "execution_count": 56,
   "metadata": {
    "colab": {
     "base_uri": "https://localhost:8080/",
     "height": 167
    },
    "colab_type": "code",
    "id": "gnO8fJXdH_nc",
    "outputId": "a235c50c-f60b-4638-dcc3-67a49550c1ea"
   },
   "outputs": [
    {
     "name": "stdout",
     "output_type": "stream",
     "text": [
      "Original array-\n",
      "[10 10 20 20 30 30]\n",
      "Unique elements of the above array-\n",
      "[10 20 30]\n",
      "Original array-\n",
      "[[1 1]\n",
      " [2 3]]\n",
      "Unique elements of the above array-\n",
      "[1 2 3]\n"
     ]
    }
   ],
   "source": [
    "import numpy as np\n",
    "\n",
    "arr = np.array([10, 10, 20, 20, 30, 30])\n",
    "print('Original array-')\n",
    "print(arr)\n",
    "print('Unique elements of the above array-')\n",
    "print(np.unique(arr))\n",
    "\n",
    "arr = np.array( [[1,1], [2,3]]  )\n",
    "print('Original array-')\n",
    "print(arr)\n",
    "print('Unique elements of the above array-')\n",
    "print(np.unique(arr))"
   ]
  },
  {
   "cell_type": "markdown",
   "metadata": {
    "colab_type": "text",
    "id": "TuzrArzlJI8h"
   },
   "source": [
    "### Q56. Write the NumPy program to find the set exclusive-or of two arrays. Set exclusive-or will return the sorted, unique values that are in only one (not both) of the input arrays?"
   ]
  },
  {
   "cell_type": "code",
   "execution_count": 57,
   "metadata": {
    "colab": {
     "base_uri": "https://localhost:8080/",
     "height": 84
    },
    "colab_type": "code",
    "id": "KtYVqaXRJK6g",
    "outputId": "703d11dc-d75a-405c-8354-766fc10eafbd"
   },
   "outputs": [
    {
     "name": "stdout",
     "output_type": "stream",
     "text": [
      "Array1- [ 0 10 20 40 60 80]\n",
      "Array2- [10 30 40 50 79]\n",
      "Unique values that are in only one (not both) of the input arrays-\n",
      "[ 0 20 30 50 60 79 80]\n"
     ]
    }
   ],
   "source": [
    "import numpy as np\n",
    "arr1 = np.array([0, 10, 20, 40, 60, 80])\n",
    "arr2 = np.array([10, 30, 40, 50, 79])\n",
    "print('Array1-', arr1)\n",
    "print('Array2-', arr2)\n",
    "print('Unique values that are in only one (not both) of the input arrays-')\n",
    "print(np.setxor1d(arr1, arr2))"
   ]
  },
  {
   "cell_type": "markdown",
   "metadata": {
    "colab_type": "text",
    "id": "mV1WGxrsK0t4"
   },
   "source": [
    "### Q57. Write theNumPy program to test if all elements in an array evaluate to True?"
   ]
  },
  {
   "cell_type": "code",
   "execution_count": 58,
   "metadata": {
    "colab": {
     "base_uri": "https://localhost:8080/",
     "height": 84
    },
    "colab_type": "code",
    "id": "bhCIbIrKLKed",
    "outputId": "5c26d040-7d2c-4fc5-c8ac-e095abfadadb"
   },
   "outputs": [
    {
     "name": "stdout",
     "output_type": "stream",
     "text": [
      "True\n",
      "False\n",
      "True\n",
      "False\n"
     ]
    }
   ],
   "source": [
    "import numpy as np\n",
    "print(np.all([12, 34, 3, 1]))\n",
    "print(np.all([12, 0, 3, 1]))\n",
    "print(np.all([[12, 34], [3, 1]]))\n",
    "print(np.all([[12, 34], [0, 1]]))\n"
   ]
  },
  {
   "cell_type": "markdown",
   "metadata": {
    "colab_type": "text",
    "id": "tEkJDFsRL-0w"
   },
   "source": [
    "### Q58 Write theNumPy program to test whether any array element along thegiven axis evaluates to True?"
   ]
  },
  {
   "cell_type": "code",
   "execution_count": 59,
   "metadata": {
    "colab": {
     "base_uri": "https://localhost:8080/",
     "height": 50
    },
    "colab_type": "code",
    "id": "VdnJBK1INgdc",
    "outputId": "436b017b-3c9e-451d-a289-23c038b5d5a9"
   },
   "outputs": [
    {
     "name": "stdout",
     "output_type": "stream",
     "text": [
      "[ True False]\n",
      "[False  True]\n"
     ]
    }
   ],
   "source": [
    "import numpy as np\n",
    "print(np.all([[12, 34], [0, 1]],axis=1))\n",
    "print(np.all([[12, 34], [0, 1]],axis=0))"
   ]
  },
  {
   "cell_type": "markdown",
   "metadata": {
    "colab_type": "text",
    "id": "FHud_W3HOZxn"
   },
   "source": [
    "#### Q59. Write the NumPy program to construct an array by repeating?"
   ]
  },
  {
   "cell_type": "code",
   "execution_count": 60,
   "metadata": {
    "colab": {
     "base_uri": "https://localhost:8080/",
     "height": 117
    },
    "colab_type": "code",
    "id": "7nU5Pl7OOcdo",
    "outputId": "6c16d3e2-95de-48b8-ca14-13bfdcebc556"
   },
   "outputs": [
    {
     "name": "stdout",
     "output_type": "stream",
     "text": [
      "Original array\n",
      "[1 2 3 4]\n",
      "Repeating 2 times\n",
      "[1 2 3 4 1 2 3 4]\n",
      "Repeating 3 times\n",
      "[1 2 3 4 1 2 3 4 1 2 3 4]\n"
     ]
    }
   ],
   "source": [
    "arr = np.array([1, 2, 3, 4])\n",
    "print('Original array')\n",
    "print(arr)\n",
    "print('Repeating 2 times')\n",
    "print(np.tile(arr, 2))\n",
    "print('Repeating 3 times')\n",
    "print(np.tile(arr, 3))"
   ]
  },
  {
   "cell_type": "markdown",
   "metadata": {
    "colab_type": "text",
    "id": "6eXYu1v5QRoa"
   },
   "source": [
    "### Q60. Write the NumPy program to find the indices of the maximum and minimum values withthe given axis of an array?"
   ]
  },
  {
   "cell_type": "code",
   "execution_count": 61,
   "metadata": {
    "colab": {
     "base_uri": "https://localhost:8080/",
     "height": 67
    },
    "colab_type": "code",
    "id": "uXwQrsPkQUC3",
    "outputId": "040915b4-df40-40c0-e99e-19c00b799afe"
   },
   "outputs": [
    {
     "name": "stdout",
     "output_type": "stream",
     "text": [
      "Original array- [1 2 3 4 5 6]\n",
      "Maximum Values- 5\n",
      "Minimum Values- 0\n"
     ]
    }
   ],
   "source": [
    "import numpy as np\n",
    "arr = np.array([1, 2, 3, 4, 5, 6])\n",
    "print('Original array-', arr)\n",
    "print('Maximum Values-', np.argmax(arr))\n",
    "print('Minimum Values-', np.argmin(arr))"
   ]
  },
  {
   "cell_type": "markdown",
   "metadata": {
    "colab_type": "text",
    "id": "smpx6ydYqhvv"
   },
   "source": [
    "### Q61. Write theNumPy program compare two arrays using numpy?"
   ]
  },
  {
   "cell_type": "code",
   "execution_count": 62,
   "metadata": {
    "colab": {
     "base_uri": "https://localhost:8080/",
     "height": 187
    },
    "colab_type": "code",
    "id": "Fgo4a-FAqmKN",
    "outputId": "a951ccf3-bcf2-47d0-d1f0-4e5773eb8085"
   },
   "outputs": [
    {
     "name": "stdout",
     "output_type": "stream",
     "text": [
      "Array a- [1 2]\n",
      "Array b- [4 5]\n",
      "a>b\n",
      "[False False]\n",
      "a>=b\n",
      "[False False]\n",
      "a<b\n",
      "[ True  True]\n",
      "a<=b\n",
      "[ True  True]\n"
     ]
    }
   ],
   "source": [
    "import numpy as np\n",
    "a = np.array([1,2])\n",
    "b = np.array([4,5])\n",
    "print('Array a-', a)\n",
    "print('Array b-', b)\n",
    "print('a>b')\n",
    "print(np.greater(a, b))\n",
    "print('a>=b')\n",
    "print(np.greater_equal(a,b))\n",
    "print('a<b')\n",
    "print(np.less(a,b))\n",
    "print('a<=b')\n",
    "print(np.less_equal(a,b))"
   ]
  },
  {
   "cell_type": "markdown",
   "metadata": {
    "colab_type": "text",
    "id": "_7wjrkhKrgrP"
   },
   "source": [
    "### Q62. Write the NumPy program to sort an along the first, last axis of an array?"
   ]
  },
  {
   "cell_type": "code",
   "execution_count": 63,
   "metadata": {
    "colab": {
     "base_uri": "https://localhost:8080/",
     "height": 170
    },
    "colab_type": "code",
    "id": "phHRpecFrzdT",
    "outputId": "43ddb489-62d0-48fd-c2d4-f93b447b0042"
   },
   "outputs": [
    {
     "name": "stdout",
     "output_type": "stream",
     "text": [
      "Original array: \n",
      "[[4 6]\n",
      " [2 1]]\n",
      "Sort along the first axis:\n",
      "[[2 1]\n",
      " [4 6]]\n",
      "Sort along the last axis:\n",
      "[[1 2]\n",
      " [4 6]]\n"
     ]
    }
   ],
   "source": [
    "import numpy as np\n",
    "a = np.array([[4,6],[2,1]])\n",
    "print('Original array: ')\n",
    "print(a)\n",
    "print('Sort along the first axis:')\n",
    "x = np.sort(a, axis=0)\n",
    "print(x)\n",
    "print('Sort along the last axis:')\n",
    "y = np.sort(x, axis=1)\n",
    "print(y)"
   ]
  },
  {
   "cell_type": "markdown",
   "metadata": {
    "colab_type": "text",
    "id": "3nv47BI6tlir"
   },
   "source": [
    "### Q63. Write the NumPy program to sort pairs of first name and last name return their indices(first by last name, then by first name)."
   ]
  },
  {
   "cell_type": "code",
   "execution_count": 64,
   "metadata": {
    "colab": {
     "base_uri": "https://localhost:8080/",
     "height": 51
    },
    "colab_type": "code",
    "id": "kXOhybSYtoVq",
    "outputId": "b6bbb49d-1950-4f0b-9eae-ca29f7f53026"
   },
   "outputs": [
    {
     "name": "stdout",
     "output_type": "stream",
     "text": [
      "[1 3 2 4 0]\n"
     ]
    }
   ],
   "source": [
    "import numpy as np\n",
    "first_names =    ('Margery', 'Betsey', 'Shelley', 'Lanell', 'Genesis')\n",
    "last_names = ('Woolum', 'Battle', 'Plotner', 'Brien', 'Stahl')\n",
    "x = np.lexsort((first_names, last_names))\n",
    "print(x)"
   ]
  },
  {
   "cell_type": "markdown",
   "metadata": {
    "colab_type": "text",
    "id": "eK1UYXLpuktG"
   },
   "source": [
    "### Q64. Write the NumPy program to get the values and indices of the elements that are bigger than 10  int he given array?"
   ]
  },
  {
   "cell_type": "code",
   "execution_count": 65,
   "metadata": {
    "colab": {
     "base_uri": "https://localhost:8080/",
     "height": 102
    },
    "colab_type": "code",
    "id": "X6QtgsMiuw8i",
    "outputId": "de7d26f6-16c7-4a07-f3de-eebbf5917a9b"
   },
   "outputs": [
    {
     "name": "stdout",
     "output_type": "stream",
     "text": [
      "Original array-\n",
      "[[ 0 10 20]\n",
      " [20 30 40]]\n",
      "Values bigger than 10= [20 20 30 40]\n",
      "Their indices are  (array([0, 1, 1, 1], dtype=int64), array([2, 0, 1, 2], dtype=int64))\n"
     ]
    }
   ],
   "source": [
    "import numpy as np\n",
    "x = np.array([[0,10,20],[20,30,40]])\n",
    "print('Original array-')\n",
    "print(x)\n",
    "print('Values bigger than 10=', x[x>10])\n",
    "print('Their indices are ', np.nonzero(x>10))"
   ]
  },
  {
   "cell_type": "markdown",
   "metadata": {
    "colab_type": "text",
    "id": "2CcwKs2cxeRG"
   },
   "source": [
    "### Q65. Write the NumPy program to find the memory size of a NumPy array?"
   ]
  },
  {
   "cell_type": "code",
   "execution_count": 66,
   "metadata": {
    "colab": {
     "base_uri": "https://localhost:8080/",
     "height": 34
    },
    "colab_type": "code",
    "id": "Da44hloWxtrU",
    "outputId": "bd6b3833-7174-43d7-a688-12ba3020d298"
   },
   "outputs": [
    {
     "name": "stdout",
     "output_type": "stream",
     "text": [
      "128 bytes\n"
     ]
    }
   ],
   "source": [
    "import numpy as np\n",
    "x = np.ones((4,4))\n",
    "print(\"%d bytes\" % (x.size * x.itemsize) )"
   ]
  },
  {
   "cell_type": "markdown",
   "metadata": {
    "colab_type": "text",
    "id": "x549ud5OyNQd"
   },
   "source": [
    "### Q66. Write the NumPy program to create an array of ones and an array of zeros?"
   ]
  },
  {
   "cell_type": "code",
   "execution_count": 67,
   "metadata": {
    "colab": {
     "base_uri": "https://localhost:8080/",
     "height": 187
    },
    "colab_type": "code",
    "id": "PrVlh91107e8",
    "outputId": "1659df62-c251-42bc-fcc7-bd9e2a9ca37a"
   },
   "outputs": [
    {
     "name": "stdout",
     "output_type": "stream",
     "text": [
      "Create an array of zeros\n",
      "Default type is float\n",
      "[[0. 0.]]\n",
      "Type changes to int\n",
      "[[0 0]]\n",
      "Create an array of ones\n",
      "Default type is float\n",
      "[[1. 1.]]\n",
      "Type changes to int\n",
      "[[1 1]]\n"
     ]
    }
   ],
   "source": [
    "import numpy as np\n",
    "print('Create an array of zeros')\n",
    "x = np.zeros((1,2))\n",
    "print('Default type is float')\n",
    "print(x)\n",
    "print('Type changes to int')\n",
    "x = x.astype(np.int)\n",
    "print(x)\n",
    "\n",
    "print('Create an array of ones')\n",
    "y = np.ones((1,2))\n",
    "print('Default type is float')\n",
    "print(y)\n",
    "print('Type changes to int')\n",
    "y = y.astype(np.int)\n",
    "print(y)"
   ]
  },
  {
   "cell_type": "markdown",
   "metadata": {
    "colab_type": "text",
    "id": "gnJT1Rm252gn"
   },
   "source": [
    "### Q67. Write the NumPy program to change the dimension of an array?"
   ]
  },
  {
   "cell_type": "code",
   "execution_count": 68,
   "metadata": {
    "colab": {
     "base_uri": "https://localhost:8080/",
     "height": 187
    },
    "colab_type": "code",
    "id": "XNytvSJb54vk",
    "outputId": "a25f77e2-d0e7-4c84-ec55-2e3c2121d26d"
   },
   "outputs": [
    {
     "name": "stdout",
     "output_type": "stream",
     "text": [
      "6 rows and 0 columns\n",
      "(6,)\n",
      "(3, 3) -> 3 rows and 3 columns\n",
      "[[1 2 3]\n",
      " [4 5 6]\n",
      " [7 8 9]]\n",
      "Change array shape to (3, 3) -> 3 rows and 3 columns\n",
      "[[1 2 3]\n",
      " [4 5 6]\n",
      " [7 8 9]]\n"
     ]
    }
   ],
   "source": [
    "import numpy as np\n",
    "arr1 = np.array([1,2,3,4,5,6])\n",
    "print('6 rows and 0 columns')\n",
    "print(arr.shape)\n",
    "\n",
    "arr2 = np.array([[1,2,3],[4,5,6],[7,8,9]])\n",
    "print('(3, 3) -> 3 rows and 3 columns')\n",
    "print(arr2)\n",
    "\n",
    "arr3 = np.array([1,2,3,4,5,6,7,8,9])\n",
    "print('Change array shape to (3, 3) -> 3 rows and 3 columns')\n",
    "arr3 = arr3.reshape(3,3)\n",
    "print(arr3)"
   ]
  },
  {
   "cell_type": "markdown",
   "metadata": {
    "colab_type": "text",
    "id": "af0zZafHmVfp"
   },
   "source": [
    "### Q68. Write the NumPy program to create a new shape to an array without changing its data ?"
   ]
  },
  {
   "cell_type": "code",
   "execution_count": 69,
   "metadata": {
    "colab": {
     "base_uri": "https://localhost:8080/",
     "height": 136
    },
    "colab_type": "code",
    "id": "Ek2Vj-u6m2ru",
    "outputId": "d46a9865-d903-41c9-9dd6-0bea6b9cbe25"
   },
   "outputs": [
    {
     "name": "stdout",
     "output_type": "stream",
     "text": [
      "Reshape 3x2-\n",
      "[[1 2]\n",
      " [3 4]\n",
      " [5 6]]\n",
      "Reshape 2x3-\n",
      "[[1 2 3]\n",
      " [4 5 6]]\n"
     ]
    }
   ],
   "source": [
    "import numpy as np\n",
    "x = np.array([1,2,3,4,5,6])\n",
    "x = x.reshape((3,2))\n",
    "print('Reshape 3x2-')\n",
    "print(x)\n",
    "x = x.reshape((2,3))\n",
    "print('Reshape 2x3-')\n",
    "print(x)"
   ]
  },
  {
   "cell_type": "markdown",
   "metadata": {
    "colab_type": "text",
    "id": "H8cz366Tnmqt"
   },
   "source": [
    "### Q69. Write the NumPy program to create a new array of 3*5, filled with 2?"
   ]
  },
  {
   "cell_type": "code",
   "execution_count": 70,
   "metadata": {
    "colab": {
     "base_uri": "https://localhost:8080/",
     "height": 119
    },
    "colab_type": "code",
    "id": "_9i0j0Fvqznr",
    "outputId": "40f7c998-680c-4ccd-d8dc-000526bc18d0"
   },
   "outputs": [
    {
     "name": "stdout",
     "output_type": "stream",
     "text": [
      "[[2 2 2 2 2]\n",
      " [2 2 2 2 2]\n",
      " [2 2 2 2 2]]\n",
      "[[2 2 2 2 2]\n",
      " [2 2 2 2 2]\n",
      " [2 2 2 2 2]]\n"
     ]
    }
   ],
   "source": [
    "import numpy as np\n",
    "x = np.full((3,5), 2, dtype=np.int)\n",
    "print(x)\n",
    "\n",
    "y = np.ones([3,5], dtype= np.int) * 2\n",
    "print(y)"
   ]
  },
  {
   "cell_type": "markdown",
   "metadata": {
    "colab_type": "text",
    "id": "Q21PMbc-sMDE"
   },
   "source": [
    "### Q70. Write the NumPy program to create a 3-D array with ones on a diagonal and zeros elsewhere?"
   ]
  },
  {
   "cell_type": "code",
   "execution_count": 71,
   "metadata": {
    "colab": {
     "base_uri": "https://localhost:8080/",
     "height": 68
    },
    "colab_type": "code",
    "id": "4hOfdhJQsfKd",
    "outputId": "6b8383be-b1c3-4ff6-90fb-c5701bd3616d"
   },
   "outputs": [
    {
     "name": "stdout",
     "output_type": "stream",
     "text": [
      "[[1. 0. 0.]\n",
      " [0. 1. 0.]\n",
      " [0. 0. 1.]]\n"
     ]
    }
   ],
   "source": [
    "import numpy as np\n",
    "x = np.eye(3)\n",
    "print(x)"
   ]
  },
  {
   "cell_type": "markdown",
   "metadata": {
    "colab_type": "text",
    "id": "LHvXN3biuhnW"
   },
   "source": [
    "### Q71. Write the NumPy program to split an array of 14 elements into the 3 arrays and each of which has 2, 4,and 8 elements in original order?"
   ]
  },
  {
   "cell_type": "code",
   "execution_count": 72,
   "metadata": {
    "colab": {
     "base_uri": "https://localhost:8080/",
     "height": 67
    },
    "colab_type": "code",
    "id": "9_Pch-kLvC3L",
    "outputId": "af8c4d41-652d-4a74-cba9-46f5f8ce3e5f"
   },
   "outputs": [
    {
     "name": "stdout",
     "output_type": "stream",
     "text": [
      "Original array: [ 1  2  3  4  5  6  7  8  9 10 11 12 13 14]\n",
      "After splitting:\n",
      "[array([1, 2]), array([3, 4, 5, 6]), array([ 7,  8,  9, 10, 11, 12, 13, 14])]\n"
     ]
    }
   ],
   "source": [
    "import numpy as np\n",
    "x = np.arange(1,15)\n",
    "print('Original array:', x)\n",
    "print('After splitting:')\n",
    "print( np.split(x, [2,6]))\n"
   ]
  },
  {
   "cell_type": "markdown",
   "metadata": {
    "colab_type": "text",
    "id": "xrK3WKyS4pKM"
   },
   "source": [
    "### Q72. Write the NumPy program to split of an array of shape 4x4 it into two arrays along the second axis ?"
   ]
  },
  {
   "cell_type": "code",
   "execution_count": 73,
   "metadata": {
    "colab": {
     "base_uri": "https://localhost:8080/",
     "height": 134
    },
    "colab_type": "code",
    "id": "a3qogTrU5EZA",
    "outputId": "6a566b78-7e90-44ff-9667-90d81cb159bf"
   },
   "outputs": [
    {
     "name": "stdout",
     "output_type": "stream",
     "text": [
      "[array([[ 0,  1],\n",
      "       [ 4,  5],\n",
      "       [ 8,  9],\n",
      "       [12, 13]]), array([[ 2,  3],\n",
      "       [ 6,  7],\n",
      "       [10, 11],\n",
      "       [14, 15]]), array([], shape=(4, 0), dtype=int32)]\n"
     ]
    }
   ],
   "source": [
    "import numpy as np\n",
    "x = np.arange(16).reshape(4,4)\n",
    "\n",
    "print( np.hsplit(x, [2,6]))"
   ]
  },
  {
   "cell_type": "markdown",
   "metadata": {
    "colab_type": "text",
    "id": "9qYmWD_F6b9x"
   },
   "source": [
    "### Q73. Write the NumPy program to create a 5x5 matrix with row values ranging from 0 to 4?"
   ]
  },
  {
   "cell_type": "code",
   "execution_count": 74,
   "metadata": {
    "colab": {
     "base_uri": "https://localhost:8080/",
     "height": 218
    },
    "colab_type": "code",
    "id": "5hCN9qwG6oAg",
    "outputId": "c2fb8eb6-764e-4e6b-fc9d-e4c21eb68790"
   },
   "outputs": [
    {
     "name": "stdout",
     "output_type": "stream",
     "text": [
      "Original array:\n",
      "[[0. 0. 0. 0. 0.]\n",
      " [0. 0. 0. 0. 0.]\n",
      " [0. 0. 0. 0. 0.]\n",
      " [0. 0. 0. 0. 0.]\n",
      " [0. 0. 0. 0. 0.]]\n",
      "Row values ranging from 0 to 4.\n",
      "[[0. 1. 2. 3. 4.]\n",
      " [0. 1. 2. 3. 4.]\n",
      " [0. 1. 2. 3. 4.]\n",
      " [0. 1. 2. 3. 4.]\n",
      " [0. 1. 2. 3. 4.]]\n"
     ]
    }
   ],
   "source": [
    "import numpy as np\n",
    "x = np.zeros((5,5))\n",
    "print('Original array:')\n",
    "print(x)\n",
    "\n",
    "print('Row values ranging from 0 to 4.')\n",
    "x = x+ np.arange(5)\n",
    "print(x)"
   ]
  },
  {
   "cell_type": "markdown",
   "metadata": {
    "colab_type": "text",
    "id": "GP7vn6Tw7Io1"
   },
   "source": [
    "#### Q74. Write the NumPy program to create an array of zeros and three column types (integer, float, character)?"
   ]
  },
  {
   "cell_type": "code",
   "execution_count": 75,
   "metadata": {
    "colab": {
     "base_uri": "https://localhost:8080/",
     "height": 50
    },
    "colab_type": "code",
    "id": "HLR-mziR7Kup",
    "outputId": "674c177d-a572-4eb7-f4e4-23df6a65b4f3"
   },
   "outputs": [
    {
     "name": "stdout",
     "output_type": "stream",
     "text": [
      "[(1, 2., b'Albert Einstein') (2, 2., b'Edmond Halley')\n",
      " (3, 3., b'Gertrude B. Elion')]\n"
     ]
    }
   ],
   "source": [
    "import numpy as np\n",
    "x = np.zeros(3, dtype = ('i4, f4, a40'))\n",
    "x[:] = [(1, 2., \"Albert Einstein\"), (2, 2., \"Edmond Halley\"), (3, 3., \"Gertrude B. Elion\")]\n",
    "print(x)"
   ]
  },
  {
   "cell_type": "markdown",
   "metadata": {
    "colab_type": "text",
    "id": "j5KoSVI487yc"
   },
   "source": [
    "### Q75. Write the NumPy program toremove the negative values in thenumpy array with 0?"
   ]
  },
  {
   "cell_type": "code",
   "execution_count": 76,
   "metadata": {
    "colab": {
     "base_uri": "https://localhost:8080/",
     "height": 84
    },
    "colab_type": "code",
    "id": "2p5rQmjr9IcT",
    "outputId": "befb7091-6d61-41ea-9d3f-ac4ff8e69ae9"
   },
   "outputs": [
    {
     "name": "stdout",
     "output_type": "stream",
     "text": [
      "Original array:\n",
      "[-1 -4  0  2  3  4  5 -6]\n",
      "Replace the negative values of the said array with 0:\n",
      "[0 0 0 2 3 4 5 0]\n"
     ]
    }
   ],
   "source": [
    "import numpy as np\n",
    "x = np.array([-1, -4, 0, 2, 3, 4, 5, -6])\n",
    "print('Original array:')\n",
    "print(x)\n",
    "print(\"Replace the negative values of the said array with 0:\")\n",
    "x[ x < 0] = 0\n",
    "print(x)"
   ]
  },
  {
   "cell_type": "markdown",
   "metadata": {
    "colab_type": "text",
    "id": "6ZhLPZZe9lFy"
   },
   "source": [
    "### Q76. Write the NumPy program to compute the histogram of a set of data?"
   ]
  },
  {
   "cell_type": "code",
   "execution_count": 79,
   "metadata": {
    "colab": {
     "base_uri": "https://localhost:8080/",
     "height": 265
    },
    "colab_type": "code",
    "id": "-hjQvfPO9p0Z",
    "outputId": "2e8fb954-1703-464a-e3bc-15390150596d"
   },
   "outputs": [
    {
     "data": {
      "image/png": "[encoded data removed]",
      "text/plain": [
       "<Figure size 432x288 with 1 Axes>"
      ]
     },
     "metadata": {
      "needs_background": "light"
     },
     "output_type": "display_data"
    }
   ],
   "source": [
    "import numpy as np \n",
    "import matplotlib.pyplot as plt\n",
    "plt.hist([1, 2, 1], bins=[0, 1, 2, 3, 5])\n",
    "plt.show()"
   ]
  },
  {
   "cell_type": "markdown",
   "metadata": {
    "colab_type": "text",
    "id": "yhGcN1mPAE4C"
   },
   "source": [
    "### Q77.Write the NumPy program to compute the line graph of a set of data?"
   ]
  },
  {
   "cell_type": "code",
   "execution_count": 80,
   "metadata": {
    "colab": {
     "base_uri": "https://localhost:8080/",
     "height": 265
    },
    "colab_type": "code",
    "id": "AxMBeZ4NApDn",
    "outputId": "93c2bc78-0e56-4c14-e8d2-e60772dd38ad"
   },
   "outputs": [
    {
     "name": "stderr",
     "output_type": "stream",
     "text": [
      "C:\\Users\\prasadgk\\Anaconda3\\lib\\site-packages\\ipykernel_launcher.py:7: UserWarning: Matplotlib is currently using module://ipykernel.pylab.backend_inline, which is a non-GUI backend, so cannot show the figure.\n",
      "  import sys\n"
     ]
    },
    {
     "data": {
      "image/png": "[encoded data removed]",
      "text/plain": [
       "<Figure size 432x288 with 1 Axes>"
      ]
     },
     "metadata": {
      "needs_background": "light"
     },
     "output_type": "display_data"
    }
   ],
   "source": [
    "import numpy as np\n",
    "import matplotlib.pyplot as plt\n",
    "arr = np.random.randint(1, 50, 10)\n",
    "y, x = np.histogram(arr, bins=np.arange(51))\n",
    "fig, ax = plt.subplots()\n",
    "ax.plot(x[:-1], y)\n",
    "fig.show()"
   ]
  },
  {
   "cell_type": "markdown",
   "metadata": {
    "colab_type": "text",
    "id": "On_pdfsGDIlM"
   },
   "source": [
    "### Q78. Write theNumPy program to extractsall the elements fromsecond row from given (4x4) array?"
   ]
  },
  {
   "cell_type": "code",
   "execution_count": 81,
   "metadata": {
    "colab": {
     "base_uri": "https://localhost:8080/",
     "height": 134
    },
    "colab_type": "code",
    "id": "s_dhZ6rkDNbn",
    "outputId": "5672514e-2624-4d10-9b3f-3ac6b55b1ec5"
   },
   "outputs": [
    {
     "name": "stdout",
     "output_type": "stream",
     "text": [
      "Original array-\n",
      "[[ 0  1  2  3]\n",
      " [ 4  5  6  7]\n",
      " [ 8  9 10 11]\n",
      " [12 13 14 15]]\n",
      "Extracted data- Second row\n",
      "[4 5 6 7]\n"
     ]
    }
   ],
   "source": [
    "import numpy as np\n",
    "arr = np.arange(16).reshape(4,4)\n",
    "print('Original array-')\n",
    "print(arr)\n",
    "print('Extracted data- Second row')\n",
    "print( arr[1])"
   ]
  },
  {
   "cell_type": "markdown",
   "metadata": {
    "colab_type": "text",
    "id": "YGQG-MxRHla2"
   },
   "source": [
    "### Q79. Write the NumPy program to extract first element of the second row and fourth element of fourth row from a given (4x4) array"
   ]
  },
  {
   "cell_type": "code",
   "execution_count": 82,
   "metadata": {
    "colab": {
     "base_uri": "https://localhost:8080/",
     "height": 134
    },
    "colab_type": "code",
    "id": "MNYGDy0BHn5o",
    "outputId": "8b4c769e-1bb5-4eda-ff7c-b923bd54b157"
   },
   "outputs": [
    {
     "name": "stdout",
     "output_type": "stream",
     "text": [
      "Original array-\n",
      "[[ 0  1  2  3]\n",
      " [ 4  5  6  7]\n",
      " [ 8  9 10 11]\n",
      " [12 13 14 15]]\n",
      "Extracted data-First element of the second row and fourth element of fourth roww\n",
      "[ 4 15]\n"
     ]
    }
   ],
   "source": [
    "import numpy as np\n",
    "arr = np.arange(16).reshape(4,4)\n",
    "print('Original array-')\n",
    "print(arr)\n",
    "print('Extracted data-First element of the second row and fourth element of fourth roww')\n",
    "print( arr[[1,3], [0,3]])"
   ]
  },
  {
   "cell_type": "markdown",
   "metadata": {
    "colab_type": "text",
    "id": "hBqvl_OuIsYH"
   },
   "source": [
    "### Q80. Write theNumPy program to add two arrays Aand B of sizes (3,3) and (,3)?"
   ]
  },
  {
   "cell_type": "code",
   "execution_count": 83,
   "metadata": {
    "colab": {
     "base_uri": "https://localhost:8080/",
     "height": 202
    },
    "colab_type": "code",
    "id": "MSAuFi1AI3YZ",
    "outputId": "c87510cf-9fc2-432d-870b-625da29ec254"
   },
   "outputs": [
    {
     "name": "stdout",
     "output_type": "stream",
     "text": [
      "Original array-\n",
      "Array-1\n",
      "[[1. 1. 1.]\n",
      " [1. 1. 1.]\n",
      " [1. 1. 1.]]\n",
      "Array-2\n",
      "[0 1 2]\n",
      "A+B\n",
      " [[1. 2. 3.]\n",
      " [1. 2. 3.]\n",
      " [1. 2. 3.]]\n"
     ]
    }
   ],
   "source": [
    "import numpy as np\n",
    "A = np.ones((3,3))\n",
    "B = np.arange(3)\n",
    "print('Original array-')\n",
    "print('Array-1')\n",
    "print(A)\n",
    "print('Array-2')\n",
    "print(B)\n",
    "print('A+B\\n', A+B)"
   ]
  },
  {
   "cell_type": "markdown",
   "metadata": {
    "colab_type": "text",
    "id": "MjqbbxyEJqyr"
   },
   "source": [
    "\n",
    "Q81. Write the NumPy program to copy data from a given array to another array?"
   ]
  },
  {
   "cell_type": "code",
   "execution_count": 84,
   "metadata": {
    "colab": {
     "base_uri": "https://localhost:8080/",
     "height": 84
    },
    "colab_type": "code",
    "id": "EgrwkSb8Js33",
    "outputId": "223c8622-7da8-4f22-83c8-567c5f352da5"
   },
   "outputs": [
    {
     "name": "stdout",
     "output_type": "stream",
     "text": [
      "Original array-\n",
      "[24 27 30 29 18 14]\n",
      "Copy of the said array-\n",
      "[24 27 30 29 18 14]\n"
     ]
    }
   ],
   "source": [
    "import numpy as np\n",
    "x = np.array([24, 27, 30, 29, 18, 14])\n",
    "print('Original array-')\n",
    "print(x)\n",
    "y = np.copy(x)\n",
    "print('Copy of the said array-')\n",
    "print(y)"
   ]
  },
  {
   "cell_type": "markdown",
   "metadata": {
    "colab_type": "text",
    "id": "rJWt8-APKzUD"
   },
   "source": [
    "### Q82. Write theNumPy program to calculate the sum of all columns of the2D numpy array?\n",
    "\n",
    "> Indented block\n",
    "\n"
   ]
  },
  {
   "cell_type": "code",
   "execution_count": 85,
   "metadata": {
    "colab": {
     "base_uri": "https://localhost:8080/",
     "height": 136
    },
    "colab_type": "code",
    "id": "b4FA6TQ3K8kr",
    "outputId": "152bbfc8-9d23-435f-c84b-56454ae5e832"
   },
   "outputs": [
    {
     "name": "stdout",
     "output_type": "stream",
     "text": [
      "Original array:\n",
      "[[ 0  1  2  3  4  5  6  7  8]\n",
      " [ 9 10 11 12 13 14 15 16 17]\n",
      " [18 19 20 21 22 23 24 25 26]\n",
      " [27 28 29 30 31 32 33 34 35]]\n",
      "Sum of all columns:\n"
     ]
    },
    {
     "data": {
      "text/plain": [
       "array([54, 58, 62, 66, 70, 74, 78, 82, 86])"
      ]
     },
     "execution_count": 85,
     "metadata": {},
     "output_type": "execute_result"
    }
   ],
   "source": [
    "import numpy as np\n",
    "x = np.array([[ 0 ,1, 2, 3, 4, 5, 6, 7, 8],\n",
    "              [ 9, 10, 11, 12, 13, 14, 15, 16, 17],\n",
    "              [18, 19, 20, 21, 22, 23, 24, 25, 26],\n",
    "              [27, 28 ,29, 30, 31, 32 ,33 ,34 ,35]])\n",
    "print('Original array:')\n",
    "print(x)\n",
    "print('Sum of all columns:')\n",
    "x.sum(axis=0)\n"
   ]
  },
  {
   "cell_type": "markdown",
   "metadata": {
    "colab_type": "text",
    "id": "kXpRgHSYMSYG"
   },
   "source": [
    "### Q83. Write theNumPy program to calculate averages without NaNs along the given array?"
   ]
  },
  {
   "cell_type": "code",
   "execution_count": 91,
   "metadata": {
    "colab": {
     "base_uri": "https://localhost:8080/",
     "height": 134
    },
    "colab_type": "code",
    "id": "xFeUPPPAMVg8",
    "outputId": "24f3438c-7fb9-4169-9bb8-9102b612ad7b"
   },
   "outputs": [
    {
     "name": "stdout",
     "output_type": "stream",
     "text": [
      "Original array:\n",
      "[[10. 20. 30.]\n",
      " [40. 50. nan]\n",
      " [nan  6. nan]\n",
      " [nan nan nan]]\n",
      "Averages without NaNs along the said array:\n",
      "[20. 45.  6. nan]\n"
     ]
    }
   ],
   "source": [
    "import numpy as np\n",
    "\n",
    "arr1 = np.array([[10, 20 ,30], [40, 50, np.nan], [np.nan, 6, np.nan], [np.nan, np.nan, np.nan]])\n",
    "print('Original array:')\n",
    "print(arr1)\n",
    "\n",
    "temp = np.ma.masked_array(arr1, np.isnan(arr1))\n",
    "result = np.mean(temp, axis=1)\n",
    "print('Averages without NaNs along the said array:')\n",
    "print(result.filled(np.nan))"
   ]
  },
  {
   "cell_type": "markdown",
   "metadata": {
    "colab_type": "text",
    "id": "iYaqvPmBYNUg"
   },
   "source": [
    "### Q84. Create two arrays of six elements. Write the NumPy program to count the number of instances of a value occurring in one array on the condition of another array."
   ]
  },
  {
   "cell_type": "code",
   "execution_count": 92,
   "metadata": {
    "colab": {
     "base_uri": "https://localhost:8080/",
     "height": 51
    },
    "colab_type": "code",
    "id": "0HsWLaCuY-L3",
    "outputId": "cb186525-14d2-4482-f328-8d9b9c08b192"
   },
   "outputs": [
    {
     "name": "stdout",
     "output_type": "stream",
     "text": [
      "Number of instances of a value occurring in one array on the condition of another\n",
      "3\n"
     ]
    }
   ],
   "source": [
    "import numpy as np\n",
    "\n",
    "a = np.array( [ 10, -10, 10, -10, -10, 10] )\n",
    "b = np.array( [0.85, 0.45, 0.9, 0.8, 0.12, 0.6 ] )  \n",
    "c = np.sum( (a == 10) & (b >= .6))\n",
    "print('Number of instances of a value occurring in one array on the condition of another')\n",
    "print(c)"
   ]
  },
  {
   "cell_type": "markdown",
   "metadata": {
    "colab_type": "text",
    "id": "BPIcdpmkaBM2"
   },
   "source": [
    "### Q85.Write the NumPy program to convert a Python dictionary to a Numpy ndarray ?"
   ]
  },
  {
   "cell_type": "code",
   "execution_count": 93,
   "metadata": {
    "colab": {
     "base_uri": "https://localhost:8080/",
     "height": 190
    },
    "colab_type": "code",
    "id": "REtMY03uaGrx",
    "outputId": "a00cb346-ad62-4826-cf22-3fa73e055f95"
   },
   "outputs": [
    {
     "name": "stdout",
     "output_type": "stream",
     "text": [
      "Original dictionary-\n",
      "{'column0': {'a': 1, 'b': 0.0, 'c': 0.0, 'd': 2.0}, 'column1': {'a': 3.0, 'b': 1, 'c': 0.0, 'd': -1.0}, 'column2': {'a': 4, 'b': 1, 'c': 5.0, 'd': -1.0}, 'column3': {'a': 3.0, 'b': -1.0, 'c': -1.0, 'd': -1.0}}\n",
      "<class 'dict'>\n",
      "ndarray-\n",
      "[[ 1.  0.  0.  2.]\n",
      " [ 3.  1.  0. -1.]\n",
      " [ 4.  1.  5. -1.]\n",
      " [ 3. -1. -1. -1.]]\n",
      "<class 'numpy.ndarray'>\n"
     ]
    }
   ],
   "source": [
    "import numpy as np\n",
    "dict = {'column0': {'a': 1, 'b': 0.0, 'c': 0.0, 'd': 2.0},\n",
    "        'column1': {'a': 3.0, 'b': 1, 'c': 0.0, 'd': -1.0},\n",
    "        'column2': {'a': 4, 'b': 1, 'c': 5.0, 'd': -1.0},\n",
    "        'column3': {'a': 3.0, 'b': -1.0, 'c': -1.0, 'd': -1.0}}\n",
    "print('Original dictionary-')\n",
    "print(dict)\n",
    "print(type(dict))\n",
    "\n",
    "print('ndarray-')\n",
    "arr = np.array( [[ v for v in key.values()] for key in dict.values()] )\n",
    "print(arr)\n",
    "print(type(arr))"
   ]
  },
  {
   "cell_type": "markdown",
   "metadata": {
    "colab_type": "text",
    "id": "HXOZPozeHkSU"
   },
   "source": [
    "### Q86. Write the Numpy program to find and storethenon-zero unique rows inan array after comparingeach row with other row in the givenmatrix?"
   ]
  },
  {
   "cell_type": "code",
   "execution_count": 94,
   "metadata": {
    "colab": {
     "base_uri": "https://localhost:8080/",
     "height": 306
    },
    "colab_type": "code",
    "id": "dYz7d2gIH-dl",
    "outputId": "8b504737-a017-4935-baf5-4c69046a2d73"
   },
   "outputs": [
    {
     "name": "stdout",
     "output_type": "stream",
     "text": [
      "Original array-\n",
      "[[ 1  1  0]\n",
      " [ 0  0  0]\n",
      " [ 0  2  3]\n",
      " [ 0  0  0]\n",
      " [ 0 -1  1]\n",
      " [ 0  0  0]]\n",
      "0 (1, 1, 0)\n",
      "1 (0, 0, 0)\n",
      "2 (0, 2, 3)\n",
      "3 (0, 0, 0)\n",
      "4 (0, -1, 1)\n",
      "5 (0, 0, 0)\n",
      "Non-zero unique rows-\n",
      "[[ 1  1  0]\n",
      " [ 0  2  3]\n",
      " [ 0 -1  1]]\n"
     ]
    }
   ],
   "source": [
    "import numpy as np\n",
    "x = np.array([[1, 1, 0],\n",
    "              [0, 0, 0],\n",
    "              [0, 2, 3],\n",
    "              [0, 0, 0],\n",
    "              [0, -1, 1],\n",
    "              [0, 0, 0]])\n",
    "print('Original array-')\n",
    "print(x)\n",
    "temp = {(0, 0, 0 )}\n",
    "result = []\n",
    "\n",
    "for idx, row in enumerate(map(tuple, x)):\n",
    "    print(idx, row)\n",
    "    if row not in temp:\n",
    "        result.append(idx)\n",
    "print('Non-zero unique rows-')\n",
    "print(x[result])"
   ]
  },
  {
   "cell_type": "markdown",
   "metadata": {
    "colab_type": "text",
    "id": "YMiV1RaYp6lj"
   },
   "source": [
    "### Q87. Write the NumPy program to multiply thematrix by another matrix of complex numbers and create a new matrix of complex numbers?"
   ]
  },
  {
   "cell_type": "code",
   "execution_count": 95,
   "metadata": {
    "colab": {
     "base_uri": "https://localhost:8080/",
     "height": 119
    },
    "colab_type": "code",
    "id": "E96k_3epqghn",
    "outputId": "1182718d-e3d2-49fc-9e24-ce04df266734"
   },
   "outputs": [
    {
     "name": "stdout",
     "output_type": "stream",
     "text": [
      "First array:\n",
      "[1.+2.j 3.+4.j]\n",
      "Second array:\n",
      "[5.+6.j 7.+8.j]\n",
      "Product of above two arrays:\n",
      "(70-8j)\n"
     ]
    }
   ],
   "source": [
    "import numpy as np\n",
    "\n",
    "x = np.array([1+2j, 3+4j])\n",
    "print('First array:')\n",
    "print(x)\n",
    "\n",
    "y = np.array([5+6j, 7+8j])\n",
    "print('Second array:')\n",
    "print(y)\n",
    "\n",
    "print('Product of above two arrays:')\n",
    "z = np.vdot(x,y)\n",
    "print(z)"
   ]
  },
  {
   "cell_type": "markdown",
   "metadata": {
    "colab_type": "text",
    "id": "_3O0L5y4r6kM"
   },
   "source": [
    "### Q88. Write a NumPy program to generate thematrix product of two Arrays?"
   ]
  },
  {
   "cell_type": "code",
   "execution_count": 96,
   "metadata": {
    "colab": {
     "base_uri": "https://localhost:8080/",
     "height": 170
    },
    "colab_type": "code",
    "id": "16Y6w9oFsHbg",
    "outputId": "117597a9-98f1-4b99-8cbe-86ca75fb95af"
   },
   "outputs": [
    {
     "name": "stdout",
     "output_type": "stream",
     "text": [
      "x-\n",
      "[[1 0]\n",
      " [1 1]]\n",
      "y-\n",
      "[[3 1]\n",
      " [2 2]]\n",
      "Matrix product of above two arrays-\n",
      "[[3 1]\n",
      " [5 3]]\n"
     ]
    }
   ],
   "source": [
    "import numpy as np\n",
    "x = np.array([[1,0],[1,1] ])\n",
    "y = np.array([[3,1],[2,2]])\n",
    "print('x-')\n",
    "print(x)\n",
    "print('y-')\n",
    "print(y)\n",
    "print('Matrix product of above two arrays-')\n",
    "print(np.matmul(x,y))"
   ]
  },
  {
   "cell_type": "markdown",
   "metadata": {
    "colab_type": "text",
    "id": "PDAXT1L8vLjH"
   },
   "source": [
    "### Q89. Write the NumPy program to findroots of the following Polynomials?"
   ]
  },
  {
   "cell_type": "code",
   "execution_count": 97,
   "metadata": {
    "colab": {
     "base_uri": "https://localhost:8080/",
     "height": 102
    },
    "colab_type": "code",
    "id": "152B3YRZvm-8",
    "outputId": "88a6d950-7c85-4f35-a59e-916683b57035"
   },
   "outputs": [
    {
     "name": "stdout",
     "output_type": "stream",
     "text": [
      "Roots of the first polynomial-\n",
      "[1. 1.]\n",
      "Roots of the second polynomial-\n",
      "[11.04461946+0.j        -0.8711421 +0.j         0.91326132+0.4531004j\n",
      "  0.91326132-0.4531004j]\n"
     ]
    }
   ],
   "source": [
    "import numpy as np\n",
    "print(\"Roots of the first polynomial-\")\n",
    "print(np.roots([1, -2, 1]))\n",
    "print(\"Roots of the second polynomial-\")\n",
    "print(np.roots([1, -12, 10, 7, -10]))"
   ]
  },
  {
   "cell_type": "markdown",
   "metadata": {
    "colab_type": "text",
    "id": "YlWBORrGvuvK"
   },
   "source": [
    "### Q90. Write the NumPy program to calculate inverse of sine, cosine,and inverse tangent for all elements in a given array?"
   ]
  },
  {
   "cell_type": "code",
   "execution_count": 98,
   "metadata": {
    "colab": {
     "base_uri": "https://localhost:8080/",
     "height": 68
    },
    "colab_type": "code",
    "id": "VOjjn508v0Ac",
    "outputId": "2c633042-0c2e-4a46-ac0d-323eb6617ddf"
   },
   "outputs": [
    {
     "name": "stdout",
     "output_type": "stream",
     "text": [
      "Inverse sine- [-1.57079633  0.          1.57079633]\n",
      "Inverse cosine- [3.14159265 1.57079633 0.        ]\n",
      "Inverse tangent- [-0.78539816  0.          0.78539816]\n"
     ]
    }
   ],
   "source": [
    "import numpy as np\n",
    "x = np.array([-1., 0, 1.])\n",
    "print(\"Inverse sine-\", np.arcsin(x))\n",
    "print(\"Inverse cosine-\", np.arccos(x))\n",
    "print(\"Inverse tangent-\", np.arctan(x))"
   ]
  },
  {
   "cell_type": "markdown",
   "metadata": {
    "colab_type": "text",
    "id": "TgHXNMt3zci8"
   },
   "source": [
    "### Q91.Write the NumPy program to calculate the difference betweeninneighbouring elements, element-wise of a given array?"
   ]
  },
  {
   "cell_type": "code",
   "execution_count": 99,
   "metadata": {
    "colab": {
     "base_uri": "https://localhost:8080/",
     "height": 85
    },
    "colab_type": "code",
    "id": "p1Xm2dYcz-WB",
    "outputId": "0731fbcc-7c75-4bbe-e23e-ef9a1e8ae8e4"
   },
   "outputs": [
    {
     "name": "stdout",
     "output_type": "stream",
     "text": [
      "Original array-\n",
      "[1 3 5 7 0]\n",
      "Difference between neighboring elements, element-wise of the said array-\n",
      "[ 2  2  2 -7]\n"
     ]
    }
   ],
   "source": [
    "import numpy as np\n",
    "x = np.array([1, 3, 5, 7, 0])\n",
    "print('Original array-')\n",
    "print(x)\n",
    "print('Difference between neighboring elements, element-wise of the said array-')\n",
    "print(np.diff(x))"
   ]
  },
  {
   "cell_type": "markdown",
   "metadata": {
    "colab_type": "text",
    "id": "kYwkKnG17rGL"
   },
   "source": [
    "### Q93. Write the NumPy program to calculate the difference between in the maximum and the minimum values of a given array along the second axis?"
   ]
  },
  {
   "cell_type": "code",
   "execution_count": 100,
   "metadata": {
    "colab": {
     "base_uri": "https://localhost:8080/",
     "height": 102
    },
    "colab_type": "code",
    "id": "oG-owgsb8siB",
    "outputId": "4d642aaf-ad87-464a-ab7c-90e8d4235655"
   },
   "outputs": [
    {
     "name": "stdout",
     "output_type": "stream",
     "text": [
      "Original array-\n",
      "[[ 0  1  2  3  4  5]\n",
      " [ 6  7  8  9 10 11]]\n",
      "Difference between the maximum and the minimum values of the said array-\n",
      "[5 5]\n"
     ]
    }
   ],
   "source": [
    "import numpy as np\n",
    "x = np.arange(12).reshape((2,6))\n",
    "print('Original array-')\n",
    "print(x)\n",
    "r1 = np.ptp(x , 1)\n",
    "r2 = np.max(x,1) - np.min(x,1)\n",
    "print('Difference between the maximum and the minimum values of the said array-')\n",
    "print(r1)"
   ]
  },
  {
   "cell_type": "markdown",
   "metadata": {
    "colab_type": "text",
    "id": "RGpH_1kdCp-Z"
   },
   "source": [
    "### Q94. Write the NumPy program to compute the weighted of the given array?"
   ]
  },
  {
   "cell_type": "code",
   "execution_count": 101,
   "metadata": {
    "colab": {
     "base_uri": "https://localhost:8080/",
     "height": 102
    },
    "colab_type": "code",
    "id": "7M4rLePmC7W9",
    "outputId": "c392141b-4dd4-49ab-9eb5-6beae545b5f2"
   },
   "outputs": [
    {
     "name": "stdout",
     "output_type": "stream",
     "text": [
      "Original array-\n",
      "[0 1 2 3 4]\n",
      "\n",
      "Weighted average of the said array-\n",
      "2.6666666666666665\n"
     ]
    }
   ],
   "source": [
    "import numpy as np\n",
    "x = np.array([0, 1, 2, 3, 4])\n",
    "print('Original array-')\n",
    "print(x)\n",
    "weights = np.arange(1, 6)\n",
    "print('\\nWeighted average of the said array-')\n",
    "r1 = np.average(x, weights = weights)\n",
    "print(r1)"
   ]
  },
  {
   "cell_type": "markdown",
   "metadata": {
    "colab_type": "text",
    "id": "KnLDnxtANMQ1"
   },
   "source": [
    "### Q95. Write the NumPy program to compute the mean, standard deviation, and the variance of a given array along the second axis?"
   ]
  },
  {
   "cell_type": "code",
   "execution_count": 102,
   "metadata": {
    "colab": {
     "base_uri": "https://localhost:8080/",
     "height": 153
    },
    "colab_type": "code",
    "id": "k74ygfOgNc64",
    "outputId": "9002f9e8-1d4e-49a9-bf1a-25baffc7ce66"
   },
   "outputs": [
    {
     "name": "stdout",
     "output_type": "stream",
     "text": [
      "Original array-\n",
      "[0 1 2 3 4 5]\n",
      "\n",
      "Mean- 2.5\n",
      "\n",
      "std- 1\n",
      "\n",
      "variance- 2.9166666666666665\n"
     ]
    }
   ],
   "source": [
    "import numpy as np\n",
    "x = np.arange(6)\n",
    "print('Original array-')\n",
    "print(x)\n",
    "\n",
    "mean = np.mean(x)\n",
    "avg = np.average(x)\n",
    "print('\\nMean-', mean)\n",
    "\n",
    "std = np.std(x)\n",
    "print('\\nstd-', 1)\n",
    "var = np.var(x)\n",
    "print('\\nvariance-', var)\n"
   ]
  },
  {
   "cell_type": "markdown",
   "metadata": {
    "colab_type": "text",
    "id": "emZHoXTgQAhM"
   },
   "source": [
    "### Q96. Write the Numpy program to compute the covariance matrix of the two given arrays?"
   ]
  },
  {
   "cell_type": "code",
   "execution_count": 103,
   "metadata": {
    "colab": {
     "base_uri": "https://localhost:8080/",
     "height": 204
    },
    "colab_type": "code",
    "id": "k5CNUDYHQQrs",
    "outputId": "2e761a47-b794-45a8-d7d2-16b5cd3fe114"
   },
   "outputs": [
    {
     "name": "stdout",
     "output_type": "stream",
     "text": [
      "\n",
      "Original array1-\n",
      "[0 1 2]\n",
      "\n",
      "Original array-2\n",
      "[2 1 0]\n",
      "\n",
      "Covariance matrix of the said arrays:\n",
      "\n",
      "[[ 1. -1.]\n",
      " [-1.  1.]]\n"
     ]
    }
   ],
   "source": [
    "import numpy as np\n",
    "x = np.array([0, 1, 2])\n",
    "y = np.array([2, 1, 0])\n",
    "print('\\nOriginal array1-')\n",
    "print(x)\n",
    "print('\\nOriginal array-2')\n",
    "print(y)\n",
    "print('\\nCovariance matrix of the said arrays:\\n')\n",
    "print(np.cov(x,y))"
   ]
  },
  {
   "cell_type": "markdown",
   "metadata": {
    "colab_type": "text",
    "id": "pWWGwDgpQ7xV"
   },
   "source": [
    "### Q97.Write a NumPy program to compute the cross-correlation of two given arrays ?"
   ]
  },
  {
   "cell_type": "code",
   "execution_count": 104,
   "metadata": {
    "colab": {
     "base_uri": "https://localhost:8080/",
     "height": 185
    },
    "colab_type": "code",
    "id": "O1cTaCISCNpE",
    "outputId": "b90635ad-040f-4321-e2c2-8079508d27f7"
   },
   "outputs": [
    {
     "name": "stdout",
     "output_type": "stream",
     "text": [
      "\n",
      "Original array1-\n",
      "[0 1 3]\n",
      "\n",
      "Original array2-\n",
      "[2 4 5]\n",
      "\n",
      "Cross-correlation of the said arrays-\n",
      "[[2.33333333 2.16666667]\n",
      " [2.16666667 2.33333333]]\n"
     ]
    }
   ],
   "source": [
    "import numpy as np\n",
    "x = np.array([0, 1, 3])\n",
    "y = np.array([2, 4, 5])\n",
    "print('\\nOriginal array1-')\n",
    "print(x)\n",
    "print('\\nOriginal array2-')\n",
    "print(y)\n",
    "print('\\nCross-correlation of the said arrays-')\n",
    "print(np.cov(x, y))"
   ]
  },
  {
   "cell_type": "markdown",
   "metadata": {
    "colab_type": "text",
    "id": "G8KmhgCXDFNb"
   },
   "source": [
    "### Q98. Write theNumPy program to compute Pearson product-moment correlation coefficients of two given arrays?"
   ]
  },
  {
   "cell_type": "code",
   "execution_count": 105,
   "metadata": {
    "colab": {
     "base_uri": "https://localhost:8080/",
     "height": 185
    },
    "colab_type": "code",
    "id": "synQReuKDRQd",
    "outputId": "c4b4eeaa-e49b-45f7-ebf2-249daeaec04e"
   },
   "outputs": [
    {
     "name": "stdout",
     "output_type": "stream",
     "text": [
      "\n",
      "Original array1-\n",
      "[0 1 3]\n",
      "\n",
      "Original array2-\n",
      "[2 4 5]\n",
      "\n",
      "Pearson product-moment correlation coefficients of the said arrays\n"
     ]
    },
    {
     "data": {
      "text/plain": [
       "array([[1.        , 0.92857143],\n",
       "       [0.92857143, 1.        ]])"
      ]
     },
     "execution_count": 105,
     "metadata": {},
     "output_type": "execute_result"
    }
   ],
   "source": [
    "import numpy as np\n",
    "x = np.array([0, 1, 3])\n",
    "y = np.array([2, 4, 5])\n",
    "print('\\nOriginal array1-')\n",
    "print(x)\n",
    "print('\\nOriginal array2-')\n",
    "print(y)\n",
    "print('\\nPearson product-moment correlation coefficients of the said arrays')\n",
    "np.corrcoef(x, y)"
   ]
  },
  {
   "cell_type": "markdown",
   "metadata": {
    "colab_type": "text",
    "id": "gk8pC9ptEDrO"
   },
   "source": [
    "### Q99.Write the python program to count the number of occurrences of each value in a given array of non-negative integers?"
   ]
  },
  {
   "cell_type": "code",
   "execution_count": 106,
   "metadata": {
    "colab": {
     "base_uri": "https://localhost:8080/",
     "height": 84
    },
    "colab_type": "code",
    "id": "uH6rr2dwEIKc",
    "outputId": "082b345c-5f99-4943-f471-06386af71ba9"
   },
   "outputs": [
    {
     "name": "stdout",
     "output_type": "stream",
     "text": [
      "Original array\n",
      "[0, 1, 6, 1, 4, 1, 2, 2, 7]\n",
      "Number of occurrences of each value in array-\n",
      "[1 3 2 0 1 0 1 1]\n"
     ]
    }
   ],
   "source": [
    "import numpy as np\n",
    "x = [0, 1, 6, 1, 4, 1, 2, 2, 7]\n",
    "print('Original array')\n",
    "print(x)\n",
    "print('Number of occurrences of each value in array-')\n",
    "print(np.bincount(x))"
   ]
  },
  {
   "cell_type": "markdown",
   "metadata": {
    "colab_type": "text",
    "id": "QSzHMa2gFGOS"
   },
   "source": [
    "### Q100. Write a Numpy program to compute the histogram of nums against the bins?"
   ]
  },
  {
   "cell_type": "code",
   "execution_count": 107,
   "metadata": {
    "colab": {
     "base_uri": "https://localhost:8080/",
     "height": 315
    },
    "colab_type": "code",
    "id": "lAj2KenYFNqx",
    "outputId": "f0aa4d83-1b0b-4afe-917a-139ba73d8767"
   },
   "outputs": [
    {
     "name": "stdout",
     "output_type": "stream",
     "text": [
      "nums-  [0.5 0.7 1.  1.2 1.3 2.1]\n",
      "bins- [0 1 2 3]\n",
      "Result- (array([2, 3, 1], dtype=int64), array([0, 1, 2, 3]))\n"
     ]
    },
    {
     "data": {
      "image/png": "[encoded data removed]",
      "text/plain": [
       "<Figure size 432x288 with 1 Axes>"
      ]
     },
     "metadata": {
      "needs_background": "light"
     },
     "output_type": "display_data"
    }
   ],
   "source": [
    "import numpy as np\n",
    "import matplotlib.pyplot as plt\n",
    "nums = np.array([0.5, 0.7, 1.0, 1.2, 1.3, 2.1])\n",
    "bins = np.array([0, 1, 2, 3])\n",
    "print('nums- ', nums)\n",
    "print('bins-', bins)\n",
    "print('Result-', np.histogram(nums, bins))\n",
    "plt.hist(nums, bins=bins)\n",
    "plt.show()"
   ]
  },
  {
   "cell_type": "markdown",
   "metadata": {
    "colab_type": "text",
    "id": "uVFlOlJBGjKH"
   },
   "source": [
    "### Q101. Write the Python program to add, subtract, multiplyand divide two pandas series?"
   ]
  },
  {
   "cell_type": "code",
   "execution_count": 108,
   "metadata": {
    "colab": {
     "base_uri": "https://localhost:8080/",
     "height": 538
    },
    "colab_type": "code",
    "id": "OQ1gmESQG3ce",
    "outputId": "e0677499-00c1-4910-c666-a1d3af43fd1e"
   },
   "outputs": [
    {
     "name": "stdout",
     "output_type": "stream",
     "text": [
      "s1 + s2\n",
      "0     3\n",
      "1     7\n",
      "2    11\n",
      "3    15\n",
      "4    19\n",
      "dtype: int64\n",
      "\n",
      "s1 - s2\n",
      "0     3\n",
      "1     7\n",
      "2    11\n",
      "3    15\n",
      "4    19\n",
      "dtype: int64\n",
      "\n",
      "s1 * s2\n",
      "0     2\n",
      "1    12\n",
      "2    30\n",
      "3    56\n",
      "4    90\n",
      "dtype: int64\n",
      "\n",
      "s1 / s2\n",
      "0    2.000000\n",
      "1    1.333333\n",
      "2    1.200000\n",
      "3    1.142857\n",
      "4    1.111111\n",
      "dtype: float64\n"
     ]
    }
   ],
   "source": [
    "import pandas as pd\n",
    "s1 = pd.Series([2, 4, 6, 8, 10])\n",
    "s2 = pd.Series([1, 3, 5, 7, 9])\n",
    "print('s1 + s2')\n",
    "print(s1+s2)\n",
    "print('\\ns1 - s2')\n",
    "print(s1 + s2)\n",
    "print('\\ns1 * s2')\n",
    "print(s1 * s2)\n",
    "print('\\ns1 / s2')\n",
    "print(s1/s2)"
   ]
  },
  {
   "cell_type": "markdown",
   "metadata": {
    "colab_type": "text",
    "id": "JvCckjE_H4lL"
   },
   "source": [
    "### Q102.Write a Python program to convert a dictionary to thePandas Series?"
   ]
  },
  {
   "cell_type": "code",
   "execution_count": 109,
   "metadata": {
    "colab": {
     "base_uri": "https://localhost:8080/",
     "height": 168
    },
    "colab_type": "code",
    "id": "rbXBmhzDH_JM",
    "outputId": "8de573b4-810a-4e0d-f3f0-301698f3f6e2"
   },
   "outputs": [
    {
     "name": "stdout",
     "output_type": "stream",
     "text": [
      "Original dictionary-\n",
      "{'a': 100, 'b': 200, 'c': 300, 'd': 400, 'e': 800}\n",
      "Converted series-\n",
      "a    100\n",
      "b    200\n",
      "c    300\n",
      "d    400\n",
      "e    800\n",
      "dtype: int64\n"
     ]
    }
   ],
   "source": [
    "import pandas as pd\n",
    "dict = {'a': 100, 'b':200, 'c': 300, 'd': 400, 'e': 800}\n",
    "s = pd.Series(dict)\n",
    "print('Original dictionary-')\n",
    "print(dict)\n",
    "print('Converted series-')\n",
    "print(s)"
   ]
  },
  {
   "cell_type": "markdown",
   "metadata": {
    "colab_type": "text",
    "id": "md2_RrlDI2aE"
   },
   "source": [
    "### Q103.Write a python program to change the data typeof given a column or a Series?"
   ]
  },
  {
   "cell_type": "code",
   "execution_count": 110,
   "metadata": {
    "colab": {
     "base_uri": "https://localhost:8080/",
     "height": 252
    },
    "colab_type": "code",
    "id": "l_u2CiXaJBuY",
    "outputId": "c66c9190-55fd-4d48-afd1-545480e6ff1a"
   },
   "outputs": [
    {
     "name": "stdout",
     "output_type": "stream",
     "text": [
      "Original Data Series-\n",
      "0       100\n",
      "1       200\n",
      "2    python\n",
      "3    300.12\n",
      "4       400\n",
      "dtype: object\n",
      "Change the said data type to numeric-\n",
      "0    100.00\n",
      "1    200.00\n",
      "2       NaN\n",
      "3    300.12\n",
      "4    400.00\n",
      "dtype: float64\n"
     ]
    }
   ],
   "source": [
    "import pandas as pd\n",
    "s1 = pd.Series(['100', '200', 'python', '300.12', '400'])\n",
    "print('Original Data Series-')\n",
    "print(s1)\n",
    "print('Change the said data type to numeric-')\n",
    "s2 = pd.to_numeric(s1, errors='coerce' )\n",
    "print(s2)"
   ]
  },
  {
   "cell_type": "markdown",
   "metadata": {
    "colab_type": "text",
    "id": "pSj3bCSfKVgh"
   },
   "source": [
    "### Q104. Write the python pandas program to convert the first column of a DataFrame as a Series?"
   ]
  },
  {
   "cell_type": "code",
   "execution_count": 111,
   "metadata": {
    "colab": {
     "base_uri": "https://localhost:8080/",
     "height": 302
    },
    "colab_type": "code",
    "id": "loourzN3KY7Q",
    "outputId": "7571e319-cabf-451b-886b-373c81dfbc0e"
   },
   "outputs": [
    {
     "name": "stdout",
     "output_type": "stream",
     "text": [
      "Original DataFrame-\n",
      "   col1  col2  col3\n",
      "0     1     4     7\n",
      "1     2     5     5\n",
      "2     3     6     8\n",
      "3     4     9    12\n",
      "4     7     5     1\n",
      "5    11     0    11\n",
      "1st column as a Series-\n",
      "0     1\n",
      "1     2\n",
      "2     3\n",
      "3     4\n",
      "4     7\n",
      "5    11\n",
      "Name: col1, dtype: int64\n",
      "<class 'pandas.core.series.Series'>\n"
     ]
    }
   ],
   "source": [
    "import pandas as pd\n",
    "d = {'col1': [1, 2, 3, 4, 7, 11], 'col2': [4, 5, 6, 9, 5, 0], 'col3': [7, 5, 8, 12, 1,11]}\n",
    "df = pd.DataFrame(d)\n",
    "print('Original DataFrame-')\n",
    "print(df)\n",
    "\n",
    "s = pd.Series(df['col1'])\n",
    "print('1st column as a Series-')\n",
    "print(s)\n",
    "print(type(s))"
   ]
  },
  {
   "cell_type": "markdown",
   "metadata": {
    "colab_type": "text",
    "id": "uGZERlHPM2Bw"
   },
   "source": [
    "### Q105. Write a pandas program to create the mean and standard deviation of the data of a given Series?"
   ]
  },
  {
   "cell_type": "code",
   "execution_count": 112,
   "metadata": {
    "colab": {
     "base_uri": "https://localhost:8080/",
     "height": 302
    },
    "colab_type": "code",
    "id": "Z5delCbrM46z",
    "outputId": "7a06b4fb-920f-427c-a214-c07089a1c5dc"
   },
   "outputs": [
    {
     "name": "stdout",
     "output_type": "stream",
     "text": [
      "Original Data Series:\n",
      "0     1\n",
      "1     2\n",
      "2     3\n",
      "3     4\n",
      "4     5\n",
      "5     6\n",
      "6     7\n",
      "7     8\n",
      "8     9\n",
      "9     5\n",
      "10    3\n",
      "dtype: int64\n",
      "Mean of the said Data Series-\n",
      "4.818181818181818\n",
      "Standard deviation of the said Data Series-\n",
      "2.522624895547565\n"
     ]
    }
   ],
   "source": [
    "import pandas as pd\n",
    "s = pd.Series([1,2,3,4,5,6,7,8,9,5,3])\n",
    "print('Original Data Series:')\n",
    "print(s)\n",
    "print('Mean of the said Data Series-')\n",
    "print(s.mean())\n",
    "print('Standard deviation of the said Data Series-')\n",
    "print(s.std())"
   ]
  },
  {
   "cell_type": "markdown",
   "metadata": {
    "colab_type": "text",
    "id": "9-neXn6-ON3n"
   },
   "source": [
    "### Q106.Write a pandas program to get powers of an array values element-wise?"
   ]
  },
  {
   "cell_type": "code",
   "execution_count": 113,
   "metadata": {
    "colab": {
     "base_uri": "https://localhost:8080/",
     "height": 296
    },
    "colab_type": "code",
    "id": "3kdz9WVcOWQ0",
    "outputId": "122b9588-67b6-41aa-fda3-c0c08376ae6b"
   },
   "outputs": [
    {
     "name": "stdout",
     "output_type": "stream",
     "text": [
      "    X   Y   Z\n",
      "0  78  84  86\n",
      "1  85  94  97\n",
      "2  96  89  96\n",
      "3  80  83  72\n",
      "4  86  86  83\n"
     ]
    },
    {
     "data": {
      "text/html": [
       "<div>\n",
       "<style scoped>\n",
       "    .dataframe tbody tr th:only-of-type {\n",
       "        vertical-align: middle;\n",
       "    }\n",
       "\n",
       "    .dataframe tbody tr th {\n",
       "        vertical-align: top;\n",
       "    }\n",
       "\n",
       "    .dataframe thead th {\n",
       "        text-align: right;\n",
       "    }\n",
       "</style>\n",
       "<table border=\"1\" class=\"dataframe\">\n",
       "  <thead>\n",
       "    <tr style=\"text-align: right;\">\n",
       "      <th></th>\n",
       "      <th>X</th>\n",
       "      <th>Y</th>\n",
       "      <th>Z</th>\n",
       "    </tr>\n",
       "  </thead>\n",
       "  <tbody>\n",
       "    <tr>\n",
       "      <td>0</td>\n",
       "      <td>474552</td>\n",
       "      <td>592704</td>\n",
       "      <td>636056</td>\n",
       "    </tr>\n",
       "    <tr>\n",
       "      <td>1</td>\n",
       "      <td>614125</td>\n",
       "      <td>830584</td>\n",
       "      <td>912673</td>\n",
       "    </tr>\n",
       "    <tr>\n",
       "      <td>2</td>\n",
       "      <td>884736</td>\n",
       "      <td>704969</td>\n",
       "      <td>884736</td>\n",
       "    </tr>\n",
       "    <tr>\n",
       "      <td>3</td>\n",
       "      <td>512000</td>\n",
       "      <td>571787</td>\n",
       "      <td>373248</td>\n",
       "    </tr>\n",
       "    <tr>\n",
       "      <td>4</td>\n",
       "      <td>636056</td>\n",
       "      <td>636056</td>\n",
       "      <td>571787</td>\n",
       "    </tr>\n",
       "  </tbody>\n",
       "</table>\n",
       "</div>"
      ],
      "text/plain": [
       "        X       Y       Z\n",
       "0  474552  592704  636056\n",
       "1  614125  830584  912673\n",
       "2  884736  704969  884736\n",
       "3  512000  571787  373248\n",
       "4  636056  636056  571787"
      ]
     },
     "execution_count": 113,
     "metadata": {},
     "output_type": "execute_result"
    }
   ],
   "source": [
    "import pandas as pd\n",
    "import numpy as np\n",
    "df = pd.DataFrame( {'X':[78,85,96,80,86], 'Y':[84,94,89,83,86],'Z':[86,97,96,72,83]})\n",
    "print(df)\n",
    "np.power(df, 3)"
   ]
  },
  {
   "cell_type": "markdown",
   "metadata": {
    "colab_type": "text",
    "id": "dBzGRgAyQ38M"
   },
   "source": [
    "### Q107. Write thepandas program to get the first 3 rows of a given DataFrame?"
   ]
  },
  {
   "cell_type": "code",
   "execution_count": 114,
   "metadata": {
    "colab": {
     "base_uri": "https://localhost:8080/",
     "height": 118
    },
    "colab_type": "code",
    "id": "DZMZfLJkRPTJ",
    "outputId": "dfd7bacf-a9dd-4227-84e3-c78663d10112"
   },
   "outputs": [
    {
     "name": "stdout",
     "output_type": "stream",
     "text": [
      "\n",
      "First three rows of the data frame-\n",
      "   attempts       name qualify  score\n",
      "a         1  Anastasia     yes   12.5\n",
      "b         3       Dima      no    9.0\n",
      "c         2  Katherine     yes   16.5\n"
     ]
    }
   ],
   "source": [
    "import pandas as pd\n",
    "\n",
    "exam_data= {'name': ['Anastasia', 'Dima', 'Katherine', 'James', 'Emily', 'Michael', 'Matthew', 'Laura', 'Kevin', 'Jonas'],\n",
    "            'score': [12.5, 9, 16.5, np.nan, 9, 20, 14.5, np.nan, 8, 19],\n",
    "            'attempts':[1, 3, 2, 3, 2, 3, 1, 1, 2, 1],\n",
    "            'qualify':['yes', 'no', 'yes', 'no', 'no', 'yes', 'yes', 'no','no','yes']}\n",
    "labels = ['a', 'b', 'c', 'd', 'e', 'f', 'g', 'h', 'i', 'j']\n",
    "\n",
    "df = pd.DataFrame(exam_data, index = labels)\n",
    "print('\\nFirst three rows of the data frame-')\n",
    "df1 = df.iloc[:3]\n",
    "print(df1[ ['attempts','name', 'qualify', 'score'] ])\n"
   ]
  },
  {
   "cell_type": "markdown",
   "metadata": {
    "colab_type": "text",
    "id": "1oclt3plTsfV"
   },
   "source": [
    "### Q108: Write thepandas program to select the specified columns and the rows from a given data frame?"
   ]
  },
  {
   "cell_type": "code",
   "execution_count": 115,
   "metadata": {
    "colab": {
     "base_uri": "https://localhost:8080/",
     "height": 166
    },
    "colab_type": "code",
    "id": "ZSmcktJ_Tvbg",
    "outputId": "e29ae3cb-3272-4f04-e37b-01c7ed3af512"
   },
   "outputs": [
    {
     "data": {
      "text/html": [
       "<div>\n",
       "<style scoped>\n",
       "    .dataframe tbody tr th:only-of-type {\n",
       "        vertical-align: middle;\n",
       "    }\n",
       "\n",
       "    .dataframe tbody tr th {\n",
       "        vertical-align: top;\n",
       "    }\n",
       "\n",
       "    .dataframe thead th {\n",
       "        text-align: right;\n",
       "    }\n",
       "</style>\n",
       "<table border=\"1\" class=\"dataframe\">\n",
       "  <thead>\n",
       "    <tr style=\"text-align: right;\">\n",
       "      <th></th>\n",
       "      <th>name</th>\n",
       "      <th>score</th>\n",
       "    </tr>\n",
       "  </thead>\n",
       "  <tbody>\n",
       "    <tr>\n",
       "      <td>b</td>\n",
       "      <td>Dima</td>\n",
       "      <td>9.0</td>\n",
       "    </tr>\n",
       "    <tr>\n",
       "      <td>d</td>\n",
       "      <td>James</td>\n",
       "      <td>NaN</td>\n",
       "    </tr>\n",
       "    <tr>\n",
       "      <td>f</td>\n",
       "      <td>Michael</td>\n",
       "      <td>20.0</td>\n",
       "    </tr>\n",
       "    <tr>\n",
       "      <td>g</td>\n",
       "      <td>Matthew</td>\n",
       "      <td>14.5</td>\n",
       "    </tr>\n",
       "  </tbody>\n",
       "</table>\n",
       "</div>"
      ],
      "text/plain": [
       "      name  score\n",
       "b     Dima    9.0\n",
       "d    James    NaN\n",
       "f  Michael   20.0\n",
       "g  Matthew   14.5"
      ]
     },
     "execution_count": 115,
     "metadata": {},
     "output_type": "execute_result"
    }
   ],
   "source": [
    "import pandas as pd\n",
    "\n",
    "exam_data = {'name': ['Anastasia', 'Dima', 'Katherine', 'James', 'Emily', 'Michael', 'Matthew', 'Laura', 'Kevin', 'Jonas'],\n",
    "             'score':[12.5, 9, 16.5, np.nan, 9, 20, 14.5, np.nan, 8, 19],\n",
    "             'attempts':[1, 3, 2, 3, 2, 3, 1, 1, 2, 1],\n",
    "             'qualify':['yes', 'no', 'yes', 'no', 'no', 'yes', 'yes', 'no', 'no', 'yes']}\n",
    "\n",
    "labels = ['a', 'b', 'c', 'd', 'e', 'f', 'g', 'h', 'i', 'j']\n",
    "\n",
    "df = pd.DataFrame(exam_data, index = labels)\n",
    "df.loc[['b','d','f','g'],['name','score']]\n"
   ]
  },
  {
   "cell_type": "markdown",
   "metadata": {
    "colab_type": "text",
    "id": "5rRiVN9rVKJG"
   },
   "source": [
    "### Q109.Write the pandas program to calculate mean score for each different student in DataFrame?"
   ]
  },
  {
   "cell_type": "code",
   "execution_count": 116,
   "metadata": {
    "colab": {
     "base_uri": "https://localhost:8080/",
     "height": 50
    },
    "colab_type": "code",
    "id": "GP_cRjomVSn-",
    "outputId": "b2f9d25a-251c-424c-81a3-c4ab8ac0d65c"
   },
   "outputs": [
    {
     "name": "stdout",
     "output_type": "stream",
     "text": [
      "Mean score for each different student in data frame\n",
      "13.5625\n"
     ]
    }
   ],
   "source": [
    "import pandas as pd\n",
    "\n",
    "exam_data= {'name': ['Anastasia', 'Dima', 'Katherine', 'James', 'Emily', 'Michael', 'Matthew', 'Laura', 'Kevin', 'Jonas'],\n",
    "            'score': [12.5, 9, 16.5, np.nan, 9, 20, 14.5, np.nan, 8, 19],\n",
    "            'attempts':[1, 3, 2, 3, 2, 3, 1, 1, 2, 1],\n",
    "            'qualify':['yes', 'no', 'yes', 'no', 'no', 'yes', 'yes', 'no', 'no', 'yes']}\n",
    "\n",
    "labels = ['a', 'b', 'c', 'd', 'e', 'f', 'g', 'h', 'i', 'j']\n",
    "df = pd.DataFrame(exam_data, index= labels)\n",
    "\n",
    "print('Mean score for each different student in data frame')\n",
    "print(df['score'].mean())"
   ]
  },
  {
   "cell_type": "markdown",
   "metadata": {
    "colab_type": "text",
    "id": "D8isuIZLYS8T"
   },
   "source": [
    "### Q110.Write thePandas program to rename columns of a given DataFrame?"
   ]
  },
  {
   "cell_type": "code",
   "execution_count": 117,
   "metadata": {
    "colab": {
     "base_uri": "https://localhost:8080/",
     "height": 185
    },
    "colab_type": "code",
    "id": "S71WlYxLY6E2",
    "outputId": "2e2c1dda-7c81-4f27-940c-38ef57e40963"
   },
   "outputs": [
    {
     "name": "stdout",
     "output_type": "stream",
     "text": [
      "Original DataFrame\n",
      "   col1  col2  col3\n",
      "0     1     4     7\n",
      "1     2     5     8\n",
      "2     3     6     9\n",
      "New dataframe after renaming columns\n",
      "   Column1  Column2  Column3\n",
      "0        1        4        7\n",
      "1        2        5        8\n",
      "2        3        6        9\n"
     ]
    }
   ],
   "source": [
    "import pandas as pd\n",
    "data = {'col1':[1, 2, 3], 'col2':[4, 5, 6], 'col3':[7, 8, 9]}\n",
    "df = pd.DataFrame(data)\n",
    "print('Original DataFrame')\n",
    "print(df)\n",
    "\n",
    "df = df.rename(columns={'col1':'Column1', 'col2':'Column2', 'col3':'Column3'})\n",
    "print('New dataframe after renaming columns')\n",
    "print(df)"
   ]
  },
  {
   "cell_type": "markdown",
   "metadata": {
    "colab_type": "text",
    "id": "z43qiACacUbX"
   },
   "source": [
    "### Q111.Write a pandas program to count city-wise number of people from a given of data set (city,name of the person)?"
   ]
  },
  {
   "cell_type": "code",
   "execution_count": 118,
   "metadata": {
    "colab": {
     "base_uri": "https://localhost:8080/",
     "height": 84
    },
    "colab_type": "code",
    "id": "M5mflmeVctS-",
    "outputId": "246fc01f-9d0a-42c2-f029-3f37e54ec760"
   },
   "outputs": [
    {
     "name": "stdout",
     "output_type": "stream",
     "text": [
      "          city  Number of people\n",
      "0   California                 4\n",
      "1      Georgia                 2\n",
      "2  Los Angeles                 4\n"
     ]
    }
   ],
   "source": [
    "import pandas as pd\n",
    "data = { 'name': ['Anastasia', 'Dima', 'Katherine', 'James', 'Emily', 'Michael', 'Matthew', 'Laura', 'Kevin', 'Jonas'],\n",
    "        'city': ['California', 'Los Angeles', 'California', 'California', 'California', 'Los Angeles', 'Los Angeles', 'Georgia', 'Georgia', 'Los Angeles']}\n",
    "df = pd.DataFrame(data)\n",
    "g1 = df.groupby(by=['city']).size().reset_index(name='Number of people')\n",
    "\n",
    "print(g1)"
   ]
  },
  {
   "cell_type": "markdown",
   "metadata": {
    "colab_type": "text",
    "id": "XmgevKbVeej_"
   },
   "source": [
    "### Q112. Write a pandas program to widen output display to see more columns?"
   ]
  },
  {
   "cell_type": "code",
   "execution_count": 119,
   "metadata": {
    "colab": {
     "base_uri": "https://localhost:8080/",
     "height": 134
    },
    "colab_type": "code",
    "id": "BAjqJhKeehQr",
    "outputId": "e7559db3-87db-4ef7-e32e-3dcdfcb1547d"
   },
   "outputs": [
    {
     "name": "stdout",
     "output_type": "stream",
     "text": [
      "Original DataFrame\n",
      "   col1  col2  col3\n",
      "0     1     4     7\n",
      "1     4     5     8\n",
      "2     3     6     9\n",
      "3     4     7     0\n",
      "4     5     8     1\n"
     ]
    }
   ],
   "source": [
    "import pandas as pd\n",
    "d = {'col1': [1, 4, 3, 4, 5], 'col2': [4, 5, 6, 7, 8], 'col3': [7, 8, 9, 0, 1]}\n",
    "df = pd.DataFrame(data=d)\n",
    "pd.set_option('display.max_rows', 500)\n",
    "pd.set_option('display.max_columns', 500)\n",
    "pd.set_option('display.width', 1000)\n",
    "print('Original DataFrame')\n",
    "print(df)"
   ]
  },
  {
   "cell_type": "markdown",
   "metadata": {
    "colab_type": "text",
    "id": "yR-AOCj3hBa1"
   },
   "source": [
    "### Q113.Write a pandas program to convert the dataframe column type from string to DateTime?"
   ]
  },
  {
   "cell_type": "code",
   "execution_count": 120,
   "metadata": {
    "colab": {
     "base_uri": "https://localhost:8080/",
     "height": 185
    },
    "colab_type": "code",
    "id": "PMERGTPthEFp",
    "outputId": "ef5b1b88-85f9-43d1-e3e8-e03ca97bd53f"
   },
   "outputs": [
    {
     "name": "stdout",
     "output_type": "stream",
     "text": [
      "String Date-\n",
      "0    3/11/2000\n",
      "1    3/12/2000\n",
      "2    3/13/2000\n",
      "dtype: object\n",
      "Original DataFrame (string to datetime)\n",
      "           0\n",
      "0 2000-03-11\n",
      "1 2000-03-12\n",
      "2 2000-03-13\n"
     ]
    }
   ],
   "source": [
    "import pandas as pd\n",
    "date = ['3/11/2000', '3/12/2000', '3/13/2000']\n",
    "s = pd.Series(date)\n",
    "print('String Date-')\n",
    "print(s)\n",
    "r = pd.to_datetime(s)\n",
    "df = pd.DataFrame(r)\n",
    "print('Original DataFrame (string to datetime)')\n",
    "print(df)"
   ]
  },
  {
   "cell_type": "markdown",
   "metadata": {
    "colab_type": "text",
    "id": "AD0XHgMfiwwc"
   },
   "source": [
    "### Q114. Write a pandas program to append the data to an empty DataFrame?"
   ]
  },
  {
   "cell_type": "code",
   "execution_count": 121,
   "metadata": {
    "colab": {
     "base_uri": "https://localhost:8080/",
     "height": 101
    },
    "colab_type": "code",
    "id": "hHTsAcBzjWfT",
    "outputId": "32c6636b-b8e5-42e1-dc18-4243585c8a9b"
   },
   "outputs": [
    {
     "name": "stdout",
     "output_type": "stream",
     "text": [
      "Original DataFrame-After appending some data\n",
      "   col1  col2\n",
      "0     0     0\n",
      "1     1     1\n",
      "2     2     2\n"
     ]
    }
   ],
   "source": [
    "import pandas as pd\n",
    "import numpy as np\n",
    "df = pd.DataFrame()\n",
    "data = pd.DataFrame({'col1':range(3), 'col2':range(3)})\n",
    "df = df.append(data)\n",
    "print('Original DataFrame-After appending some data')\n",
    "print(df)"
   ]
  },
  {
   "cell_type": "markdown",
   "metadata": {
    "colab_type": "text",
    "id": "oj7z02V0kaQn"
   },
   "source": [
    "### Q115. Write a pandas program to count the number of columns of a DataFrame?"
   ]
  },
  {
   "cell_type": "code",
   "execution_count": 122,
   "metadata": {
    "colab": {
     "base_uri": "https://localhost:8080/",
     "height": 168
    },
    "colab_type": "code",
    "id": "qF-c0IzekiNf",
    "outputId": "22515518-b547-44b1-ce1d-db1281a18060"
   },
   "outputs": [
    {
     "name": "stdout",
     "output_type": "stream",
     "text": [
      "Original DataFrame\n",
      "   col1  col2  col3\n",
      "0     1     4     7\n",
      "1     2     5     8\n",
      "2     3     6    12\n",
      "3     4     9     1\n",
      "4     7     5    11\n",
      "\n",
      "Number of columns- 3\n"
     ]
    }
   ],
   "source": [
    "import pandas as pd\n",
    "d = {'col1': [1, 2, 3, 4, 7], 'col2': [4, 5, 6, 9, 5], 'col3': [7, 8, 12, 1, 11]}\n",
    "df = pd.DataFrame(d)\n",
    "print('Original DataFrame')\n",
    "print(df)\n",
    "print('\\nNumber of columns-', len(df.columns))"
   ]
  },
  {
   "cell_type": "markdown",
   "metadata": {
    "colab_type": "text",
    "id": "UrEp7gXgl7x4"
   },
   "source": [
    "#### Q116. Write a Pandas program to remove the last n rows of a given DataFrame ?"
   ]
  },
  {
   "cell_type": "code",
   "execution_count": 123,
   "metadata": {
    "colab": {
     "base_uri": "https://localhost:8080/",
     "height": 252
    },
    "colab_type": "code",
    "id": "2LJLkQMCmna6",
    "outputId": "e71c3d4a-94be-41c1-8f41-f88fc9f1613b"
   },
   "outputs": [
    {
     "name": "stdout",
     "output_type": "stream",
     "text": [
      "Original DataFrame\n",
      "   col1  col2  col3\n",
      "0     1     4     7\n",
      "1     2     5     5\n",
      "2     3     6     8\n",
      "3     4     9    12\n",
      "4     7     5     1\n",
      "5    11     0    11\n",
      "\n",
      "After removing last 3 rows of the said DataFrame-\n",
      "   col1  col2  col3\n",
      "0     1     4     7\n",
      "1     2     5     5\n",
      "2     3     6     8\n"
     ]
    }
   ],
   "source": [
    "import pandas as pd\n",
    "\n",
    "data = {'col1': [1, 2, 3, 4, 7, 11],\n",
    "     'col2': [4, 5, 6, 9, 5, 0],\n",
    "     'col3': [7, 5, 8, 12, 1,11]}\n",
    "\n",
    "df =pd.DataFrame(data)\n",
    "print('Original DataFrame')\n",
    "print(df)\n",
    "print(\"\\nAfter removing last 3 rows of the said DataFrame-\")\n",
    "df1 = df.iloc[:3]\n",
    "print(df1)"
   ]
  },
  {
   "cell_type": "markdown",
   "metadata": {
    "colab_type": "text",
    "id": "PlyZkGKAnvvk"
   },
   "source": [
    "### Q117. Write a Pandas program to import excel data (coalpublic2013.xlsx ) into a Pandas dataframe."
   ]
  },
  {
   "cell_type": "code",
   "execution_count": 124,
   "metadata": {},
   "outputs": [
    {
     "name": "stdout",
     "output_type": "stream",
     "text": [
      "   Year  MSHA ID                       Mine_Name  Production  Labor_Hours\n",
      "0  2013   103381            Tacoa Highwall Miner       56004        22392\n",
      "1  2013   103404                Reid School Mine       28807        28447\n",
      "2  2013   100759  North River #1 Underground Min     1440115       474784\n",
      "3  2013   103246                      Bear Creek       87587        29193\n",
      "4  2013   103451                     Knight Mine      147499        46393\n"
     ]
    }
   ],
   "source": [
    "import pandas as pd\n",
    "import numpy as np\n",
    "df = pd.read_excel('coalpublic2013.xlsx')\n",
    "print(df.head())"
   ]
  },
  {
   "cell_type": "markdown",
   "metadata": {},
   "source": [
    "### Q118. Write a Pandas program to import excel data (coalpublic2013.xlsx ) into a dataframe and find details where \"Mine Name\" starts with \"P."
   ]
  },
  {
   "cell_type": "code",
   "execution_count": 125,
   "metadata": {},
   "outputs": [
    {
     "name": "stdout",
     "output_type": "stream",
     "text": [
      "    Year  MSHA ID                      Mine_Name  Production  Labor_Hours\n",
      "13  2013   103332                  Powhatan Mine      140521        61394\n",
      "18  2013   102976  Piney Woods Preparation Plant           0        14828\n",
      "19  2013   102976  Piney Woods Preparation Plant           0        23193\n",
      "46  2013   103321                 Poplar Springs      189370        76366\n"
     ]
    }
   ],
   "source": [
    "import pandas as pd\n",
    "import numpy as np\n",
    "\n",
    "df = pd.read_excel('coalpublic2013.xlsx')\n",
    "mask = df['Mine_Name'].str.startswith('P')\n",
    "print(df[mask])"
   ]
  },
  {
   "cell_type": "markdown",
   "metadata": {},
   "source": [
    "### Q119. Write a Pandas program to import excel data (employee.xlsx )into a Pandas dataframe and find the list of employees where hire_date> 01-01-07."
   ]
  },
  {
   "cell_type": "code",
   "execution_count": 137,
   "metadata": {},
   "outputs": [
    {
     "data": {
      "text/html": [
       "<div>\n",
       "<style scoped>\n",
       "    .dataframe tbody tr th:only-of-type {\n",
       "        vertical-align: middle;\n",
       "    }\n",
       "\n",
       "    .dataframe tbody tr th {\n",
       "        vertical-align: top;\n",
       "    }\n",
       "\n",
       "    .dataframe thead th {\n",
       "        text-align: right;\n",
       "    }\n",
       "</style>\n",
       "<table border=\"1\" class=\"dataframe\">\n",
       "  <thead>\n",
       "    <tr style=\"text-align: right;\">\n",
       "      <th></th>\n",
       "      <th>emp_id</th>\n",
       "      <th>first_name</th>\n",
       "      <th>last_name</th>\n",
       "      <th>hire_date</th>\n",
       "    </tr>\n",
       "  </thead>\n",
       "  <tbody>\n",
       "    <tr>\n",
       "      <td>4</td>\n",
       "      <td>124</td>\n",
       "      <td>Kevin</td>\n",
       "      <td>Mourgos</td>\n",
       "      <td>2007-11-16</td>\n",
       "    </tr>\n",
       "    <tr>\n",
       "      <td>7</td>\n",
       "      <td>127</td>\n",
       "      <td>James</td>\n",
       "      <td>Landry</td>\n",
       "      <td>2007-01-14</td>\n",
       "    </tr>\n",
       "    <tr>\n",
       "      <td>8</td>\n",
       "      <td>128</td>\n",
       "      <td>Steven</td>\n",
       "      <td>Markle</td>\n",
       "      <td>2008-03-08</td>\n",
       "    </tr>\n",
       "    <tr>\n",
       "      <td>12</td>\n",
       "      <td>132</td>\n",
       "      <td>TJ</td>\n",
       "      <td>Olson</td>\n",
       "      <td>2007-04-10</td>\n",
       "    </tr>\n",
       "    <tr>\n",
       "      <td>15</td>\n",
       "      <td>135</td>\n",
       "      <td>Ki</td>\n",
       "      <td>Gee</td>\n",
       "      <td>2007-12-12</td>\n",
       "    </tr>\n",
       "    <tr>\n",
       "      <td>16</td>\n",
       "      <td>136</td>\n",
       "      <td>Hazel</td>\n",
       "      <td>Philtanker</td>\n",
       "      <td>2008-02-06</td>\n",
       "    </tr>\n",
       "  </tbody>\n",
       "</table>\n",
       "</div>"
      ],
      "text/plain": [
       "    emp_id first_name   last_name  hire_date\n",
       "4      124      Kevin     Mourgos 2007-11-16\n",
       "7      127      James      Landry 2007-01-14\n",
       "8      128     Steven      Markle 2008-03-08\n",
       "12     132         TJ       Olson 2007-04-10\n",
       "15     135         Ki         Gee 2007-12-12\n",
       "16     136      Hazel  Philtanker 2008-02-06"
      ]
     },
     "execution_count": 137,
     "metadata": {},
     "output_type": "execute_result"
    }
   ],
   "source": [
    "import pandas as pd\n",
    "import numpy as np\n",
    "df = pd.read_excel('employee.xlsx',sheet_name='Sheet2')\n",
    "df[df['hire_date']>'20070101']"
   ]
  },
  {
   "cell_type": "markdown",
   "metadata": {},
   "source": [
    "### Q120.Write a Pandas program to import excel data (employee.xlsx ) into a Pandas dataframe and find a list of the employees of a specified year"
   ]
  },
  {
   "cell_type": "code",
   "execution_count": 138,
   "metadata": {},
   "outputs": [
    {
     "data": {
      "text/html": [
       "<div>\n",
       "<style scoped>\n",
       "    .dataframe tbody tr th:only-of-type {\n",
       "        vertical-align: middle;\n",
       "    }\n",
       "\n",
       "    .dataframe tbody tr th {\n",
       "        vertical-align: top;\n",
       "    }\n",
       "\n",
       "    .dataframe thead th {\n",
       "        text-align: right;\n",
       "    }\n",
       "</style>\n",
       "<table border=\"1\" class=\"dataframe\">\n",
       "  <thead>\n",
       "    <tr style=\"text-align: right;\">\n",
       "      <th></th>\n",
       "      <th>emp_id</th>\n",
       "      <th>first_name</th>\n",
       "      <th>last_name</th>\n",
       "      <th>hire_date</th>\n",
       "    </tr>\n",
       "  </thead>\n",
       "  <tbody>\n",
       "    <tr>\n",
       "      <td>2</td>\n",
       "      <td>122</td>\n",
       "      <td>Payam</td>\n",
       "      <td>Kaufling</td>\n",
       "      <td>2003-05-01</td>\n",
       "    </tr>\n",
       "    <tr>\n",
       "      <td>17</td>\n",
       "      <td>137</td>\n",
       "      <td>Renske</td>\n",
       "      <td>Ladwig</td>\n",
       "      <td>2003-07-14</td>\n",
       "    </tr>\n",
       "  </tbody>\n",
       "</table>\n",
       "</div>"
      ],
      "text/plain": [
       "    emp_id first_name last_name  hire_date\n",
       "2      122      Payam  Kaufling 2003-05-01\n",
       "17     137     Renske    Ladwig 2003-07-14"
      ]
     },
     "execution_count": 138,
     "metadata": {},
     "output_type": "execute_result"
    }
   ],
   "source": [
    "import pandas as pd\n",
    "import numpy as np\n",
    "df = pd.read_excel('employee.xlsx',sheet_name='Sheet2')\n",
    "df[pd.DatetimeIndex(df['hire_date']).year == 2003]"
   ]
  },
  {
   "cell_type": "markdown",
   "metadata": {},
   "source": [
    "### Q121.Write a pandas program to import three datasheets from a given excel data  (coalpublic2013.xlsx ) in to a single dataframe."
   ]
  },
  {
   "cell_type": "code",
   "execution_count": 139,
   "metadata": {},
   "outputs": [
    {
     "data": {
      "text/html": [
       "<div>\n",
       "<style scoped>\n",
       "    .dataframe tbody tr th:only-of-type {\n",
       "        vertical-align: middle;\n",
       "    }\n",
       "\n",
       "    .dataframe tbody tr th {\n",
       "        vertical-align: top;\n",
       "    }\n",
       "\n",
       "    .dataframe thead th {\n",
       "        text-align: right;\n",
       "    }\n",
       "</style>\n",
       "<table border=\"1\" class=\"dataframe\">\n",
       "  <thead>\n",
       "    <tr style=\"text-align: right;\">\n",
       "      <th></th>\n",
       "      <th>Year</th>\n",
       "      <th>MSHA ID</th>\n",
       "      <th>Mine_Name</th>\n",
       "      <th>Production</th>\n",
       "      <th>Labor_Hours</th>\n",
       "    </tr>\n",
       "  </thead>\n",
       "  <tbody>\n",
       "    <tr>\n",
       "      <td>0</td>\n",
       "      <td>2013</td>\n",
       "      <td>103381</td>\n",
       "      <td>Tacoa Highwall Miner</td>\n",
       "      <td>56004</td>\n",
       "      <td>22392</td>\n",
       "    </tr>\n",
       "    <tr>\n",
       "      <td>1</td>\n",
       "      <td>2013</td>\n",
       "      <td>103404</td>\n",
       "      <td>Reid School Mine</td>\n",
       "      <td>28807</td>\n",
       "      <td>28447</td>\n",
       "    </tr>\n",
       "    <tr>\n",
       "      <td>2</td>\n",
       "      <td>2013</td>\n",
       "      <td>100759</td>\n",
       "      <td>North River #1 Underground Min</td>\n",
       "      <td>1440115</td>\n",
       "      <td>474784</td>\n",
       "    </tr>\n",
       "    <tr>\n",
       "      <td>3</td>\n",
       "      <td>2013</td>\n",
       "      <td>103246</td>\n",
       "      <td>Bear Creek</td>\n",
       "      <td>87587</td>\n",
       "      <td>29193</td>\n",
       "    </tr>\n",
       "    <tr>\n",
       "      <td>4</td>\n",
       "      <td>2013</td>\n",
       "      <td>103451</td>\n",
       "      <td>Knight Mine</td>\n",
       "      <td>147499</td>\n",
       "      <td>46393</td>\n",
       "    </tr>\n",
       "    <tr>\n",
       "      <td>5</td>\n",
       "      <td>2013</td>\n",
       "      <td>103433</td>\n",
       "      <td>Crane Central Mine</td>\n",
       "      <td>69339</td>\n",
       "      <td>47195</td>\n",
       "    </tr>\n",
       "    <tr>\n",
       "      <td>6</td>\n",
       "      <td>2013</td>\n",
       "      <td>100329</td>\n",
       "      <td>Concord Mine</td>\n",
       "      <td>0</td>\n",
       "      <td>144002</td>\n",
       "    </tr>\n",
       "    <tr>\n",
       "      <td>7</td>\n",
       "      <td>2013</td>\n",
       "      <td>100851</td>\n",
       "      <td>Oak Grove Mine</td>\n",
       "      <td>2269014</td>\n",
       "      <td>1001809</td>\n",
       "    </tr>\n",
       "    <tr>\n",
       "      <td>8</td>\n",
       "      <td>2013</td>\n",
       "      <td>102901</td>\n",
       "      <td>Shoal Creek Mine</td>\n",
       "      <td>0</td>\n",
       "      <td>12396</td>\n",
       "    </tr>\n",
       "    <tr>\n",
       "      <td>9</td>\n",
       "      <td>2013</td>\n",
       "      <td>102901</td>\n",
       "      <td>Shoal Creek Mine</td>\n",
       "      <td>1453024</td>\n",
       "      <td>1237415</td>\n",
       "    </tr>\n",
       "    <tr>\n",
       "      <td>10</td>\n",
       "      <td>2013</td>\n",
       "      <td>103180</td>\n",
       "      <td>Sloan Mountain Mine</td>\n",
       "      <td>327780</td>\n",
       "      <td>196963</td>\n",
       "    </tr>\n",
       "    <tr>\n",
       "      <td>11</td>\n",
       "      <td>2013</td>\n",
       "      <td>103182</td>\n",
       "      <td>Fishtrap</td>\n",
       "      <td>175058</td>\n",
       "      <td>87314</td>\n",
       "    </tr>\n",
       "    <tr>\n",
       "      <td>12</td>\n",
       "      <td>2013</td>\n",
       "      <td>103285</td>\n",
       "      <td>Narley Mine</td>\n",
       "      <td>154861</td>\n",
       "      <td>90584</td>\n",
       "    </tr>\n",
       "    <tr>\n",
       "      <td>13</td>\n",
       "      <td>2013</td>\n",
       "      <td>103332</td>\n",
       "      <td>Powhatan Mine</td>\n",
       "      <td>140521</td>\n",
       "      <td>61394</td>\n",
       "    </tr>\n",
       "    <tr>\n",
       "      <td>14</td>\n",
       "      <td>2013</td>\n",
       "      <td>103375</td>\n",
       "      <td>Johnson Mine</td>\n",
       "      <td>580</td>\n",
       "      <td>1900</td>\n",
       "    </tr>\n",
       "    <tr>\n",
       "      <td>15</td>\n",
       "      <td>2013</td>\n",
       "      <td>103419</td>\n",
       "      <td>Maxine-Pratt Mine</td>\n",
       "      <td>125824</td>\n",
       "      <td>107469</td>\n",
       "    </tr>\n",
       "    <tr>\n",
       "      <td>16</td>\n",
       "      <td>2013</td>\n",
       "      <td>103432</td>\n",
       "      <td>Skelton Creek</td>\n",
       "      <td>8252</td>\n",
       "      <td>220</td>\n",
       "    </tr>\n",
       "    <tr>\n",
       "      <td>17</td>\n",
       "      <td>2013</td>\n",
       "      <td>103437</td>\n",
       "      <td>Black Warrior Mine No 1</td>\n",
       "      <td>145924</td>\n",
       "      <td>70926</td>\n",
       "    </tr>\n",
       "    <tr>\n",
       "      <td>18</td>\n",
       "      <td>2013</td>\n",
       "      <td>102976</td>\n",
       "      <td>Piney Woods Preparation Plant</td>\n",
       "      <td>0</td>\n",
       "      <td>14828</td>\n",
       "    </tr>\n",
       "    <tr>\n",
       "      <td>19</td>\n",
       "      <td>2013</td>\n",
       "      <td>102976</td>\n",
       "      <td>Piney Woods Preparation Plant</td>\n",
       "      <td>0</td>\n",
       "      <td>23193</td>\n",
       "    </tr>\n",
       "    <tr>\n",
       "      <td>20</td>\n",
       "      <td>2013</td>\n",
       "      <td>103380</td>\n",
       "      <td>Calera</td>\n",
       "      <td>0</td>\n",
       "      <td>12621</td>\n",
       "    </tr>\n",
       "    <tr>\n",
       "      <td>21</td>\n",
       "      <td>2013</td>\n",
       "      <td>103380</td>\n",
       "      <td>Calera</td>\n",
       "      <td>0</td>\n",
       "      <td>1402</td>\n",
       "    </tr>\n",
       "    <tr>\n",
       "      <td>22</td>\n",
       "      <td>2013</td>\n",
       "      <td>103422</td>\n",
       "      <td>Clark No 1 Mine</td>\n",
       "      <td>122727</td>\n",
       "      <td>140250</td>\n",
       "    </tr>\n",
       "    <tr>\n",
       "      <td>23</td>\n",
       "      <td>2013</td>\n",
       "      <td>103467</td>\n",
       "      <td>Helena Surface Mine</td>\n",
       "      <td>59664</td>\n",
       "      <td>30539</td>\n",
       "    </tr>\n",
       "    <tr>\n",
       "      <td>24</td>\n",
       "      <td>2013</td>\n",
       "      <td>101247</td>\n",
       "      <td>No 4 Mine</td>\n",
       "      <td>2622528</td>\n",
       "      <td>1551141</td>\n",
       "    </tr>\n",
       "    <tr>\n",
       "      <td>25</td>\n",
       "      <td>2013</td>\n",
       "      <td>101401</td>\n",
       "      <td>No 7 Mine</td>\n",
       "      <td>5405412</td>\n",
       "      <td>2464719</td>\n",
       "    </tr>\n",
       "    <tr>\n",
       "      <td>26</td>\n",
       "      <td>2013</td>\n",
       "      <td>103172</td>\n",
       "      <td>Searles Mine No. 2, 3, 4, 5, 6</td>\n",
       "      <td>258078</td>\n",
       "      <td>119542</td>\n",
       "    </tr>\n",
       "    <tr>\n",
       "      <td>27</td>\n",
       "      <td>2013</td>\n",
       "      <td>103179</td>\n",
       "      <td>Fleetwood Mine No 1</td>\n",
       "      <td>75937</td>\n",
       "      <td>63745</td>\n",
       "    </tr>\n",
       "    <tr>\n",
       "      <td>28</td>\n",
       "      <td>2013</td>\n",
       "      <td>103303</td>\n",
       "      <td>Shannon Mine</td>\n",
       "      <td>317491</td>\n",
       "      <td>164388</td>\n",
       "    </tr>\n",
       "    <tr>\n",
       "      <td>29</td>\n",
       "      <td>2013</td>\n",
       "      <td>103323</td>\n",
       "      <td>Deerlick Mine</td>\n",
       "      <td>133452</td>\n",
       "      <td>46381</td>\n",
       "    </tr>\n",
       "    <tr>\n",
       "      <td>30</td>\n",
       "      <td>2013</td>\n",
       "      <td>103364</td>\n",
       "      <td>Brc Alabama No. 7 Llc</td>\n",
       "      <td>0</td>\n",
       "      <td>14324</td>\n",
       "    </tr>\n",
       "    <tr>\n",
       "      <td>31</td>\n",
       "      <td>2013</td>\n",
       "      <td>103436</td>\n",
       "      <td>Swann's Crossing</td>\n",
       "      <td>137511</td>\n",
       "      <td>77190</td>\n",
       "    </tr>\n",
       "    <tr>\n",
       "      <td>32</td>\n",
       "      <td>2013</td>\n",
       "      <td>100347</td>\n",
       "      <td>Choctaw Mine</td>\n",
       "      <td>537429</td>\n",
       "      <td>215295</td>\n",
       "    </tr>\n",
       "    <tr>\n",
       "      <td>33</td>\n",
       "      <td>2013</td>\n",
       "      <td>101362</td>\n",
       "      <td>Manchester Mine</td>\n",
       "      <td>219457</td>\n",
       "      <td>116914</td>\n",
       "    </tr>\n",
       "    <tr>\n",
       "      <td>34</td>\n",
       "      <td>2013</td>\n",
       "      <td>102996</td>\n",
       "      <td>Jap Creek Mine</td>\n",
       "      <td>375715</td>\n",
       "      <td>164093</td>\n",
       "    </tr>\n",
       "    <tr>\n",
       "      <td>35</td>\n",
       "      <td>2013</td>\n",
       "      <td>103155</td>\n",
       "      <td>Corinth Prep Plant</td>\n",
       "      <td>0</td>\n",
       "      <td>27996</td>\n",
       "    </tr>\n",
       "    <tr>\n",
       "      <td>36</td>\n",
       "      <td>2013</td>\n",
       "      <td>103155</td>\n",
       "      <td>Corinth Prep Plant</td>\n",
       "      <td>0</td>\n",
       "      <td>51994</td>\n",
       "    </tr>\n",
       "    <tr>\n",
       "      <td>37</td>\n",
       "      <td>2013</td>\n",
       "      <td>103195</td>\n",
       "      <td>Mccollum/Sparks Branch Mine</td>\n",
       "      <td>71910</td>\n",
       "      <td>17411</td>\n",
       "    </tr>\n",
       "    <tr>\n",
       "      <td>38</td>\n",
       "      <td>2013</td>\n",
       "      <td>103342</td>\n",
       "      <td>Reese's Branch Mine</td>\n",
       "      <td>263888</td>\n",
       "      <td>115123</td>\n",
       "    </tr>\n",
       "    <tr>\n",
       "      <td>39</td>\n",
       "      <td>2013</td>\n",
       "      <td>103370</td>\n",
       "      <td>Cresent Valley Mine</td>\n",
       "      <td>2860</td>\n",
       "      <td>621</td>\n",
       "    </tr>\n",
       "    <tr>\n",
       "      <td>40</td>\n",
       "      <td>2013</td>\n",
       "      <td>103372</td>\n",
       "      <td>Cane Creek Mine</td>\n",
       "      <td>66258</td>\n",
       "      <td>32401</td>\n",
       "    </tr>\n",
       "    <tr>\n",
       "      <td>41</td>\n",
       "      <td>2013</td>\n",
       "      <td>103376</td>\n",
       "      <td>Town Creek</td>\n",
       "      <td>299167</td>\n",
       "      <td>176499</td>\n",
       "    </tr>\n",
       "    <tr>\n",
       "      <td>42</td>\n",
       "      <td>2013</td>\n",
       "      <td>103389</td>\n",
       "      <td>Carbon Hill Mine</td>\n",
       "      <td>76241</td>\n",
       "      <td>84966</td>\n",
       "    </tr>\n",
       "    <tr>\n",
       "      <td>43</td>\n",
       "      <td>2013</td>\n",
       "      <td>103410</td>\n",
       "      <td>Coal Valley Mine</td>\n",
       "      <td>407841</td>\n",
       "      <td>158591</td>\n",
       "    </tr>\n",
       "    <tr>\n",
       "      <td>44</td>\n",
       "      <td>2013</td>\n",
       "      <td>103423</td>\n",
       "      <td>Dutton Hill Mine</td>\n",
       "      <td>37275</td>\n",
       "      <td>9162</td>\n",
       "    </tr>\n",
       "    <tr>\n",
       "      <td>45</td>\n",
       "      <td>2013</td>\n",
       "      <td>1519322</td>\n",
       "      <td>Ghm #25</td>\n",
       "      <td>25054</td>\n",
       "      <td>3108</td>\n",
       "    </tr>\n",
       "    <tr>\n",
       "      <td>46</td>\n",
       "      <td>2013</td>\n",
       "      <td>103321</td>\n",
       "      <td>Poplar Springs</td>\n",
       "      <td>189370</td>\n",
       "      <td>76366</td>\n",
       "    </tr>\n",
       "    <tr>\n",
       "      <td>47</td>\n",
       "      <td>2013</td>\n",
       "      <td>103358</td>\n",
       "      <td>Old Union</td>\n",
       "      <td>284563</td>\n",
       "      <td>161805</td>\n",
       "    </tr>\n",
       "    <tr>\n",
       "      <td>48</td>\n",
       "      <td>2013</td>\n",
       "      <td>5000030</td>\n",
       "      <td>Usibelli</td>\n",
       "      <td>1631584</td>\n",
       "      <td>286079</td>\n",
       "    </tr>\n",
       "    <tr>\n",
       "      <td>49</td>\n",
       "      <td>2013</td>\n",
       "      <td>201195</td>\n",
       "      <td>Kayenta Mine</td>\n",
       "      <td>7602722</td>\n",
       "      <td>1015333</td>\n",
       "    </tr>\n",
       "    <tr>\n",
       "      <td>0</td>\n",
       "      <td>2013</td>\n",
       "      <td>103381</td>\n",
       "      <td>Tacoa Highwall Miner</td>\n",
       "      <td>56004</td>\n",
       "      <td>22392</td>\n",
       "    </tr>\n",
       "    <tr>\n",
       "      <td>1</td>\n",
       "      <td>2013</td>\n",
       "      <td>103404</td>\n",
       "      <td>Reid School Mine</td>\n",
       "      <td>28807</td>\n",
       "      <td>28447</td>\n",
       "    </tr>\n",
       "    <tr>\n",
       "      <td>2</td>\n",
       "      <td>2013</td>\n",
       "      <td>100759</td>\n",
       "      <td>North River #1 Underground Min</td>\n",
       "      <td>1440115</td>\n",
       "      <td>474784</td>\n",
       "    </tr>\n",
       "    <tr>\n",
       "      <td>3</td>\n",
       "      <td>2013</td>\n",
       "      <td>103246</td>\n",
       "      <td>Bear Creek</td>\n",
       "      <td>87587</td>\n",
       "      <td>29193</td>\n",
       "    </tr>\n",
       "    <tr>\n",
       "      <td>4</td>\n",
       "      <td>2013</td>\n",
       "      <td>103451</td>\n",
       "      <td>Knight Mine</td>\n",
       "      <td>147499</td>\n",
       "      <td>46393</td>\n",
       "    </tr>\n",
       "    <tr>\n",
       "      <td>5</td>\n",
       "      <td>2013</td>\n",
       "      <td>103433</td>\n",
       "      <td>Crane Central Mine</td>\n",
       "      <td>69339</td>\n",
       "      <td>47195</td>\n",
       "    </tr>\n",
       "    <tr>\n",
       "      <td>6</td>\n",
       "      <td>2013</td>\n",
       "      <td>100329</td>\n",
       "      <td>Concord Mine</td>\n",
       "      <td>0</td>\n",
       "      <td>144002</td>\n",
       "    </tr>\n",
       "    <tr>\n",
       "      <td>7</td>\n",
       "      <td>2013</td>\n",
       "      <td>100851</td>\n",
       "      <td>Oak Grove Mine</td>\n",
       "      <td>2269014</td>\n",
       "      <td>1001809</td>\n",
       "    </tr>\n",
       "    <tr>\n",
       "      <td>8</td>\n",
       "      <td>2013</td>\n",
       "      <td>102901</td>\n",
       "      <td>Shoal Creek Mine</td>\n",
       "      <td>0</td>\n",
       "      <td>12396</td>\n",
       "    </tr>\n",
       "    <tr>\n",
       "      <td>9</td>\n",
       "      <td>2013</td>\n",
       "      <td>102901</td>\n",
       "      <td>Shoal Creek Mine</td>\n",
       "      <td>1453024</td>\n",
       "      <td>1237415</td>\n",
       "    </tr>\n",
       "    <tr>\n",
       "      <td>10</td>\n",
       "      <td>2013</td>\n",
       "      <td>103180</td>\n",
       "      <td>Sloan Mountain Mine</td>\n",
       "      <td>327780</td>\n",
       "      <td>196963</td>\n",
       "    </tr>\n",
       "    <tr>\n",
       "      <td>11</td>\n",
       "      <td>2013</td>\n",
       "      <td>103182</td>\n",
       "      <td>Fishtrap</td>\n",
       "      <td>175058</td>\n",
       "      <td>87314</td>\n",
       "    </tr>\n",
       "    <tr>\n",
       "      <td>12</td>\n",
       "      <td>2013</td>\n",
       "      <td>103285</td>\n",
       "      <td>Narley Mine</td>\n",
       "      <td>154861</td>\n",
       "      <td>90584</td>\n",
       "    </tr>\n",
       "    <tr>\n",
       "      <td>13</td>\n",
       "      <td>2013</td>\n",
       "      <td>103332</td>\n",
       "      <td>Powhatan Mine</td>\n",
       "      <td>140521</td>\n",
       "      <td>61394</td>\n",
       "    </tr>\n",
       "    <tr>\n",
       "      <td>14</td>\n",
       "      <td>2013</td>\n",
       "      <td>103375</td>\n",
       "      <td>Johnson Mine</td>\n",
       "      <td>580</td>\n",
       "      <td>1900</td>\n",
       "    </tr>\n",
       "    <tr>\n",
       "      <td>15</td>\n",
       "      <td>2013</td>\n",
       "      <td>103419</td>\n",
       "      <td>Maxine-Pratt Mine</td>\n",
       "      <td>125824</td>\n",
       "      <td>107469</td>\n",
       "    </tr>\n",
       "    <tr>\n",
       "      <td>16</td>\n",
       "      <td>2013</td>\n",
       "      <td>103432</td>\n",
       "      <td>Skelton Creek</td>\n",
       "      <td>8252</td>\n",
       "      <td>220</td>\n",
       "    </tr>\n",
       "    <tr>\n",
       "      <td>17</td>\n",
       "      <td>2013</td>\n",
       "      <td>103437</td>\n",
       "      <td>Black Warrior Mine No 1</td>\n",
       "      <td>145924</td>\n",
       "      <td>70926</td>\n",
       "    </tr>\n",
       "    <tr>\n",
       "      <td>18</td>\n",
       "      <td>2013</td>\n",
       "      <td>102976</td>\n",
       "      <td>Piney Woods Preparation Plant</td>\n",
       "      <td>0</td>\n",
       "      <td>14828</td>\n",
       "    </tr>\n",
       "    <tr>\n",
       "      <td>19</td>\n",
       "      <td>2013</td>\n",
       "      <td>102976</td>\n",
       "      <td>Piney Woods Preparation Plant</td>\n",
       "      <td>0</td>\n",
       "      <td>23193</td>\n",
       "    </tr>\n",
       "    <tr>\n",
       "      <td>20</td>\n",
       "      <td>2013</td>\n",
       "      <td>103380</td>\n",
       "      <td>Calera</td>\n",
       "      <td>0</td>\n",
       "      <td>12621</td>\n",
       "    </tr>\n",
       "    <tr>\n",
       "      <td>21</td>\n",
       "      <td>2013</td>\n",
       "      <td>103380</td>\n",
       "      <td>Calera</td>\n",
       "      <td>0</td>\n",
       "      <td>1402</td>\n",
       "    </tr>\n",
       "    <tr>\n",
       "      <td>22</td>\n",
       "      <td>2013</td>\n",
       "      <td>103422</td>\n",
       "      <td>Clark No 1 Mine</td>\n",
       "      <td>122727</td>\n",
       "      <td>140250</td>\n",
       "    </tr>\n",
       "    <tr>\n",
       "      <td>23</td>\n",
       "      <td>2013</td>\n",
       "      <td>103467</td>\n",
       "      <td>Helena Surface Mine</td>\n",
       "      <td>59664</td>\n",
       "      <td>30539</td>\n",
       "    </tr>\n",
       "    <tr>\n",
       "      <td>24</td>\n",
       "      <td>2013</td>\n",
       "      <td>101247</td>\n",
       "      <td>No 4 Mine</td>\n",
       "      <td>2622528</td>\n",
       "      <td>1551141</td>\n",
       "    </tr>\n",
       "    <tr>\n",
       "      <td>25</td>\n",
       "      <td>2013</td>\n",
       "      <td>101401</td>\n",
       "      <td>No 7 Mine</td>\n",
       "      <td>5405412</td>\n",
       "      <td>2464719</td>\n",
       "    </tr>\n",
       "    <tr>\n",
       "      <td>26</td>\n",
       "      <td>2013</td>\n",
       "      <td>103172</td>\n",
       "      <td>Searles Mine No. 2, 3, 4, 5, 6</td>\n",
       "      <td>258078</td>\n",
       "      <td>119542</td>\n",
       "    </tr>\n",
       "    <tr>\n",
       "      <td>27</td>\n",
       "      <td>2013</td>\n",
       "      <td>103179</td>\n",
       "      <td>Fleetwood Mine No 1</td>\n",
       "      <td>75937</td>\n",
       "      <td>63745</td>\n",
       "    </tr>\n",
       "    <tr>\n",
       "      <td>28</td>\n",
       "      <td>2013</td>\n",
       "      <td>103303</td>\n",
       "      <td>Shannon Mine</td>\n",
       "      <td>317491</td>\n",
       "      <td>164388</td>\n",
       "    </tr>\n",
       "    <tr>\n",
       "      <td>29</td>\n",
       "      <td>2013</td>\n",
       "      <td>103323</td>\n",
       "      <td>Deerlick Mine</td>\n",
       "      <td>133452</td>\n",
       "      <td>46381</td>\n",
       "    </tr>\n",
       "    <tr>\n",
       "      <td>30</td>\n",
       "      <td>2013</td>\n",
       "      <td>103364</td>\n",
       "      <td>Brc Alabama No. 7 Llc</td>\n",
       "      <td>0</td>\n",
       "      <td>14324</td>\n",
       "    </tr>\n",
       "    <tr>\n",
       "      <td>31</td>\n",
       "      <td>2013</td>\n",
       "      <td>103436</td>\n",
       "      <td>Swann's Crossing</td>\n",
       "      <td>137511</td>\n",
       "      <td>77190</td>\n",
       "    </tr>\n",
       "    <tr>\n",
       "      <td>32</td>\n",
       "      <td>2013</td>\n",
       "      <td>100347</td>\n",
       "      <td>Choctaw Mine</td>\n",
       "      <td>537429</td>\n",
       "      <td>215295</td>\n",
       "    </tr>\n",
       "    <tr>\n",
       "      <td>33</td>\n",
       "      <td>2013</td>\n",
       "      <td>101362</td>\n",
       "      <td>Manchester Mine</td>\n",
       "      <td>219457</td>\n",
       "      <td>116914</td>\n",
       "    </tr>\n",
       "    <tr>\n",
       "      <td>34</td>\n",
       "      <td>2013</td>\n",
       "      <td>102996</td>\n",
       "      <td>Jap Creek Mine</td>\n",
       "      <td>375715</td>\n",
       "      <td>164093</td>\n",
       "    </tr>\n",
       "    <tr>\n",
       "      <td>35</td>\n",
       "      <td>2013</td>\n",
       "      <td>103155</td>\n",
       "      <td>Corinth Prep Plant</td>\n",
       "      <td>0</td>\n",
       "      <td>27996</td>\n",
       "    </tr>\n",
       "    <tr>\n",
       "      <td>36</td>\n",
       "      <td>2013</td>\n",
       "      <td>103155</td>\n",
       "      <td>Corinth Prep Plant</td>\n",
       "      <td>0</td>\n",
       "      <td>51994</td>\n",
       "    </tr>\n",
       "    <tr>\n",
       "      <td>37</td>\n",
       "      <td>2013</td>\n",
       "      <td>103195</td>\n",
       "      <td>Mccollum/Sparks Branch Mine</td>\n",
       "      <td>71910</td>\n",
       "      <td>17411</td>\n",
       "    </tr>\n",
       "    <tr>\n",
       "      <td>38</td>\n",
       "      <td>2013</td>\n",
       "      <td>103342</td>\n",
       "      <td>Reese's Branch Mine</td>\n",
       "      <td>263888</td>\n",
       "      <td>115123</td>\n",
       "    </tr>\n",
       "    <tr>\n",
       "      <td>39</td>\n",
       "      <td>2013</td>\n",
       "      <td>103370</td>\n",
       "      <td>Cresent Valley Mine</td>\n",
       "      <td>2860</td>\n",
       "      <td>621</td>\n",
       "    </tr>\n",
       "    <tr>\n",
       "      <td>40</td>\n",
       "      <td>2013</td>\n",
       "      <td>103372</td>\n",
       "      <td>Cane Creek Mine</td>\n",
       "      <td>66258</td>\n",
       "      <td>32401</td>\n",
       "    </tr>\n",
       "    <tr>\n",
       "      <td>41</td>\n",
       "      <td>2013</td>\n",
       "      <td>103376</td>\n",
       "      <td>Town Creek</td>\n",
       "      <td>299167</td>\n",
       "      <td>176499</td>\n",
       "    </tr>\n",
       "    <tr>\n",
       "      <td>42</td>\n",
       "      <td>2013</td>\n",
       "      <td>103389</td>\n",
       "      <td>Carbon Hill Mine</td>\n",
       "      <td>76241</td>\n",
       "      <td>84966</td>\n",
       "    </tr>\n",
       "    <tr>\n",
       "      <td>43</td>\n",
       "      <td>2013</td>\n",
       "      <td>103410</td>\n",
       "      <td>Coal Valley Mine</td>\n",
       "      <td>407841</td>\n",
       "      <td>158591</td>\n",
       "    </tr>\n",
       "    <tr>\n",
       "      <td>44</td>\n",
       "      <td>2013</td>\n",
       "      <td>103423</td>\n",
       "      <td>Dutton Hill Mine</td>\n",
       "      <td>37275</td>\n",
       "      <td>9162</td>\n",
       "    </tr>\n",
       "    <tr>\n",
       "      <td>45</td>\n",
       "      <td>2013</td>\n",
       "      <td>1519322</td>\n",
       "      <td>Ghm #25</td>\n",
       "      <td>25054</td>\n",
       "      <td>3108</td>\n",
       "    </tr>\n",
       "    <tr>\n",
       "      <td>46</td>\n",
       "      <td>2013</td>\n",
       "      <td>103321</td>\n",
       "      <td>Poplar Springs</td>\n",
       "      <td>189370</td>\n",
       "      <td>76366</td>\n",
       "    </tr>\n",
       "    <tr>\n",
       "      <td>47</td>\n",
       "      <td>2013</td>\n",
       "      <td>103358</td>\n",
       "      <td>Old Union</td>\n",
       "      <td>284563</td>\n",
       "      <td>161805</td>\n",
       "    </tr>\n",
       "    <tr>\n",
       "      <td>48</td>\n",
       "      <td>2013</td>\n",
       "      <td>5000030</td>\n",
       "      <td>Usibelli</td>\n",
       "      <td>1631584</td>\n",
       "      <td>286079</td>\n",
       "    </tr>\n",
       "    <tr>\n",
       "      <td>49</td>\n",
       "      <td>2013</td>\n",
       "      <td>201195</td>\n",
       "      <td>Kayenta Mine</td>\n",
       "      <td>7602722</td>\n",
       "      <td>1015333</td>\n",
       "    </tr>\n",
       "    <tr>\n",
       "      <td>0</td>\n",
       "      <td>2013</td>\n",
       "      <td>103381</td>\n",
       "      <td>Tacoa Highwall Miner</td>\n",
       "      <td>56004</td>\n",
       "      <td>22392</td>\n",
       "    </tr>\n",
       "    <tr>\n",
       "      <td>1</td>\n",
       "      <td>2013</td>\n",
       "      <td>103404</td>\n",
       "      <td>Reid School Mine</td>\n",
       "      <td>28807</td>\n",
       "      <td>28447</td>\n",
       "    </tr>\n",
       "    <tr>\n",
       "      <td>2</td>\n",
       "      <td>2013</td>\n",
       "      <td>100759</td>\n",
       "      <td>North River #1 Underground Min</td>\n",
       "      <td>1440115</td>\n",
       "      <td>474784</td>\n",
       "    </tr>\n",
       "    <tr>\n",
       "      <td>3</td>\n",
       "      <td>2013</td>\n",
       "      <td>103246</td>\n",
       "      <td>Bear Creek</td>\n",
       "      <td>87587</td>\n",
       "      <td>29193</td>\n",
       "    </tr>\n",
       "    <tr>\n",
       "      <td>4</td>\n",
       "      <td>2013</td>\n",
       "      <td>103451</td>\n",
       "      <td>Knight Mine</td>\n",
       "      <td>147499</td>\n",
       "      <td>46393</td>\n",
       "    </tr>\n",
       "    <tr>\n",
       "      <td>5</td>\n",
       "      <td>2013</td>\n",
       "      <td>103433</td>\n",
       "      <td>Crane Central Mine</td>\n",
       "      <td>69339</td>\n",
       "      <td>47195</td>\n",
       "    </tr>\n",
       "    <tr>\n",
       "      <td>6</td>\n",
       "      <td>2013</td>\n",
       "      <td>100329</td>\n",
       "      <td>Concord Mine</td>\n",
       "      <td>0</td>\n",
       "      <td>144002</td>\n",
       "    </tr>\n",
       "    <tr>\n",
       "      <td>7</td>\n",
       "      <td>2013</td>\n",
       "      <td>100851</td>\n",
       "      <td>Oak Grove Mine</td>\n",
       "      <td>2269014</td>\n",
       "      <td>1001809</td>\n",
       "    </tr>\n",
       "    <tr>\n",
       "      <td>8</td>\n",
       "      <td>2013</td>\n",
       "      <td>102901</td>\n",
       "      <td>Shoal Creek Mine</td>\n",
       "      <td>0</td>\n",
       "      <td>12396</td>\n",
       "    </tr>\n",
       "    <tr>\n",
       "      <td>9</td>\n",
       "      <td>2013</td>\n",
       "      <td>102901</td>\n",
       "      <td>Shoal Creek Mine</td>\n",
       "      <td>1453024</td>\n",
       "      <td>1237415</td>\n",
       "    </tr>\n",
       "    <tr>\n",
       "      <td>10</td>\n",
       "      <td>2013</td>\n",
       "      <td>103180</td>\n",
       "      <td>Sloan Mountain Mine</td>\n",
       "      <td>327780</td>\n",
       "      <td>196963</td>\n",
       "    </tr>\n",
       "    <tr>\n",
       "      <td>11</td>\n",
       "      <td>2013</td>\n",
       "      <td>103182</td>\n",
       "      <td>Fishtrap</td>\n",
       "      <td>175058</td>\n",
       "      <td>87314</td>\n",
       "    </tr>\n",
       "    <tr>\n",
       "      <td>12</td>\n",
       "      <td>2013</td>\n",
       "      <td>103285</td>\n",
       "      <td>Narley Mine</td>\n",
       "      <td>154861</td>\n",
       "      <td>90584</td>\n",
       "    </tr>\n",
       "    <tr>\n",
       "      <td>13</td>\n",
       "      <td>2013</td>\n",
       "      <td>103332</td>\n",
       "      <td>Powhatan Mine</td>\n",
       "      <td>140521</td>\n",
       "      <td>61394</td>\n",
       "    </tr>\n",
       "    <tr>\n",
       "      <td>14</td>\n",
       "      <td>2013</td>\n",
       "      <td>103375</td>\n",
       "      <td>Johnson Mine</td>\n",
       "      <td>580</td>\n",
       "      <td>1900</td>\n",
       "    </tr>\n",
       "    <tr>\n",
       "      <td>15</td>\n",
       "      <td>2013</td>\n",
       "      <td>103419</td>\n",
       "      <td>Maxine-Pratt Mine</td>\n",
       "      <td>125824</td>\n",
       "      <td>107469</td>\n",
       "    </tr>\n",
       "    <tr>\n",
       "      <td>16</td>\n",
       "      <td>2013</td>\n",
       "      <td>103432</td>\n",
       "      <td>Skelton Creek</td>\n",
       "      <td>8252</td>\n",
       "      <td>220</td>\n",
       "    </tr>\n",
       "    <tr>\n",
       "      <td>17</td>\n",
       "      <td>2013</td>\n",
       "      <td>103437</td>\n",
       "      <td>Black Warrior Mine No 1</td>\n",
       "      <td>145924</td>\n",
       "      <td>70926</td>\n",
       "    </tr>\n",
       "    <tr>\n",
       "      <td>18</td>\n",
       "      <td>2013</td>\n",
       "      <td>102976</td>\n",
       "      <td>Piney Woods Preparation Plant</td>\n",
       "      <td>0</td>\n",
       "      <td>14828</td>\n",
       "    </tr>\n",
       "    <tr>\n",
       "      <td>19</td>\n",
       "      <td>2013</td>\n",
       "      <td>102976</td>\n",
       "      <td>Piney Woods Preparation Plant</td>\n",
       "      <td>0</td>\n",
       "      <td>23193</td>\n",
       "    </tr>\n",
       "    <tr>\n",
       "      <td>20</td>\n",
       "      <td>2013</td>\n",
       "      <td>103380</td>\n",
       "      <td>Calera</td>\n",
       "      <td>0</td>\n",
       "      <td>12621</td>\n",
       "    </tr>\n",
       "    <tr>\n",
       "      <td>21</td>\n",
       "      <td>2013</td>\n",
       "      <td>103380</td>\n",
       "      <td>Calera</td>\n",
       "      <td>0</td>\n",
       "      <td>1402</td>\n",
       "    </tr>\n",
       "    <tr>\n",
       "      <td>22</td>\n",
       "      <td>2013</td>\n",
       "      <td>103422</td>\n",
       "      <td>Clark No 1 Mine</td>\n",
       "      <td>122727</td>\n",
       "      <td>140250</td>\n",
       "    </tr>\n",
       "    <tr>\n",
       "      <td>23</td>\n",
       "      <td>2013</td>\n",
       "      <td>103467</td>\n",
       "      <td>Helena Surface Mine</td>\n",
       "      <td>59664</td>\n",
       "      <td>30539</td>\n",
       "    </tr>\n",
       "    <tr>\n",
       "      <td>24</td>\n",
       "      <td>2013</td>\n",
       "      <td>101247</td>\n",
       "      <td>No 4 Mine</td>\n",
       "      <td>2622528</td>\n",
       "      <td>1551141</td>\n",
       "    </tr>\n",
       "    <tr>\n",
       "      <td>25</td>\n",
       "      <td>2013</td>\n",
       "      <td>101401</td>\n",
       "      <td>No 7 Mine</td>\n",
       "      <td>5405412</td>\n",
       "      <td>2464719</td>\n",
       "    </tr>\n",
       "    <tr>\n",
       "      <td>26</td>\n",
       "      <td>2013</td>\n",
       "      <td>103172</td>\n",
       "      <td>Searles Mine No. 2, 3, 4, 5, 6</td>\n",
       "      <td>258078</td>\n",
       "      <td>119542</td>\n",
       "    </tr>\n",
       "    <tr>\n",
       "      <td>27</td>\n",
       "      <td>2013</td>\n",
       "      <td>103179</td>\n",
       "      <td>Fleetwood Mine No 1</td>\n",
       "      <td>75937</td>\n",
       "      <td>63745</td>\n",
       "    </tr>\n",
       "    <tr>\n",
       "      <td>28</td>\n",
       "      <td>2013</td>\n",
       "      <td>103303</td>\n",
       "      <td>Shannon Mine</td>\n",
       "      <td>317491</td>\n",
       "      <td>164388</td>\n",
       "    </tr>\n",
       "    <tr>\n",
       "      <td>29</td>\n",
       "      <td>2013</td>\n",
       "      <td>103323</td>\n",
       "      <td>Deerlick Mine</td>\n",
       "      <td>133452</td>\n",
       "      <td>46381</td>\n",
       "    </tr>\n",
       "    <tr>\n",
       "      <td>30</td>\n",
       "      <td>2013</td>\n",
       "      <td>103364</td>\n",
       "      <td>Brc Alabama No. 7 Llc</td>\n",
       "      <td>0</td>\n",
       "      <td>14324</td>\n",
       "    </tr>\n",
       "    <tr>\n",
       "      <td>31</td>\n",
       "      <td>2013</td>\n",
       "      <td>103436</td>\n",
       "      <td>Swann's Crossing</td>\n",
       "      <td>137511</td>\n",
       "      <td>77190</td>\n",
       "    </tr>\n",
       "    <tr>\n",
       "      <td>32</td>\n",
       "      <td>2013</td>\n",
       "      <td>100347</td>\n",
       "      <td>Choctaw Mine</td>\n",
       "      <td>537429</td>\n",
       "      <td>215295</td>\n",
       "    </tr>\n",
       "    <tr>\n",
       "      <td>33</td>\n",
       "      <td>2013</td>\n",
       "      <td>101362</td>\n",
       "      <td>Manchester Mine</td>\n",
       "      <td>219457</td>\n",
       "      <td>116914</td>\n",
       "    </tr>\n",
       "    <tr>\n",
       "      <td>34</td>\n",
       "      <td>2013</td>\n",
       "      <td>102996</td>\n",
       "      <td>Jap Creek Mine</td>\n",
       "      <td>375715</td>\n",
       "      <td>164093</td>\n",
       "    </tr>\n",
       "    <tr>\n",
       "      <td>35</td>\n",
       "      <td>2013</td>\n",
       "      <td>103155</td>\n",
       "      <td>Corinth Prep Plant</td>\n",
       "      <td>0</td>\n",
       "      <td>27996</td>\n",
       "    </tr>\n",
       "    <tr>\n",
       "      <td>36</td>\n",
       "      <td>2013</td>\n",
       "      <td>103155</td>\n",
       "      <td>Corinth Prep Plant</td>\n",
       "      <td>0</td>\n",
       "      <td>51994</td>\n",
       "    </tr>\n",
       "    <tr>\n",
       "      <td>37</td>\n",
       "      <td>2013</td>\n",
       "      <td>103195</td>\n",
       "      <td>Mccollum/Sparks Branch Mine</td>\n",
       "      <td>71910</td>\n",
       "      <td>17411</td>\n",
       "    </tr>\n",
       "    <tr>\n",
       "      <td>38</td>\n",
       "      <td>2013</td>\n",
       "      <td>103342</td>\n",
       "      <td>Reese's Branch Mine</td>\n",
       "      <td>263888</td>\n",
       "      <td>115123</td>\n",
       "    </tr>\n",
       "    <tr>\n",
       "      <td>39</td>\n",
       "      <td>2013</td>\n",
       "      <td>103370</td>\n",
       "      <td>Cresent Valley Mine</td>\n",
       "      <td>2860</td>\n",
       "      <td>621</td>\n",
       "    </tr>\n",
       "    <tr>\n",
       "      <td>40</td>\n",
       "      <td>2013</td>\n",
       "      <td>103372</td>\n",
       "      <td>Cane Creek Mine</td>\n",
       "      <td>66258</td>\n",
       "      <td>32401</td>\n",
       "    </tr>\n",
       "    <tr>\n",
       "      <td>41</td>\n",
       "      <td>2013</td>\n",
       "      <td>103376</td>\n",
       "      <td>Town Creek</td>\n",
       "      <td>299167</td>\n",
       "      <td>176499</td>\n",
       "    </tr>\n",
       "    <tr>\n",
       "      <td>42</td>\n",
       "      <td>2013</td>\n",
       "      <td>103389</td>\n",
       "      <td>Carbon Hill Mine</td>\n",
       "      <td>76241</td>\n",
       "      <td>84966</td>\n",
       "    </tr>\n",
       "    <tr>\n",
       "      <td>43</td>\n",
       "      <td>2013</td>\n",
       "      <td>103410</td>\n",
       "      <td>Coal Valley Mine</td>\n",
       "      <td>407841</td>\n",
       "      <td>158591</td>\n",
       "    </tr>\n",
       "    <tr>\n",
       "      <td>44</td>\n",
       "      <td>2013</td>\n",
       "      <td>103423</td>\n",
       "      <td>Dutton Hill Mine</td>\n",
       "      <td>37275</td>\n",
       "      <td>9162</td>\n",
       "    </tr>\n",
       "    <tr>\n",
       "      <td>45</td>\n",
       "      <td>2013</td>\n",
       "      <td>1519322</td>\n",
       "      <td>Ghm #25</td>\n",
       "      <td>25054</td>\n",
       "      <td>3108</td>\n",
       "    </tr>\n",
       "    <tr>\n",
       "      <td>46</td>\n",
       "      <td>2013</td>\n",
       "      <td>103321</td>\n",
       "      <td>Poplar Springs</td>\n",
       "      <td>189370</td>\n",
       "      <td>76366</td>\n",
       "    </tr>\n",
       "    <tr>\n",
       "      <td>47</td>\n",
       "      <td>2013</td>\n",
       "      <td>103358</td>\n",
       "      <td>Old Union</td>\n",
       "      <td>284563</td>\n",
       "      <td>161805</td>\n",
       "    </tr>\n",
       "    <tr>\n",
       "      <td>48</td>\n",
       "      <td>2013</td>\n",
       "      <td>5000030</td>\n",
       "      <td>Usibelli</td>\n",
       "      <td>1631584</td>\n",
       "      <td>286079</td>\n",
       "    </tr>\n",
       "    <tr>\n",
       "      <td>49</td>\n",
       "      <td>2013</td>\n",
       "      <td>201195</td>\n",
       "      <td>Kayenta Mine</td>\n",
       "      <td>7602722</td>\n",
       "      <td>1015333</td>\n",
       "    </tr>\n",
       "  </tbody>\n",
       "</table>\n",
       "</div>"
      ],
      "text/plain": [
       "    Year  MSHA ID                       Mine_Name  Production  Labor_Hours\n",
       "0   2013   103381            Tacoa Highwall Miner       56004        22392\n",
       "1   2013   103404                Reid School Mine       28807        28447\n",
       "2   2013   100759  North River #1 Underground Min     1440115       474784\n",
       "3   2013   103246                      Bear Creek       87587        29193\n",
       "4   2013   103451                     Knight Mine      147499        46393\n",
       "5   2013   103433              Crane Central Mine       69339        47195\n",
       "6   2013   100329                    Concord Mine           0       144002\n",
       "7   2013   100851                  Oak Grove Mine     2269014      1001809\n",
       "8   2013   102901                Shoal Creek Mine           0        12396\n",
       "9   2013   102901                Shoal Creek Mine     1453024      1237415\n",
       "10  2013   103180             Sloan Mountain Mine      327780       196963\n",
       "11  2013   103182                        Fishtrap      175058        87314\n",
       "12  2013   103285                     Narley Mine      154861        90584\n",
       "13  2013   103332                   Powhatan Mine      140521        61394\n",
       "14  2013   103375                    Johnson Mine         580         1900\n",
       "15  2013   103419               Maxine-Pratt Mine      125824       107469\n",
       "16  2013   103432                   Skelton Creek        8252          220\n",
       "17  2013   103437         Black Warrior Mine No 1      145924        70926\n",
       "18  2013   102976   Piney Woods Preparation Plant           0        14828\n",
       "19  2013   102976   Piney Woods Preparation Plant           0        23193\n",
       "20  2013   103380                          Calera           0        12621\n",
       "21  2013   103380                          Calera           0         1402\n",
       "22  2013   103422                 Clark No 1 Mine      122727       140250\n",
       "23  2013   103467             Helena Surface Mine       59664        30539\n",
       "24  2013   101247                       No 4 Mine     2622528      1551141\n",
       "25  2013   101401                       No 7 Mine     5405412      2464719\n",
       "26  2013   103172  Searles Mine No. 2, 3, 4, 5, 6      258078       119542\n",
       "27  2013   103179             Fleetwood Mine No 1       75937        63745\n",
       "28  2013   103303                    Shannon Mine      317491       164388\n",
       "29  2013   103323                   Deerlick Mine      133452        46381\n",
       "30  2013   103364           Brc Alabama No. 7 Llc           0        14324\n",
       "31  2013   103436                Swann's Crossing      137511        77190\n",
       "32  2013   100347                    Choctaw Mine      537429       215295\n",
       "33  2013   101362                 Manchester Mine      219457       116914\n",
       "34  2013   102996                  Jap Creek Mine      375715       164093\n",
       "35  2013   103155              Corinth Prep Plant           0        27996\n",
       "36  2013   103155              Corinth Prep Plant           0        51994\n",
       "37  2013   103195     Mccollum/Sparks Branch Mine       71910        17411\n",
       "38  2013   103342             Reese's Branch Mine      263888       115123\n",
       "39  2013   103370             Cresent Valley Mine        2860          621\n",
       "40  2013   103372                 Cane Creek Mine       66258        32401\n",
       "41  2013   103376                      Town Creek      299167       176499\n",
       "42  2013   103389                Carbon Hill Mine       76241        84966\n",
       "43  2013   103410                Coal Valley Mine      407841       158591\n",
       "44  2013   103423                Dutton Hill Mine       37275         9162\n",
       "45  2013  1519322                         Ghm #25       25054         3108\n",
       "46  2013   103321                  Poplar Springs      189370        76366\n",
       "47  2013   103358                       Old Union      284563       161805\n",
       "48  2013  5000030                        Usibelli     1631584       286079\n",
       "49  2013   201195                    Kayenta Mine     7602722      1015333\n",
       "0   2013   103381            Tacoa Highwall Miner       56004        22392\n",
       "1   2013   103404                Reid School Mine       28807        28447\n",
       "2   2013   100759  North River #1 Underground Min     1440115       474784\n",
       "3   2013   103246                      Bear Creek       87587        29193\n",
       "4   2013   103451                     Knight Mine      147499        46393\n",
       "5   2013   103433              Crane Central Mine       69339        47195\n",
       "6   2013   100329                    Concord Mine           0       144002\n",
       "7   2013   100851                  Oak Grove Mine     2269014      1001809\n",
       "8   2013   102901                Shoal Creek Mine           0        12396\n",
       "9   2013   102901                Shoal Creek Mine     1453024      1237415\n",
       "10  2013   103180             Sloan Mountain Mine      327780       196963\n",
       "11  2013   103182                        Fishtrap      175058        87314\n",
       "12  2013   103285                     Narley Mine      154861        90584\n",
       "13  2013   103332                   Powhatan Mine      140521        61394\n",
       "14  2013   103375                    Johnson Mine         580         1900\n",
       "15  2013   103419               Maxine-Pratt Mine      125824       107469\n",
       "16  2013   103432                   Skelton Creek        8252          220\n",
       "17  2013   103437         Black Warrior Mine No 1      145924        70926\n",
       "18  2013   102976   Piney Woods Preparation Plant           0        14828\n",
       "19  2013   102976   Piney Woods Preparation Plant           0        23193\n",
       "20  2013   103380                          Calera           0        12621\n",
       "21  2013   103380                          Calera           0         1402\n",
       "22  2013   103422                 Clark No 1 Mine      122727       140250\n",
       "23  2013   103467             Helena Surface Mine       59664        30539\n",
       "24  2013   101247                       No 4 Mine     2622528      1551141\n",
       "25  2013   101401                       No 7 Mine     5405412      2464719\n",
       "26  2013   103172  Searles Mine No. 2, 3, 4, 5, 6      258078       119542\n",
       "27  2013   103179             Fleetwood Mine No 1       75937        63745\n",
       "28  2013   103303                    Shannon Mine      317491       164388\n",
       "29  2013   103323                   Deerlick Mine      133452        46381\n",
       "30  2013   103364           Brc Alabama No. 7 Llc           0        14324\n",
       "31  2013   103436                Swann's Crossing      137511        77190\n",
       "32  2013   100347                    Choctaw Mine      537429       215295\n",
       "33  2013   101362                 Manchester Mine      219457       116914\n",
       "34  2013   102996                  Jap Creek Mine      375715       164093\n",
       "35  2013   103155              Corinth Prep Plant           0        27996\n",
       "36  2013   103155              Corinth Prep Plant           0        51994\n",
       "37  2013   103195     Mccollum/Sparks Branch Mine       71910        17411\n",
       "38  2013   103342             Reese's Branch Mine      263888       115123\n",
       "39  2013   103370             Cresent Valley Mine        2860          621\n",
       "40  2013   103372                 Cane Creek Mine       66258        32401\n",
       "41  2013   103376                      Town Creek      299167       176499\n",
       "42  2013   103389                Carbon Hill Mine       76241        84966\n",
       "43  2013   103410                Coal Valley Mine      407841       158591\n",
       "44  2013   103423                Dutton Hill Mine       37275         9162\n",
       "45  2013  1519322                         Ghm #25       25054         3108\n",
       "46  2013   103321                  Poplar Springs      189370        76366\n",
       "47  2013   103358                       Old Union      284563       161805\n",
       "48  2013  5000030                        Usibelli     1631584       286079\n",
       "49  2013   201195                    Kayenta Mine     7602722      1015333\n",
       "0   2013   103381            Tacoa Highwall Miner       56004        22392\n",
       "1   2013   103404                Reid School Mine       28807        28447\n",
       "2   2013   100759  North River #1 Underground Min     1440115       474784\n",
       "3   2013   103246                      Bear Creek       87587        29193\n",
       "4   2013   103451                     Knight Mine      147499        46393\n",
       "5   2013   103433              Crane Central Mine       69339        47195\n",
       "6   2013   100329                    Concord Mine           0       144002\n",
       "7   2013   100851                  Oak Grove Mine     2269014      1001809\n",
       "8   2013   102901                Shoal Creek Mine           0        12396\n",
       "9   2013   102901                Shoal Creek Mine     1453024      1237415\n",
       "10  2013   103180             Sloan Mountain Mine      327780       196963\n",
       "11  2013   103182                        Fishtrap      175058        87314\n",
       "12  2013   103285                     Narley Mine      154861        90584\n",
       "13  2013   103332                   Powhatan Mine      140521        61394\n",
       "14  2013   103375                    Johnson Mine         580         1900\n",
       "15  2013   103419               Maxine-Pratt Mine      125824       107469\n",
       "16  2013   103432                   Skelton Creek        8252          220\n",
       "17  2013   103437         Black Warrior Mine No 1      145924        70926\n",
       "18  2013   102976   Piney Woods Preparation Plant           0        14828\n",
       "19  2013   102976   Piney Woods Preparation Plant           0        23193\n",
       "20  2013   103380                          Calera           0        12621\n",
       "21  2013   103380                          Calera           0         1402\n",
       "22  2013   103422                 Clark No 1 Mine      122727       140250\n",
       "23  2013   103467             Helena Surface Mine       59664        30539\n",
       "24  2013   101247                       No 4 Mine     2622528      1551141\n",
       "25  2013   101401                       No 7 Mine     5405412      2464719\n",
       "26  2013   103172  Searles Mine No. 2, 3, 4, 5, 6      258078       119542\n",
       "27  2013   103179             Fleetwood Mine No 1       75937        63745\n",
       "28  2013   103303                    Shannon Mine      317491       164388\n",
       "29  2013   103323                   Deerlick Mine      133452        46381\n",
       "30  2013   103364           Brc Alabama No. 7 Llc           0        14324\n",
       "31  2013   103436                Swann's Crossing      137511        77190\n",
       "32  2013   100347                    Choctaw Mine      537429       215295\n",
       "33  2013   101362                 Manchester Mine      219457       116914\n",
       "34  2013   102996                  Jap Creek Mine      375715       164093\n",
       "35  2013   103155              Corinth Prep Plant           0        27996\n",
       "36  2013   103155              Corinth Prep Plant           0        51994\n",
       "37  2013   103195     Mccollum/Sparks Branch Mine       71910        17411\n",
       "38  2013   103342             Reese's Branch Mine      263888       115123\n",
       "39  2013   103370             Cresent Valley Mine        2860          621\n",
       "40  2013   103372                 Cane Creek Mine       66258        32401\n",
       "41  2013   103376                      Town Creek      299167       176499\n",
       "42  2013   103389                Carbon Hill Mine       76241        84966\n",
       "43  2013   103410                Coal Valley Mine      407841       158591\n",
       "44  2013   103423                Dutton Hill Mine       37275         9162\n",
       "45  2013  1519322                         Ghm #25       25054         3108\n",
       "46  2013   103321                  Poplar Springs      189370        76366\n",
       "47  2013   103358                       Old Union      284563       161805\n",
       "48  2013  5000030                        Usibelli     1631584       286079\n",
       "49  2013   201195                    Kayenta Mine     7602722      1015333"
      ]
     },
     "execution_count": 139,
     "metadata": {},
     "output_type": "execute_result"
    }
   ],
   "source": [
    "import pandas as pd\n",
    "import numpy as np\n",
    "df1 = pd.read_excel('coalpublic2013.xlsx', sheet_name='Sheet1')\n",
    "df2 = pd.read_excel('coalpublic2013.xlsx', sheet_name='Sheet2')\n",
    "df3 = pd.read_excel('coalpublic2013.xlsx', sheet_name='Sheet3')\n",
    "\n",
    "df = pd.concat([df1, df2, df3], axis = 0)\n",
    "df"
   ]
  },
  {
   "cell_type": "markdown",
   "metadata": {},
   "source": [
    "### Q122.Write a pandas program to import three datasheets from a given excel data (employee.xlsx ) into a single dataframe and export the result into new Excel file."
   ]
  },
  {
   "cell_type": "code",
   "execution_count": 140,
   "metadata": {},
   "outputs": [
    {
     "name": "stderr",
     "output_type": "stream",
     "text": [
      "C:\\Users\\prasadgk\\Anaconda3\\lib\\site-packages\\ipykernel_launcher.py:7: FutureWarning: Sorting because non-concatenation axis is not aligned. A future version\n",
      "of pandas will change to not sort by default.\n",
      "\n",
      "To accept the future behavior, pass 'sort=False'.\n",
      "\n",
      "To retain the current behavior and silence the warning, pass 'sort=True'.\n",
      "\n",
      "  import sys\n"
     ]
    }
   ],
   "source": [
    "import pandas as pd\n",
    "import numpy as np\n",
    "\n",
    "df1 = pd.read_excel('employee.xlsx', sheet_name='Sheet1')\n",
    "df2 = pd.read_excel('employee.xlsx', sheet_name='Sheet2')\n",
    "df3 = pd.read_excel('employee.xlsx', sheet_name='Sheet3')\n",
    "df = pd.concat([df1, df2, df3])\n",
    "df.to_excel('employee-1.xlsx', index = False)"
   ]
  },
  {
   "cell_type": "markdown",
   "metadata": {},
   "source": [
    "### Q123.Write a pandas program to create the Pivot table with multiple indexes from the data set of the titanic.csv."
   ]
  },
  {
   "cell_type": "code",
   "execution_count": 141,
   "metadata": {},
   "outputs": [
    {
     "name": "stdout",
     "output_type": "stream",
     "text": [
      "              adult_male  alone      fare  parch  pclass  sibsp  survived\n",
      "sex    age                                                               \n",
      "female 0.75          0.0    0.0   38.5166      2       6      4         2\n",
      "       1.00          0.0    0.0   26.8750      3       6      1         2\n",
      "       2.00          0.0    0.0  259.4750      9      15      9         2\n",
      "       3.00          0.0    0.0   62.6542      3       5      4         1\n",
      "       4.00          0.0    0.0  114.1417      6      13      4         5\n",
      "       5.00          0.0    1.0   90.8708      5      11      7         4\n",
      "       6.00          0.0    0.0   64.2750      3       5      4         1\n",
      "       7.00          0.0    0.0   26.2500      2       2      0         1\n",
      "       8.00          0.0    0.0   47.3250      3       5      3         1\n",
      "       9.00          0.0    0.0  108.7958      7      12     10         0\n",
      "       10.00         0.0    0.0   24.1500      2       3      0         0\n",
      "       11.00         0.0    0.0   31.2750      2       3      4         0\n",
      "       13.00         0.0    1.0   26.7292      1       5      0         2\n",
      "       14.00         0.0    1.0  169.1667      2       9      3         3\n",
      "       14.50         0.0    0.0   14.4542      0       3      1         0\n",
      "       15.00         0.0    2.0  241.0459      1      10      1         4\n",
      "       16.00         0.0    3.0  246.2625      4      12      5         5\n",
      "       17.00         0.0    3.0  210.7833      2      12      6         5\n",
      "       18.00         0.0    4.0  697.0167      9      31      6         8\n",
      "       19.00         0.0    3.0  215.0959      2      13      3         7\n",
      "       20.00         0.0    1.0   18.4875      0       6      1         0\n",
      "       21.00         0.0    4.0  410.4333      4      16      5         4\n",
      "       22.00         0.0    7.0  444.1084      6      26      3        10\n",
      "       23.00         0.0    3.0  405.5417      2      10      4         4\n",
      "       24.00         0.0    7.0  772.1708     15      31     10        14\n",
      "       25.00         0.0    1.0  223.2500      4      11      3         2\n",
      "       26.00         0.0    3.0  136.7292      1      12      2         3\n",
      "       27.00         0.0    2.0   76.8916      3      15      2         5\n",
      "       28.00         0.0    4.0  110.9458      1      16      3         5\n",
      "       29.00         0.0    2.0  320.6208      7      16      3         5\n",
      "       30.00         0.0    9.0  465.9917      1      20      4         9\n",
      "       30.50         0.0    1.0    7.7500      0       3      0         0\n",
      "       31.00         0.0    2.0  359.4542      4      16      4         5\n",
      "       32.00         0.0    2.0  104.7917      1       6      1         2\n",
      "       32.50         0.0    1.0   13.0000      0       2      0         1\n",
      "       33.00         0.0    1.0  299.2000      4      10      6         6\n",
      "       34.00         0.0    2.0   79.0000      2       8      1         4\n",
      "       35.00         0.0    3.0  967.7875      1      11      5         8\n",
      "       36.00         0.0    3.0  396.0333      4      12      3         7\n",
      "       37.00         0.0    1.0    9.5875      0       3      0         0\n",
      "       38.00         0.0    3.0  423.1958      5       8      2         4\n",
      "       39.00         0.0    0.0  389.9916     13      10      5         4\n",
      "       40.00         0.0    3.0  365.1875      2      11      3         5\n",
      "       41.00         0.0    1.0  213.9000      8       9      0         2\n",
      "       42.00         0.0    2.0  266.5250      0       5      1         3\n",
      "       43.00         0.0    0.0  258.2375      7       4      1         1\n",
      "       44.00         0.0    1.0  111.7000      1       4      1         2\n",
      "       45.00         0.0    2.0  254.7209      7      14      3         3\n",
      "       47.00         0.0    0.0   67.0542      1       4      2         1\n",
      "       48.00         0.0    1.0  164.9042      5       7      3         3\n",
      "       49.00         0.0    1.0  102.6584      0       2      1         2\n",
      "       50.00         0.0    3.0  323.2333      2       8      0         4\n",
      "       51.00         0.0    0.0   77.9583      0       1      1         1\n",
      "       52.00         0.0    0.0  171.7667      1       2      2         2\n",
      "       53.00         0.0    0.0   51.4792      0       1      2         1\n",
      "       54.00         0.0    0.0  160.6667      3       4      3         3\n",
      "       55.00         0.0    1.0   16.0000      0       2      0         1\n",
      "       56.00         0.0    0.0   83.1583      1       1      0         1\n",
      "       57.00         0.0    1.0   10.5000      0       2      0         0\n",
      "       58.00         0.0    2.0  326.5333      1       3      0         3\n",
      "       60.00         0.0    0.0   75.2500      0       1      1         1\n",
      "       62.00         0.0    1.0   80.0000      0       1      0         1\n",
      "       63.00         0.0    1.0   87.5458      0       4      1         2\n",
      "male   0.42          0.0    0.0    8.5167      1       3      0         1\n",
      "       0.67          0.0    0.0   14.5000      1       2      1         1\n",
      "       0.83          0.0    0.0   47.7500      3       4      1         2\n",
      "       0.92          0.0    0.0  151.5500      2       1      1         1\n",
      "       1.00          0.0    0.0  183.1667      8      13     12         3\n",
      "       2.00          0.0    0.0  115.8875      4      11     12         1\n",
      "       3.00          0.0    0.0   92.0375      5      10      7         4\n",
      "       4.00          0.0    0.0  181.2916      8      13     12         2\n",
      "       6.00          0.0    0.0   12.4750      1       3      0         1\n",
      "       7.00          0.0    0.0   68.8125      2       6      8         0\n",
      "       8.00          0.0    0.0   65.8750      2       5      5         1\n",
      "       9.00          0.0    0.0  114.7125      7      12     10         2\n",
      "       10.00         0.0    0.0   27.9000      2       3      3         0\n",
      "       11.00         0.0    1.0  185.6875      4       7      6         1\n",
      "       12.00         0.0    0.0   11.2417      0       3      1         1\n",
      "       14.00         0.0    0.0   86.5875      3       6      9         0\n",
      "       15.00         0.0    0.0    7.2292      1       3      1         0\n",
      "       16.00        11.0    7.0  191.4042      5      31      8         1\n",
      "       17.00         7.0    4.0  158.2792      3      19      2         1\n",
      "       18.00        13.0    9.0  292.6333      2      33      4         1\n",
      "       19.00        18.0   15.0  481.6415      3      46      5         2\n",
      "       20.00        13.0   11.0  110.8751      1      39      2         3\n",
      "       20.50         1.0    1.0    7.2500      0       3      0         0\n",
      "       21.00        17.0   14.0  347.1416      1      46      3         1\n",
      "       22.00        15.0   14.0  244.5207      0      43      1         1\n",
      "       23.00        10.0    8.0  164.3791      2      22      2         1\n",
      "       23.50         1.0    1.0    7.2292      0       3      0         0\n",
      "       24.00        14.0   10.0  518.8999      1      35      5         1\n",
      "       24.50         1.0    1.0    8.0500      0       3      0         0\n",
      "       25.00        18.0   11.0  338.3126      2      45      7         4\n",
      "       26.00        13.0    9.0  206.8333      2      36      5         3\n",
      "       27.00        12.0    9.0  469.6125      2      25      2         6\n",
      "       28.00        18.0   14.0  414.5582      1      42      4         2\n",
      "       28.50         2.0    2.0   23.3292      0       6      0         0\n",
      "       29.00        13.0    9.0  221.1957      0      32      4         3\n",
      "       30.00        14.0   12.0  172.5500      0      35      2         1\n",
      "       30.50         1.0    1.0    8.0500      0       3      0         0\n",
      "       31.00        10.0    6.0  269.7000      2      20      4         3\n",
      "       32.00        15.0   12.0  333.0291      0      40      4         7\n",
      "       32.50         1.0    0.0   30.0708      0       2      1         0\n",
      "       33.00         9.0    8.0   88.1833      1      24      1         0\n",
      "       34.00        11.0    7.0  170.5458      1      25      4         2\n",
      "       34.50         1.0    1.0    6.4375      0       3      0         0\n",
      "       35.00        10.0   10.0  639.8375      0      22      0         3\n",
      "       36.00        15.0    9.0  923.1958      6      29      5         4\n",
      "       36.50         1.0    0.0   26.0000      2       2      0         0\n",
      "       37.00         5.0    0.0  169.2792      2       8      5         1\n",
      "       38.00         6.0    4.0  267.0708      1      12      1         1\n",
      "       39.00         8.0    7.0  123.2750      5      19      1         1\n",
      "       40.00         7.0    5.0  117.2416      5      15      2         1\n",
      "       40.50         2.0    1.0   22.2500      2       6      0         0\n",
      "       41.00         2.0    1.0   21.2333      0       6      2         0\n",
      "       42.00        10.0    6.0  216.1084      1      21      3         3\n",
      "       43.00         3.0    2.0   40.7500      1       8      1         0\n",
      "       44.00         6.0    3.0  156.1250      1      15      3         1\n",
      "       45.00         6.0    5.0  187.1000      0      10      1         2\n",
      "       45.50         2.0    2.0   35.7250      0       4      0         0\n",
      "       46.00         3.0    2.0  166.3750      0       4      1         0\n",
      "       47.00         7.0    7.0  181.3583      0      12      0         0\n",
      "       48.00         5.0    3.0  176.1334      0       8      2         3\n",
      "       49.00         4.0    1.0  256.9167      1       6      3         2\n",
      "       50.00         5.0    2.0  317.0250      0       8      4         1\n",
      "       51.00         6.0    5.0  123.3084      1      13      0         1\n",
      "       52.00         4.0    3.0  136.6500      1       6      1         1\n",
      "       54.00         5.0    3.0  195.1500      1       8      1         0\n",
      "       55.00         1.0    1.0   30.5000      0       1      0         0\n",
      "       55.50         1.0    1.0    8.0500      0       3      0         0\n",
      "       56.00         3.0    3.0   92.7458      0       3      0         1\n",
      "       57.00         1.0    1.0   12.3500      0       2      0         0\n",
      "       58.00         2.0    1.0  142.9750      2       2      0         0\n",
      "       59.00         2.0    2.0   20.7500      0       5      0         0\n",
      "       60.00         3.0    1.0  144.7500      2       4      2         1\n",
      "       61.00         3.0    3.0   72.0583      0       5      0         0\n",
      "       62.00         3.0    3.0   63.6000      0       4      0         1\n",
      "       64.00         2.0    1.0  289.0000      4       2      1         0\n",
      "       65.00         3.0    2.0   96.2792      1       5      0         0\n",
      "       66.00         1.0    1.0   10.5000      0       2      0         0\n",
      "       70.00         2.0    1.0   81.5000      1       3      1         0\n",
      "       70.50         1.0    1.0    7.7500      0       3      0         0\n",
      "       71.00         2.0    2.0   84.1584      0       2      0         0\n",
      "       74.00         1.0    1.0    7.7750      0       3      0         0\n",
      "       80.00         1.0    1.0   30.0000      0       1      0         1\n"
     ]
    }
   ],
   "source": [
    "import pandas as pd\n",
    "import numpy as np\n",
    "df = pd.read_csv('titanic.csv')\n",
    "print(pd.pivot_table(df, index = ['sex', 'age'], aggfunc=np.sum))"
   ]
  },
  {
   "cell_type": "markdown",
   "metadata": {},
   "source": [
    "### Q124. Write a Pandas program to create thePivot table and find survival rate by gender?"
   ]
  },
  {
   "cell_type": "code",
   "execution_count": 142,
   "metadata": {},
   "outputs": [
    {
     "data": {
      "text/html": [
       "<div>\n",
       "<style scoped>\n",
       "    .dataframe tbody tr th:only-of-type {\n",
       "        vertical-align: middle;\n",
       "    }\n",
       "\n",
       "    .dataframe tbody tr th {\n",
       "        vertical-align: top;\n",
       "    }\n",
       "\n",
       "    .dataframe thead th {\n",
       "        text-align: right;\n",
       "    }\n",
       "</style>\n",
       "<table border=\"1\" class=\"dataframe\">\n",
       "  <thead>\n",
       "    <tr style=\"text-align: right;\">\n",
       "      <th></th>\n",
       "      <th>survived</th>\n",
       "    </tr>\n",
       "    <tr>\n",
       "      <th>sex</th>\n",
       "      <th></th>\n",
       "    </tr>\n",
       "  </thead>\n",
       "  <tbody>\n",
       "    <tr>\n",
       "      <td>female</td>\n",
       "      <td>233</td>\n",
       "    </tr>\n",
       "    <tr>\n",
       "      <td>male</td>\n",
       "      <td>109</td>\n",
       "    </tr>\n",
       "  </tbody>\n",
       "</table>\n",
       "</div>"
      ],
      "text/plain": [
       "        survived\n",
       "sex             \n",
       "female       233\n",
       "male         109"
      ]
     },
     "execution_count": 142,
     "metadata": {},
     "output_type": "execute_result"
    }
   ],
   "source": [
    "import pandas as pd\n",
    "import numpy as np\n",
    "df = pd.read_csv('titanic.csv')\n",
    "pd.pivot_table(df, index=['sex'], values=['survived'],aggfunc=np.sum)"
   ]
  },
  {
   "cell_type": "markdown",
   "metadata": {},
   "source": [
    "### Q125.Write a pandas program to make partition each of the passengers into 4 categories based on their age."
   ]
  },
  {
   "cell_type": "code",
   "execution_count": 143,
   "metadata": {},
   "outputs": [
    {
     "name": "stdout",
     "output_type": "stream",
     "text": [
      "0      (10.0, 30.0]\n",
      "1      (30.0, 60.0]\n",
      "2      (10.0, 30.0]\n",
      "3      (30.0, 60.0]\n",
      "4      (30.0, 60.0]\n",
      "           ...     \n",
      "886    (10.0, 30.0]\n",
      "887    (10.0, 30.0]\n",
      "888             NaN\n",
      "889    (10.0, 30.0]\n",
      "890    (30.0, 60.0]\n",
      "Name: age, Length: 891, dtype: category\n",
      "Categories (4, interval[int64]): [(0, 10] < (10, 30] < (30, 60] < (60, 80]]\n"
     ]
    }
   ],
   "source": [
    "import numpy as np\n",
    "import pandas as pd\n",
    "\n",
    "df = pd.read_csv('titanic.csv')\n",
    "result = pd.cut(df['age'], bins= [0, 10, 30, 60, 80])\n",
    "print(result)"
   ]
  },
  {
   "cell_type": "markdown",
   "metadata": {},
   "source": [
    "### Q126.Write a pandas program to create thePivot table and find survival rate by the gender, age of the different categories of various classes."
   ]
  },
  {
   "cell_type": "code",
   "execution_count": 144,
   "metadata": {},
   "outputs": [
    {
     "data": {
      "text/html": [
       "<div>\n",
       "<style scoped>\n",
       "    .dataframe tbody tr th:only-of-type {\n",
       "        vertical-align: middle;\n",
       "    }\n",
       "\n",
       "    .dataframe tbody tr th {\n",
       "        vertical-align: top;\n",
       "    }\n",
       "\n",
       "    .dataframe thead th {\n",
       "        text-align: right;\n",
       "    }\n",
       "</style>\n",
       "<table border=\"1\" class=\"dataframe\">\n",
       "  <thead>\n",
       "    <tr style=\"text-align: right;\">\n",
       "      <th></th>\n",
       "      <th>class</th>\n",
       "      <th>First</th>\n",
       "      <th>Second</th>\n",
       "      <th>Third</th>\n",
       "    </tr>\n",
       "    <tr>\n",
       "      <th>sex</th>\n",
       "      <th>age</th>\n",
       "      <th></th>\n",
       "      <th></th>\n",
       "      <th></th>\n",
       "    </tr>\n",
       "  </thead>\n",
       "  <tbody>\n",
       "    <tr>\n",
       "      <td rowspan=\"2\" valign=\"top\">female</td>\n",
       "      <td>(0, 20]</td>\n",
       "      <td>0.928571</td>\n",
       "      <td>1.000000</td>\n",
       "      <td>0.510638</td>\n",
       "    </tr>\n",
       "    <tr>\n",
       "      <td>(20, 55]</td>\n",
       "      <td>0.968750</td>\n",
       "      <td>0.912281</td>\n",
       "      <td>0.407407</td>\n",
       "    </tr>\n",
       "    <tr>\n",
       "      <td rowspan=\"2\" valign=\"top\">male</td>\n",
       "      <td>(0, 20]</td>\n",
       "      <td>0.571429</td>\n",
       "      <td>0.526316</td>\n",
       "      <td>0.197368</td>\n",
       "    </tr>\n",
       "    <tr>\n",
       "      <td>(20, 55]</td>\n",
       "      <td>0.440000</td>\n",
       "      <td>0.054054</td>\n",
       "      <td>0.134503</td>\n",
       "    </tr>\n",
       "  </tbody>\n",
       "</table>\n",
       "</div>"
      ],
      "text/plain": [
       "class               First    Second     Third\n",
       "sex    age                                   \n",
       "female (0, 20]   0.928571  1.000000  0.510638\n",
       "       (20, 55]  0.968750  0.912281  0.407407\n",
       "male   (0, 20]   0.571429  0.526316  0.197368\n",
       "       (20, 55]  0.440000  0.054054  0.134503"
      ]
     },
     "execution_count": 144,
     "metadata": {},
     "output_type": "execute_result"
    }
   ],
   "source": [
    "import numpy as np\n",
    "import pandas as pd\n",
    "df = pd.read_csv('titanic.csv')\n",
    "age = pd.cut(df['age'], bins = [0, 20, 55])\n",
    "df1 = df.pivot_table('survived', index=['sex', age], columns='class')\n",
    "df1"
   ]
  },
  {
   "cell_type": "markdown",
   "metadata": {},
   "source": [
    "### Q127.Write a pandas program to create thePivot table and calculate number of women and men were in a particular cabin class."
   ]
  },
  {
   "cell_type": "code",
   "execution_count": 145,
   "metadata": {
    "scrolled": true
   },
   "outputs": [
    {
     "data": {
      "text/html": [
       "<div>\n",
       "<style scoped>\n",
       "    .dataframe tbody tr th:only-of-type {\n",
       "        vertical-align: middle;\n",
       "    }\n",
       "\n",
       "    .dataframe tbody tr th {\n",
       "        vertical-align: top;\n",
       "    }\n",
       "\n",
       "    .dataframe thead tr th {\n",
       "        text-align: left;\n",
       "    }\n",
       "\n",
       "    .dataframe thead tr:last-of-type th {\n",
       "        text-align: right;\n",
       "    }\n",
       "</style>\n",
       "<table border=\"1\" class=\"dataframe\">\n",
       "  <thead>\n",
       "    <tr>\n",
       "      <th></th>\n",
       "      <th colspan=\"3\" halign=\"left\">adult_male</th>\n",
       "      <th colspan=\"3\" halign=\"left\">age</th>\n",
       "      <th colspan=\"3\" halign=\"left\">alive</th>\n",
       "      <th colspan=\"3\" halign=\"left\">alone</th>\n",
       "      <th colspan=\"3\" halign=\"left\">class</th>\n",
       "      <th colspan=\"3\" halign=\"left\">deck</th>\n",
       "      <th colspan=\"3\" halign=\"left\">embark_town</th>\n",
       "      <th colspan=\"3\" halign=\"left\">embarked</th>\n",
       "      <th colspan=\"3\" halign=\"left\">fare</th>\n",
       "      <th colspan=\"3\" halign=\"left\">parch</th>\n",
       "      <th colspan=\"3\" halign=\"left\">sibsp</th>\n",
       "      <th colspan=\"3\" halign=\"left\">survived</th>\n",
       "      <th colspan=\"3\" halign=\"left\">who</th>\n",
       "    </tr>\n",
       "    <tr>\n",
       "      <th>pclass</th>\n",
       "      <th>1</th>\n",
       "      <th>2</th>\n",
       "      <th>3</th>\n",
       "      <th>1</th>\n",
       "      <th>2</th>\n",
       "      <th>3</th>\n",
       "      <th>1</th>\n",
       "      <th>2</th>\n",
       "      <th>3</th>\n",
       "      <th>1</th>\n",
       "      <th>2</th>\n",
       "      <th>3</th>\n",
       "      <th>1</th>\n",
       "      <th>2</th>\n",
       "      <th>3</th>\n",
       "      <th>1</th>\n",
       "      <th>2</th>\n",
       "      <th>3</th>\n",
       "      <th>1</th>\n",
       "      <th>2</th>\n",
       "      <th>3</th>\n",
       "      <th>1</th>\n",
       "      <th>2</th>\n",
       "      <th>3</th>\n",
       "      <th>1</th>\n",
       "      <th>2</th>\n",
       "      <th>3</th>\n",
       "      <th>1</th>\n",
       "      <th>2</th>\n",
       "      <th>3</th>\n",
       "      <th>1</th>\n",
       "      <th>2</th>\n",
       "      <th>3</th>\n",
       "      <th>1</th>\n",
       "      <th>2</th>\n",
       "      <th>3</th>\n",
       "      <th>1</th>\n",
       "      <th>2</th>\n",
       "      <th>3</th>\n",
       "    </tr>\n",
       "    <tr>\n",
       "      <th>sex</th>\n",
       "      <th></th>\n",
       "      <th></th>\n",
       "      <th></th>\n",
       "      <th></th>\n",
       "      <th></th>\n",
       "      <th></th>\n",
       "      <th></th>\n",
       "      <th></th>\n",
       "      <th></th>\n",
       "      <th></th>\n",
       "      <th></th>\n",
       "      <th></th>\n",
       "      <th></th>\n",
       "      <th></th>\n",
       "      <th></th>\n",
       "      <th></th>\n",
       "      <th></th>\n",
       "      <th></th>\n",
       "      <th></th>\n",
       "      <th></th>\n",
       "      <th></th>\n",
       "      <th></th>\n",
       "      <th></th>\n",
       "      <th></th>\n",
       "      <th></th>\n",
       "      <th></th>\n",
       "      <th></th>\n",
       "      <th></th>\n",
       "      <th></th>\n",
       "      <th></th>\n",
       "      <th></th>\n",
       "      <th></th>\n",
       "      <th></th>\n",
       "      <th></th>\n",
       "      <th></th>\n",
       "      <th></th>\n",
       "      <th></th>\n",
       "      <th></th>\n",
       "      <th></th>\n",
       "    </tr>\n",
       "  </thead>\n",
       "  <tbody>\n",
       "    <tr>\n",
       "      <td>female</td>\n",
       "      <td>94</td>\n",
       "      <td>76</td>\n",
       "      <td>144</td>\n",
       "      <td>85</td>\n",
       "      <td>74</td>\n",
       "      <td>102</td>\n",
       "      <td>94</td>\n",
       "      <td>76</td>\n",
       "      <td>144</td>\n",
       "      <td>94</td>\n",
       "      <td>76</td>\n",
       "      <td>144</td>\n",
       "      <td>94</td>\n",
       "      <td>76</td>\n",
       "      <td>144</td>\n",
       "      <td>81</td>\n",
       "      <td>10</td>\n",
       "      <td>6</td>\n",
       "      <td>92</td>\n",
       "      <td>76</td>\n",
       "      <td>144</td>\n",
       "      <td>92</td>\n",
       "      <td>76</td>\n",
       "      <td>144</td>\n",
       "      <td>94</td>\n",
       "      <td>76</td>\n",
       "      <td>144</td>\n",
       "      <td>94</td>\n",
       "      <td>76</td>\n",
       "      <td>144</td>\n",
       "      <td>94</td>\n",
       "      <td>76</td>\n",
       "      <td>144</td>\n",
       "      <td>94</td>\n",
       "      <td>76</td>\n",
       "      <td>144</td>\n",
       "      <td>94</td>\n",
       "      <td>76</td>\n",
       "      <td>144</td>\n",
       "    </tr>\n",
       "    <tr>\n",
       "      <td>male</td>\n",
       "      <td>122</td>\n",
       "      <td>108</td>\n",
       "      <td>347</td>\n",
       "      <td>101</td>\n",
       "      <td>99</td>\n",
       "      <td>253</td>\n",
       "      <td>122</td>\n",
       "      <td>108</td>\n",
       "      <td>347</td>\n",
       "      <td>122</td>\n",
       "      <td>108</td>\n",
       "      <td>347</td>\n",
       "      <td>122</td>\n",
       "      <td>108</td>\n",
       "      <td>347</td>\n",
       "      <td>94</td>\n",
       "      <td>6</td>\n",
       "      <td>6</td>\n",
       "      <td>122</td>\n",
       "      <td>108</td>\n",
       "      <td>347</td>\n",
       "      <td>122</td>\n",
       "      <td>108</td>\n",
       "      <td>347</td>\n",
       "      <td>122</td>\n",
       "      <td>108</td>\n",
       "      <td>347</td>\n",
       "      <td>122</td>\n",
       "      <td>108</td>\n",
       "      <td>347</td>\n",
       "      <td>122</td>\n",
       "      <td>108</td>\n",
       "      <td>347</td>\n",
       "      <td>122</td>\n",
       "      <td>108</td>\n",
       "      <td>347</td>\n",
       "      <td>122</td>\n",
       "      <td>108</td>\n",
       "      <td>347</td>\n",
       "    </tr>\n",
       "  </tbody>\n",
       "</table>\n",
       "</div>"
      ],
      "text/plain": [
       "       adult_male            age          alive           alone           class           deck        embark_town           embarked           fare           parch           sibsp           survived            who          \n",
       "pclass          1    2    3    1   2    3     1    2    3     1    2    3     1    2    3    1   2  3           1    2    3        1    2    3    1    2    3     1    2    3     1    2    3        1    2    3    1    2    3\n",
       "sex                                                                                                                                                                                                                            \n",
       "female         94   76  144   85  74  102    94   76  144    94   76  144    94   76  144   81  10  6          92   76  144       92   76  144   94   76  144    94   76  144    94   76  144       94   76  144   94   76  144\n",
       "male          122  108  347  101  99  253   122  108  347   122  108  347   122  108  347   94   6  6         122  108  347      122  108  347  122  108  347   122  108  347   122  108  347      122  108  347  122  108  347"
      ]
     },
     "execution_count": 145,
     "metadata": {},
     "output_type": "execute_result"
    }
   ],
   "source": [
    "import numpy as np\n",
    "import pandas as pd\n",
    "\n",
    "df = pd.read_csv('titanic.csv')\n",
    "df1 = df.pivot_table(index=['sex'], columns=['pclass'], aggfunc='count')\n",
    "df1"
   ]
  },
  {
   "cell_type": "markdown",
   "metadata": {},
   "source": [
    "### Q128.Write a pandas program to create thePivot table and separate the gender according to whether they travelled alone or not to get the probability of survival"
   ]
  },
  {
   "cell_type": "code",
   "execution_count": 146,
   "metadata": {},
   "outputs": [
    {
     "data": {
      "text/html": [
       "<div>\n",
       "<style scoped>\n",
       "    .dataframe tbody tr th:only-of-type {\n",
       "        vertical-align: middle;\n",
       "    }\n",
       "\n",
       "    .dataframe tbody tr th {\n",
       "        vertical-align: top;\n",
       "    }\n",
       "\n",
       "    .dataframe thead th {\n",
       "        text-align: right;\n",
       "    }\n",
       "</style>\n",
       "<table border=\"1\" class=\"dataframe\">\n",
       "  <thead>\n",
       "    <tr style=\"text-align: right;\">\n",
       "      <th></th>\n",
       "      <th></th>\n",
       "      <th>survived</th>\n",
       "    </tr>\n",
       "    <tr>\n",
       "      <th>sex</th>\n",
       "      <th>alone</th>\n",
       "      <th></th>\n",
       "    </tr>\n",
       "  </thead>\n",
       "  <tbody>\n",
       "    <tr>\n",
       "      <td rowspan=\"2\" valign=\"top\">female</td>\n",
       "      <td>False</td>\n",
       "      <td>0.712766</td>\n",
       "    </tr>\n",
       "    <tr>\n",
       "      <td>True</td>\n",
       "      <td>0.785714</td>\n",
       "    </tr>\n",
       "    <tr>\n",
       "      <td rowspan=\"2\" valign=\"top\">male</td>\n",
       "      <td>False</td>\n",
       "      <td>0.271084</td>\n",
       "    </tr>\n",
       "    <tr>\n",
       "      <td>True</td>\n",
       "      <td>0.155718</td>\n",
       "    </tr>\n",
       "  </tbody>\n",
       "</table>\n",
       "</div>"
      ],
      "text/plain": [
       "              survived\n",
       "sex    alone          \n",
       "female False  0.712766\n",
       "       True   0.785714\n",
       "male   False  0.271084\n",
       "       True   0.155718"
      ]
     },
     "execution_count": 146,
     "metadata": {},
     "output_type": "execute_result"
    }
   ],
   "source": [
    "import numpy as np\n",
    "import pandas as pd\n",
    "\n",
    "df = pd.read_csv('titanic.csv')\n",
    "df1 = df.pivot_table('survived', index=['sex', 'alone'])\n",
    "df1"
   ]
  },
  {
   "cell_type": "markdown",
   "metadata": {},
   "source": [
    "### Q129.Write a pandas program to create thePivot table and find the probability of survival by class, gender, solo boarding,and the port of embarkation."
   ]
  },
  {
   "cell_type": "code",
   "execution_count": 147,
   "metadata": {},
   "outputs": [
    {
     "name": "stdout",
     "output_type": "stream",
     "text": [
      "embark_town  Cherbourg                     Queenstown                  Southampton                    \n",
      "class            First    Second     Third      First Second     Third       First    Second     Third\n",
      "sex    alone                                                                                          \n",
      "female False  1.000000  1.000000  0.611111        1.0    NaN  0.625000    0.941176  0.923077  0.327586\n",
      "       True   0.944444  1.000000  0.800000        NaN    1.0  0.760000    1.000000  0.892857  0.466667\n",
      "male   False  0.473684  0.166667  0.500000        0.0    NaN  0.100000    0.407407  0.300000  0.142857\n",
      "       True   0.347826  0.250000  0.151515        NaN    0.0  0.068966    0.326923  0.089552  0.123762\n"
     ]
    }
   ],
   "source": [
    "import numpy as np\n",
    "import pandas as pd\n",
    "df = pd.read_csv('titanic.csv')\n",
    "df1 = df.pivot_table('survived', index=['sex', 'alone'], columns=['embark_town', 'class'])\n",
    "print(df1)"
   ]
  },
  {
   "cell_type": "markdown",
   "metadata": {},
   "source": [
    "### Q130.Write a pandas program to get current date, oldest date and number of days between Current date and the oldest date of Ufo dataset."
   ]
  },
  {
   "cell_type": "code",
   "execution_count": 148,
   "metadata": {},
   "outputs": [
    {
     "name": "stderr",
     "output_type": "stream",
     "text": [
      "C:\\Users\\prasadgk\\Anaconda3\\lib\\site-packages\\IPython\\core\\interactiveshell.py:3058: DtypeWarning: Columns (5) have mixed types. Specify dtype option on import or set low_memory=False.\n",
      "  interactivity=interactivity, compiler=compiler, result=result)\n",
      "C:\\Users\\prasadgk\\Anaconda3\\lib\\site-packages\\ipykernel_launcher.py:12: SettingWithCopyWarning: \n",
      "A value is trying to be set on a copy of a slice from a DataFrame\n",
      "\n",
      "See the caveats in the documentation: http://pandas.pydata.org/pandas-docs/stable/user_guide/indexing.html#returning-a-view-versus-a-copy\n",
      "  if sys.path[0] == '':\n"
     ]
    },
    {
     "name": "stdout",
     "output_type": "stream",
     "text": [
      "\n",
      "Current date of Ufo dataset:\n",
      "2014-05-08 00:00:00\n",
      "\n",
      "Oldest date of Ufo dataset:\n",
      "1906-11-11 00:00:00\n",
      "\n",
      "Number of days between Current date and oldest date of Ufo dataset:\n",
      "39260\n"
     ]
    }
   ],
   "source": [
    "import numpy as np\n",
    "import pandas as pd\n",
    "from datetime import datetime\n",
    "\n",
    "df = pd.read_csv('ufo.csv')\n",
    "for i in np.arange(df['datetime'].count()):\n",
    "    try:\n",
    "        #trying to convert datetime with type of object to datetime64\n",
    "        # if there is error in the object convert those object into correct format\n",
    "        datetime.strptime(df['datetime'][i], '%m/%d/%Y %H:%M')\n",
    "    except:\n",
    "        df['datetime'][i] = df['datetime'][i].split()[0] + \" 00:00\"\n",
    "        continue\n",
    "df.to_csv('ufo-1.csv')        \n",
    "df['datetime'] = pd.to_datetime(df['datetime'])\n",
    "\n",
    "\n",
    "print(\"\\nCurrent date of Ufo dataset:\")\n",
    "print(df.datetime.max())\n",
    "print(\"\\nOldest date of Ufo dataset:\")\n",
    "print(df.datetime.min())\n",
    "print(\"\\nNumber of days between Current date and oldest date of Ufo dataset:\")\n",
    "print((df.datetime.max() - df.datetime.min()).days)\n"
   ]
  },
  {
   "cell_type": "markdown",
   "metadata": {},
   "source": [
    "### Q131.Write a pandas program to get all sighting days of the unidentified flying object (ufo) between 1950-10-10 and 1960-10-10."
   ]
  },
  {
   "cell_type": "code",
   "execution_count": 149,
   "metadata": {},
   "outputs": [
    {
     "name": "stderr",
     "output_type": "stream",
     "text": [
      "C:\\Users\\prasadgk\\Anaconda3\\lib\\site-packages\\IPython\\core\\interactiveshell.py:3058: DtypeWarning: Columns (6) have mixed types. Specify dtype option on import or set low_memory=False.\n",
      "  interactivity=interactivity, compiler=compiler, result=result)\n"
     ]
    },
    {
     "data": {
      "text/html": [
       "<div>\n",
       "<style scoped>\n",
       "    .dataframe tbody tr th:only-of-type {\n",
       "        vertical-align: middle;\n",
       "    }\n",
       "\n",
       "    .dataframe tbody tr th {\n",
       "        vertical-align: top;\n",
       "    }\n",
       "\n",
       "    .dataframe thead th {\n",
       "        text-align: right;\n",
       "    }\n",
       "</style>\n",
       "<table border=\"1\" class=\"dataframe\">\n",
       "  <thead>\n",
       "    <tr style=\"text-align: right;\">\n",
       "      <th></th>\n",
       "      <th>Unnamed: 0</th>\n",
       "      <th>datetime</th>\n",
       "      <th>city</th>\n",
       "      <th>state</th>\n",
       "      <th>country</th>\n",
       "      <th>shape</th>\n",
       "      <th>duration (seconds)</th>\n",
       "      <th>duration (hours/min)</th>\n",
       "      <th>comments</th>\n",
       "      <th>date posted</th>\n",
       "      <th>latitude</th>\n",
       "      <th>longitude</th>\n",
       "      <th>Unnamed: 11</th>\n",
       "    </tr>\n",
       "  </thead>\n",
       "  <tbody>\n",
       "    <tr>\n",
       "      <td>0</td>\n",
       "      <td>0</td>\n",
       "      <td>1949-10-10 00:00</td>\n",
       "      <td>san marcos</td>\n",
       "      <td>tx</td>\n",
       "      <td>us</td>\n",
       "      <td>cylinder</td>\n",
       "      <td>2700</td>\n",
       "      <td>45 minutes</td>\n",
       "      <td>This event took place in early fall around 194...</td>\n",
       "      <td>2004-04-27</td>\n",
       "      <td>29.8830556</td>\n",
       "      <td>-97.941111</td>\n",
       "      <td>NaN</td>\n",
       "    </tr>\n",
       "    <tr>\n",
       "      <td>1</td>\n",
       "      <td>1</td>\n",
       "      <td>1949-10-10 00:00</td>\n",
       "      <td>lackland afb</td>\n",
       "      <td>tx</td>\n",
       "      <td>NaN</td>\n",
       "      <td>light</td>\n",
       "      <td>7200</td>\n",
       "      <td>1-2 hrs</td>\n",
       "      <td>1949 Lackland AFB&amp;#44 TX.  Lights racing acros...</td>\n",
       "      <td>2005-12-16</td>\n",
       "      <td>29.38421</td>\n",
       "      <td>-98.581082</td>\n",
       "      <td>NaN</td>\n",
       "    </tr>\n",
       "    <tr>\n",
       "      <td>2</td>\n",
       "      <td>2</td>\n",
       "      <td>1955-10-10 00:00</td>\n",
       "      <td>chester (uk/england)</td>\n",
       "      <td>NaN</td>\n",
       "      <td>gb</td>\n",
       "      <td>circle</td>\n",
       "      <td>20</td>\n",
       "      <td>20 seconds</td>\n",
       "      <td>Green/Orange circular disc over Chester&amp;#44 En...</td>\n",
       "      <td>2008-01-21</td>\n",
       "      <td>53.2</td>\n",
       "      <td>-2.916667</td>\n",
       "      <td>NaN</td>\n",
       "    </tr>\n",
       "    <tr>\n",
       "      <td>3</td>\n",
       "      <td>3</td>\n",
       "      <td>1956-10-10 00:00</td>\n",
       "      <td>edna</td>\n",
       "      <td>tx</td>\n",
       "      <td>us</td>\n",
       "      <td>circle</td>\n",
       "      <td>20</td>\n",
       "      <td>1/2 hour</td>\n",
       "      <td>My older brother and twin sister were leaving ...</td>\n",
       "      <td>2004-01-17</td>\n",
       "      <td>28.9783333</td>\n",
       "      <td>-96.645833</td>\n",
       "      <td>NaN</td>\n",
       "    </tr>\n",
       "    <tr>\n",
       "      <td>4</td>\n",
       "      <td>4</td>\n",
       "      <td>1960-10-10 00:00</td>\n",
       "      <td>kaneohe</td>\n",
       "      <td>hi</td>\n",
       "      <td>us</td>\n",
       "      <td>light</td>\n",
       "      <td>900</td>\n",
       "      <td>15 minutes</td>\n",
       "      <td>AS a Marine 1st Lt. flying an FJ4B fighter/att...</td>\n",
       "      <td>2004-01-22</td>\n",
       "      <td>21.4180556</td>\n",
       "      <td>-157.803611</td>\n",
       "      <td>NaN</td>\n",
       "    </tr>\n",
       "    <tr>\n",
       "      <td>...</td>\n",
       "      <td>...</td>\n",
       "      <td>...</td>\n",
       "      <td>...</td>\n",
       "      <td>...</td>\n",
       "      <td>...</td>\n",
       "      <td>...</td>\n",
       "      <td>...</td>\n",
       "      <td>...</td>\n",
       "      <td>...</td>\n",
       "      <td>...</td>\n",
       "      <td>...</td>\n",
       "      <td>...</td>\n",
       "      <td>...</td>\n",
       "    </tr>\n",
       "    <tr>\n",
       "      <td>88870</td>\n",
       "      <td>88870</td>\n",
       "      <td>2013-9-9 00:00</td>\n",
       "      <td>napa</td>\n",
       "      <td>ca</td>\n",
       "      <td>us</td>\n",
       "      <td>other</td>\n",
       "      <td>1200</td>\n",
       "      <td>hour</td>\n",
       "      <td>Napa UFO&amp;#44</td>\n",
       "      <td>2013-09-30</td>\n",
       "      <td>38.2972222</td>\n",
       "      <td>-122.284444</td>\n",
       "      <td>NaN</td>\n",
       "    </tr>\n",
       "    <tr>\n",
       "      <td>88871</td>\n",
       "      <td>88871</td>\n",
       "      <td>2013-9-9 00:00</td>\n",
       "      <td>vienna</td>\n",
       "      <td>va</td>\n",
       "      <td>us</td>\n",
       "      <td>circle</td>\n",
       "      <td>5</td>\n",
       "      <td>5 seconds</td>\n",
       "      <td>Saw a five gold lit cicular craft moving fastl...</td>\n",
       "      <td>2013-09-30</td>\n",
       "      <td>38.9011111</td>\n",
       "      <td>-77.265556</td>\n",
       "      <td>NaN</td>\n",
       "    </tr>\n",
       "    <tr>\n",
       "      <td>88872</td>\n",
       "      <td>88872</td>\n",
       "      <td>2013-9-9 00:00</td>\n",
       "      <td>edmond</td>\n",
       "      <td>ok</td>\n",
       "      <td>us</td>\n",
       "      <td>cigar</td>\n",
       "      <td>1020</td>\n",
       "      <td>17 minutes</td>\n",
       "      <td>2 witnesses 2  miles apart&amp;#44 Red &amp;amp; White...</td>\n",
       "      <td>2013-09-30</td>\n",
       "      <td>35.6527778</td>\n",
       "      <td>-97.477778</td>\n",
       "      <td>NaN</td>\n",
       "    </tr>\n",
       "    <tr>\n",
       "      <td>88873</td>\n",
       "      <td>88873</td>\n",
       "      <td>2013-9-9 00:00</td>\n",
       "      <td>starr</td>\n",
       "      <td>sc</td>\n",
       "      <td>us</td>\n",
       "      <td>diamond</td>\n",
       "      <td>0</td>\n",
       "      <td>2 nights</td>\n",
       "      <td>On September ninth my wife and i noticed stran...</td>\n",
       "      <td>2013-09-30</td>\n",
       "      <td>34.3769444</td>\n",
       "      <td>-82.695833</td>\n",
       "      <td>NaN</td>\n",
       "    </tr>\n",
       "    <tr>\n",
       "      <td>88874</td>\n",
       "      <td>88874</td>\n",
       "      <td>2013-9-9 00:00</td>\n",
       "      <td>ft. lauderdale</td>\n",
       "      <td>fl</td>\n",
       "      <td>us</td>\n",
       "      <td>oval</td>\n",
       "      <td>0</td>\n",
       "      <td>still occuring</td>\n",
       "      <td>Hovering object lit with red and white lights&amp;...</td>\n",
       "      <td>2013-09-30</td>\n",
       "      <td>26.1219444</td>\n",
       "      <td>-80.143611</td>\n",
       "      <td>NaN</td>\n",
       "    </tr>\n",
       "  </tbody>\n",
       "</table>\n",
       "<p>88875 rows × 13 columns</p>\n",
       "</div>"
      ],
      "text/plain": [
       "       Unnamed: 0          datetime                  city state country     shape duration (seconds) duration (hours/min)                                           comments date posted    latitude   longitude  Unnamed: 11\n",
       "0               0  1949-10-10 00:00            san marcos    tx      us  cylinder               2700           45 minutes  This event took place in early fall around 194...  2004-04-27  29.8830556  -97.941111          NaN\n",
       "1               1  1949-10-10 00:00          lackland afb    tx     NaN     light               7200              1-2 hrs  1949 Lackland AFB&#44 TX.  Lights racing acros...  2005-12-16    29.38421  -98.581082          NaN\n",
       "2               2  1955-10-10 00:00  chester (uk/england)   NaN      gb    circle                 20           20 seconds  Green/Orange circular disc over Chester&#44 En...  2008-01-21        53.2   -2.916667          NaN\n",
       "3               3  1956-10-10 00:00                  edna    tx      us    circle                 20             1/2 hour  My older brother and twin sister were leaving ...  2004-01-17  28.9783333  -96.645833          NaN\n",
       "4               4  1960-10-10 00:00               kaneohe    hi      us     light                900           15 minutes  AS a Marine 1st Lt. flying an FJ4B fighter/att...  2004-01-22  21.4180556 -157.803611          NaN\n",
       "...           ...               ...                   ...   ...     ...       ...                ...                  ...                                                ...         ...         ...         ...          ...\n",
       "88870       88870    2013-9-9 00:00                  napa    ca      us     other               1200                 hour                                       Napa UFO&#44  2013-09-30  38.2972222 -122.284444          NaN\n",
       "88871       88871    2013-9-9 00:00                vienna    va      us    circle                  5            5 seconds  Saw a five gold lit cicular craft moving fastl...  2013-09-30  38.9011111  -77.265556          NaN\n",
       "88872       88872    2013-9-9 00:00                edmond    ok      us     cigar               1020           17 minutes  2 witnesses 2  miles apart&#44 Red &amp; White...  2013-09-30  35.6527778  -97.477778          NaN\n",
       "88873       88873    2013-9-9 00:00                 starr    sc      us   diamond                  0             2 nights  On September ninth my wife and i noticed stran...  2013-09-30  34.3769444  -82.695833          NaN\n",
       "88874       88874    2013-9-9 00:00        ft. lauderdale    fl      us      oval                  0       still occuring  Hovering object lit with red and white lights&...  2013-09-30  26.1219444  -80.143611          NaN\n",
       "\n",
       "[88875 rows x 13 columns]"
      ]
     },
     "execution_count": 149,
     "metadata": {},
     "output_type": "execute_result"
    }
   ],
   "source": [
    "import numpy as np\n",
    "import pandas as pd\n",
    "df = pd.read_csv('ufo-1.csv')\n",
    "selected_period = df[(df['datetime'] >= '01-01-1950 00:00:00') & (df['datetime'] <= '31-12-1960 23:59:59')]\n",
    "selected_period"
   ]
  },
  {
   "cell_type": "markdown",
   "metadata": {},
   "source": [
    "### Q132.Write a Pandas program to extract the year, month, day, hour,minute, second,and weekday from unidentified flying object (UFO) reporting date."
   ]
  },
  {
   "cell_type": "code",
   "execution_count": 150,
   "metadata": {},
   "outputs": [
    {
     "name": "stdout",
     "output_type": "stream",
     "text": [
      "Years\n",
      "Int64Index([1949, 1949, 1955, 1956, 1960, 1961, 1965, 1965, 1966, 1966,\n",
      "            ...\n",
      "            2013, 2013, 2013, 2013, 2013, 2013, 2013, 2013, 2013, 2013], dtype='int64', name='datetime', length=88875)\n",
      "\n",
      "Month\n",
      "Int64Index([10, 10, 10, 10, 10, 10, 10, 10, 10, 10,\n",
      "            ...\n",
      "             9,  9,  9,  9,  9,  9,  9,  9,  9,  9], dtype='int64', name='datetime', length=88875)\n",
      "\n",
      "Day\n",
      "Int64Index([10, 10, 10, 10, 10, 10, 10, 10, 10, 10,\n",
      "            ...\n",
      "             9,  9,  9,  9,  9,  9,  9,  9,  9,  9], dtype='int64', name='datetime', length=88875)\n",
      "\n",
      "Hour\n",
      "Int64Index([0, 0, 0, 0, 0, 0, 0, 0, 0, 0,\n",
      "            ...\n",
      "            0, 0, 0, 0, 0, 0, 0, 0, 0, 0], dtype='int64', name='datetime', length=88875)\n",
      "\n",
      "Minute\n",
      "Int64Index([0, 0, 0, 0, 0, 0, 0, 0, 0, 0,\n",
      "            ...\n",
      "            0, 0, 0, 0, 0, 0, 0, 0, 0, 0], dtype='int64', name='datetime', length=88875)\n",
      "\n",
      "Second\n",
      "Int64Index([0, 0, 0, 0, 0, 0, 0, 0, 0, 0,\n",
      "            ...\n",
      "            0, 0, 0, 0, 0, 0, 0, 0, 0, 0], dtype='int64', name='datetime', length=88875)\n",
      "\n",
      "Weekday\n",
      "Index(['Monday', 'Monday', 'Monday', 'Wednesday', 'Monday', 'Tuesday', 'Sunday', 'Sunday', 'Monday', 'Monday',\n",
      "       ...\n",
      "       'Monday', 'Monday', 'Monday', 'Monday', 'Monday', 'Monday', 'Monday', 'Monday', 'Monday', 'Monday'], dtype='object', name='datetime', length=88875)\n"
     ]
    }
   ],
   "source": [
    "print('Years')\n",
    "print(pd.DatetimeIndex(df['datetime']).year)\n",
    "print('\\nMonth')\n",
    "print(pd.DatetimeIndex(df['datetime']).month)\n",
    "print('\\nDay')\n",
    "print(pd.DatetimeIndex(df['datetime']).day)\n",
    "print('\\nHour')\n",
    "print(pd.DatetimeIndex(df['datetime']).hour)\n",
    "print('\\nMinute')\n",
    "print(pd.DatetimeIndex(df['datetime']).minute)\n",
    "print('\\nSecond')\n",
    "print(pd.DatetimeIndex(df['datetime']).second)\n",
    "print('\\nWeekday')\n",
    "print(pd.DatetimeIndex(df['datetime']).weekday_name)"
   ]
  },
  {
   "cell_type": "markdown",
   "metadata": {},
   "source": [
    "### Q133.Write a pandas program to count year-country wise frequency of reporting dates of the unidentified flying object(UFO)."
   ]
  },
  {
   "cell_type": "code",
   "execution_count": 151,
   "metadata": {},
   "outputs": [
    {
     "name": "stdout",
     "output_type": "stream",
     "text": [
      "Original DataFrame\n",
      "   Unnamed: 0          datetime                  city state country     shape duration (seconds) duration (hours/min)                                           comments date posted    latitude   longitude  Unnamed: 11\n",
      "0           0  1949-10-10 00:00            san marcos    tx      us  cylinder               2700           45 minutes  This event took place in early fall around 194...  2004-04-27  29.8830556  -97.941111          NaN\n",
      "1           1  1949-10-10 00:00          lackland afb    tx     NaN     light               7200              1-2 hrs  1949 Lackland AFB&#44 TX.  Lights racing acros...  2005-12-16    29.38421  -98.581082          NaN\n",
      "2           2  1955-10-10 00:00  chester (uk/england)   NaN      gb    circle                 20           20 seconds  Green/Orange circular disc over Chester&#44 En...  2008-01-21        53.2   -2.916667          NaN\n",
      "3           3  1956-10-10 00:00                  edna    tx      us    circle                 20             1/2 hour  My older brother and twin sister were leaving ...  2004-01-17  28.9783333  -96.645833          NaN\n",
      "4           4  1960-10-10 00:00               kaneohe    hi      us     light                900           15 minutes  AS a Marine 1st Lt. flying an FJ4B fighter/att...  2004-01-22  21.4180556 -157.803611          NaN\n",
      "count year-country wise frequency of reporting dates of the unidentified flying object(UFO)\n",
      "Year  country\n",
      "1910  us            3\n",
      "1920  us            1\n",
      "1925  us            1\n",
      "1929  us            1\n",
      "1930  us            1\n",
      "1931  us            2\n",
      "1934  us            1\n",
      "1936  ca            1\n",
      "      us            2\n",
      "1937  us            2\n",
      "1939  us            3\n",
      "1941  us            1\n",
      "1942  us            3\n",
      "1943  gb            1\n",
      "      us            1\n",
      "1944  us            3\n",
      "1945  us            7\n",
      "1946  ca            1\n",
      "      us            8\n",
      "1947  us           38\n",
      "1948  us            8\n",
      "1949  us           16\n",
      "1950  us           24\n",
      "1951  ca            2\n",
      "      gb            1\n",
      "      us           14\n",
      "1952  ca            3\n",
      "      gb            1\n",
      "      us           42\n",
      "1953  ca            2\n",
      "      us           29\n",
      "1954  ca            2\n",
      "      us           42\n",
      "1955  ca            1\n",
      "      gb            2\n",
      "      us           27\n",
      "1956  us           41\n",
      "1957  gb            1\n",
      "      us           67\n",
      "1958  au            1\n",
      "      ca            1\n",
      "      us           45\n",
      "1959  us           47\n",
      "1960  au            1\n",
      "      ca            7\n",
      "      gb            1\n",
      "      us           56\n",
      "1961  ca            3\n",
      "      us           42\n",
      "1962  au            1\n",
      "      ca            3\n",
      "      de            1\n",
      "      gb            1\n",
      "      us           58\n",
      "1963  ca            3\n",
      "      gb            1\n",
      "      us           72\n",
      "1964  ca            1\n",
      "      us           82\n",
      "1965  ca            2\n",
      "      gb            2\n",
      "      us          177\n",
      "1966  ca            7\n",
      "      gb            2\n",
      "      us          178\n",
      "1967  au            1\n",
      "      ca            2\n",
      "      gb            4\n",
      "      us          158\n",
      "1968  au            1\n",
      "      ca            4\n",
      "      de            2\n",
      "      gb            1\n",
      "      us          182\n",
      "1969  ca            9\n",
      "      de            2\n",
      "      gb            1\n",
      "      us          131\n",
      "1970  au            1\n",
      "      ca           10\n",
      "      de            1\n",
      "      gb            6\n",
      "      us          118\n",
      "1971  ca            6\n",
      "      de            1\n",
      "      gb            2\n",
      "      us           98\n",
      "1972  au            3\n",
      "      ca            8\n",
      "      gb            6\n",
      "      us          130\n",
      "1973  ca           10\n",
      "      de            1\n",
      "      us          198\n",
      "1974  au            3\n",
      "      ca            8\n",
      "      de            1\n",
      "      gb            5\n",
      "      us          230\n",
      "1975  au            5\n",
      "      ca           10\n",
      "      de            1\n",
      "      gb            4\n",
      "      us          261\n",
      "1976  au            4\n",
      "      ca            4\n",
      "      gb            9\n",
      "      us          235\n",
      "1977  au            1\n",
      "      ca           13\n",
      "      gb            4\n",
      "      us          219\n",
      "1978  au            2\n",
      "      ca           11\n",
      "      gb            8\n",
      "      us          269\n",
      "1979  au            1\n",
      "      ca            7\n",
      "      de            1\n",
      "      gb            8\n",
      "      us          200\n",
      "1980  au            2\n",
      "      ca            6\n",
      "      de            1\n",
      "      gb           11\n",
      "      us          214\n",
      "1981  au            1\n",
      "      ca            5\n",
      "      de            1\n",
      "      gb            2\n",
      "      us          147\n",
      "1982  au            2\n",
      "      ca            6\n",
      "      gb            3\n",
      "      us          152\n",
      "1983  au            4\n",
      "      ca            5\n",
      "      gb            4\n",
      "      us          131\n",
      "1984  au            1\n",
      "      ca            8\n",
      "      gb            4\n",
      "      us          152\n",
      "1985  au            1\n",
      "      ca            9\n",
      "      gb            3\n",
      "      us          183\n",
      "1986  au            3\n",
      "      ca            3\n",
      "      gb            6\n",
      "      us          162\n",
      "1987  au            3\n",
      "      ca           12\n",
      "      de            2\n",
      "      gb            8\n",
      "      us          191\n",
      "1988  au            4\n",
      "      ca            9\n",
      "      gb            3\n",
      "      us          199\n",
      "1989  ca            6\n",
      "      gb            4\n",
      "      us          212\n",
      "1990  au            3\n",
      "      ca           15\n",
      "      de            2\n",
      "      gb            4\n",
      "      us          204\n",
      "1991  au            2\n",
      "      ca            9\n",
      "      de            1\n",
      "      gb            1\n",
      "      us          191\n",
      "1992  au            5\n",
      "      ca           12\n",
      "      de            1\n",
      "      gb            6\n",
      "      us          198\n",
      "1993  au            3\n",
      "      ca           11\n",
      "      gb           16\n",
      "      us          246\n",
      "1994  au            1\n",
      "      ca           17\n",
      "      de            1\n",
      "      gb            5\n",
      "      us          350\n",
      "1995  au            3\n",
      "      ca           18\n",
      "      de            1\n",
      "      gb           16\n",
      "      us         1180\n",
      "1996  au           12\n",
      "      ca           34\n",
      "      de            2\n",
      "      gb           25\n",
      "      us          739\n",
      "1997  au            9\n",
      "      ca           41\n",
      "      de            1\n",
      "      gb           33\n",
      "      us         1078\n",
      "1998  au           15\n",
      "      ca           65\n",
      "      de            1\n",
      "      gb           34\n",
      "      us         1512\n",
      "1999  au           24\n",
      "      ca          105\n",
      "      de            1\n",
      "      gb           35\n",
      "      us         2402\n",
      "2000  au           23\n",
      "      ca          112\n",
      "      de            4\n",
      "      gb           84\n",
      "      us         2366\n",
      "2001  au           42\n",
      "      ca          146\n",
      "      de            4\n",
      "      gb          121\n",
      "      us         2703\n",
      "2002  au           50\n",
      "      ca          182\n",
      "      de            4\n",
      "      gb          146\n",
      "      us         2680\n",
      "2003  au           51\n",
      "      ca          327\n",
      "      de            7\n",
      "      gb          139\n",
      "      us         3219\n",
      "2004  au           51\n",
      "      ca          297\n",
      "      de            5\n",
      "      gb          125\n",
      "      us         3514\n",
      "2005  au           52\n",
      "      ca          198\n",
      "      de            3\n",
      "      gb          126\n",
      "      us         3458\n",
      "2006  au           39\n",
      "      ca          153\n",
      "      de            4\n",
      "      gb          176\n",
      "      us         3135\n",
      "2007  au           30\n",
      "      ca          171\n",
      "      de           10\n",
      "      gb          138\n",
      "      us         3732\n",
      "2008  au           17\n",
      "      ca          126\n",
      "      de           17\n",
      "      gb          152\n",
      "      us         4308\n",
      "2009  au           15\n",
      "      ca          151\n",
      "      de            6\n",
      "      gb          213\n",
      "      us         3938\n",
      "2010  au           17\n",
      "      ca          154\n",
      "      de            4\n",
      "      gb          119\n",
      "      us         3825\n",
      "2011  au           14\n",
      "      ca          140\n",
      "      de            3\n",
      "      gb           56\n",
      "      us         4666\n",
      "2012  au           20\n",
      "      ca          251\n",
      "      de            6\n",
      "      gb           87\n",
      "      us         6749\n",
      "2013  au           35\n",
      "      ca          273\n",
      "      de            6\n",
      "      gb           52\n",
      "      us         6464\n",
      "2014  au           14\n",
      "      ca           48\n",
      "      de            3\n",
      "      gb           22\n",
      "      us         2119\n",
      "dtype: int64\n"
     ]
    }
   ],
   "source": [
    "import numpy as np\n",
    "import pandas as pd\n",
    "df = pd.read_csv('ufo-1.csv')\n",
    "\n",
    "print('Original DataFrame')\n",
    "print(df.head())\n",
    "\n",
    "df['Year'] = pd.DatetimeIndex(df['datetime']).year\n",
    "result = df.groupby(['Year', 'country']).size()\n",
    "print('count year-country wise frequency of reporting dates of the unidentified flying object(UFO)')\n",
    "print(result)"
   ]
  },
  {
   "cell_type": "markdown",
   "metadata": {},
   "source": [
    "### Q134.Write a pandas program to get the difference (in days) between documented date and reporting date of unidentified flying object (UFO)."
   ]
  },
  {
   "cell_type": "code",
   "execution_count": 153,
   "metadata": {},
   "outputs": [
    {
     "name": "stdout",
     "output_type": "stream",
     "text": [
      "   Unnamed: 0   datetime                  city state country     shape duration (seconds) duration (hours/min)                                           comments date posted    latitude   longitude  Unnamed: 11  Difference\n",
      "0         0.0 1949-10-10            san marcos    tx      us  cylinder               2700           45 minutes  This event took place in early fall around 194...  2004-04-27  29.8830556  -97.941111          NaN     19923.0\n",
      "1         1.0 1949-10-10          lackland afb    tx     NaN     light               7200              1-2 hrs  1949 Lackland AFB&#44 TX.  Lights racing acros...  2005-12-16    29.38421  -98.581082          NaN     20521.0\n",
      "2         2.0 1955-10-10  chester (uk/england)   NaN      gb    circle                 20           20 seconds  Green/Orange circular disc over Chester&#44 En...  2008-01-21        53.2   -2.916667          NaN     19096.0\n",
      "3         3.0 1956-10-10                  edna    tx      us    circle                 20             1/2 hour  My older brother and twin sister were leaving ...  2004-01-17  28.9783333  -96.645833          NaN     17265.0\n",
      "4         4.0 1960-10-10               kaneohe    hi      us     light                900           15 minutes  AS a Marine 1st Lt. flying an FJ4B fighter/att...  2004-01-22  21.4180556 -157.803611          NaN     15809.0\n"
     ]
    },
    {
     "name": "stderr",
     "output_type": "stream",
     "text": [
      "C:\\Users\\prasadgk\\Anaconda3\\lib\\site-packages\\IPython\\core\\interactiveshell.py:3058: DtypeWarning: Columns (6,10) have mixed types. Specify dtype option on import or set low_memory=False.\n",
      "  interactivity=interactivity, compiler=compiler, result=result)\n"
     ]
    }
   ],
   "source": [
    "import numpy as np\n",
    "import pandas as pd\n",
    "df = pd.read_csv('ufo-1.csv')\n",
    "df['datetime'] = pd.to_datetime(df['datetime'])\n",
    "df['date posted'] = pd.to_datetime(df['date posted'])\n",
    "df['Difference'] = (df['date posted'] - df['datetime']).dt.days\n",
    "print(df.head())"
   ]
  },
  {
   "cell_type": "markdown",
   "metadata": {},
   "source": [
    "### Q135.Write a pandas program to generate sequences of fixed-frequency dates and time spans."
   ]
  },
  {
   "cell_type": "code",
   "execution_count": 154,
   "metadata": {},
   "outputs": [
    {
     "name": "stdout",
     "output_type": "stream",
     "text": [
      "Hourly Frequence\n",
      "DatetimeIndex(['2019-01-01 00:00:00', '2019-01-01 01:00:00', '2019-01-01 02:00:00', '2019-01-01 03:00:00', '2019-01-01 04:00:00', '2019-01-01 05:00:00', '2019-01-01 06:00:00', '2019-01-01 07:00:00', '2019-01-01 08:00:00', '2019-01-01 09:00:00', '2019-01-01 10:00:00', '2019-01-01 11:00:00'], dtype='datetime64[ns]', freq='H')\n",
      "\n",
      "Minutely Frequence\n",
      "DatetimeIndex(['2019-01-01 00:00:00', '2019-01-01 00:01:00', '2019-01-01 00:02:00', '2019-01-01 00:03:00', '2019-01-01 00:04:00', '2019-01-01 00:05:00', '2019-01-01 00:06:00', '2019-01-01 00:07:00', '2019-01-01 00:08:00', '2019-01-01 00:09:00', '2019-01-01 00:10:00', '2019-01-01 00:11:00'], dtype='datetime64[ns]', freq='T')\n",
      "\n",
      "Secondly Frequence\n",
      "DatetimeIndex(['2019-01-01 00:00:00', '2019-01-01 00:00:01', '2019-01-01 00:00:02', '2019-01-01 00:00:03', '2019-01-01 00:00:04', '2019-01-01 00:00:05', '2019-01-01 00:00:06', '2019-01-01 00:00:07', '2019-01-01 00:00:08', '2019-01-01 00:00:09', '2019-01-01 00:00:10', '2019-01-01 00:00:11'], dtype='datetime64[ns]', freq='S')\n"
     ]
    }
   ],
   "source": [
    "import pandas as pd\n",
    "dtr = pd.date_range('2019-01-01', periods=12, freq='H')\n",
    "print('Hourly Frequence')\n",
    "print(dtr)\n",
    "\n",
    "dtr = pd.date_range('2019-01-01', periods=12, freq='min')\n",
    "print('\\nMinutely Frequence')\n",
    "print(dtr)\n",
    "\n",
    "dtr = pd.date_range('2019-01-01', periods=12, freq='S')\n",
    "print('\\nSecondly Frequence')\n",
    "print(dtr)\n"
   ]
  },
  {
   "cell_type": "markdown",
   "metadata": {},
   "source": [
    "### Q136.Write a pandas program to manipulate and convert date times with timezone information."
   ]
  },
  {
   "cell_type": "code",
   "execution_count": 155,
   "metadata": {},
   "outputs": [
    {
     "name": "stdout",
     "output_type": "stream",
     "text": [
      "DatetimeIndex(['2019-01-01 00:00:00+00:00', '2019-01-01 01:00:00+00:00', '2019-01-01 02:00:00+00:00', '2019-01-01 03:00:00+00:00', '2019-01-01 04:00:00+00:00', '2019-01-01 05:00:00+00:00', '2019-01-01 06:00:00+00:00', '2019-01-01 07:00:00+00:00', '2019-01-01 08:00:00+00:00', '2019-01-01 09:00:00+00:00', '2019-01-01 10:00:00+00:00', '2019-01-01 11:00:00+00:00'], dtype='datetime64[ns, UTC]', freq='H')\n",
      "\n",
      "From UTC to Asia/India:\n",
      "DatetimeIndex(['2019-01-01 05:30:00+05:30', '2019-01-01 06:30:00+05:30', '2019-01-01 07:30:00+05:30', '2019-01-01 08:30:00+05:30', '2019-01-01 09:30:00+05:30', '2019-01-01 10:30:00+05:30', '2019-01-01 11:30:00+05:30', '2019-01-01 12:30:00+05:30', '2019-01-01 13:30:00+05:30', '2019-01-01 14:30:00+05:30', '2019-01-01 15:30:00+05:30', '2019-01-01 16:30:00+05:30'], dtype='datetime64[ns, Asia/Kolkata]', freq='H')\n"
     ]
    }
   ],
   "source": [
    "import pandas as pd\n",
    "dt = pd.date_range('2019-01-01', periods=12, freq='H')\n",
    "dt = dt.tz_localize('UTC')\n",
    "print(dt)\n",
    "print(\"\\nFrom UTC to Asia/India:\")\n",
    "dt = dt.tz_convert('Asia/Kolkata')\n",
    "print(dt)"
   ]
  },
  {
   "cell_type": "markdown",
   "metadata": {},
   "source": [
    "### Q137.Write a pandas program to create the graphical analysis of UFO (unidentified flying object)   Sightings year."
   ]
  },
  {
   "cell_type": "code",
   "execution_count": 156,
   "metadata": {},
   "outputs": [],
   "source": [
    "import pandas as pd\n",
    "import matplotlib.pyplot as plt\n",
    "\n",
    "df =pd.read_csv('ufo-1.csv')\n",
    "df['datetime'] = pd.to_datetime(df['datetime'])\n",
    "df['date posted'] = pd.to_datetime(df['date posted'])\n",
    "df['year'] = pd.DatetimeIndex(df['datetime']).year\n",
    "years_data = df['year'].value_counts()"
   ]
  },
  {
   "cell_type": "code",
   "execution_count": 157,
   "metadata": {},
   "outputs": [],
   "source": [
    "years_index = years_data.index"
   ]
  },
  {
   "cell_type": "code",
   "execution_count": 158,
   "metadata": {},
   "outputs": [
    {
     "name": "stderr",
     "output_type": "stream",
     "text": [
      "C:\\Users\\prasadgk\\Anaconda3\\lib\\site-packages\\ipykernel_launcher.py:1: FutureWarning: The 'get_values' method is deprecated and will be removed in a future version. Use '.to_numpy()' or '.array' instead.\n",
      "  \"\"\"Entry point for launching an IPython kernel.\n"
     ]
    }
   ],
   "source": [
    "year_values = years_data.get_values()"
   ]
  },
  {
   "cell_type": "code",
   "execution_count": 159,
   "metadata": {},
   "outputs": [
    {
     "data": {
      "text/plain": [
       "<BarContainer object of 90 artists>"
      ]
     },
     "execution_count": 159,
     "metadata": {},
     "output_type": "execute_result"
    },
    {
     "data": {
      "image/png": "[encoded data removed]",
      "text/plain": [
       "<Figure size 1080x576 with 1 Axes>"
      ]
     },
     "metadata": {
      "needs_background": "light"
     },
     "output_type": "display_data"
    }
   ],
   "source": [
    "%matplotlib inline\n",
    "plt.figure(figsize=(15,8))\n",
    "plt.xticks(rotation = 60)\n",
    "plt.title('UFO Sightings by year')\n",
    "plt.xlabel('Year')\n",
    "plt.ylabel('Number of reports')\n",
    "plt.bar(years_index, year_values)"
   ]
  },
  {
   "cell_type": "markdown",
   "metadata": {},
   "source": [
    "### Q138.Write a pandas program to create a comparison of the top 10 years in which the (UFO)was sighted VS each Month"
   ]
  },
  {
   "cell_type": "code",
   "execution_count": 160,
   "metadata": {},
   "outputs": [],
   "source": [
    "import pandas as pd\n",
    "import matplotlib.pyplot as plt\n",
    "df =pd.read_csv('ufo-1.csv')\n",
    "df['datetime'] = pd.to_datetime(df['datetime'])\n",
    "df['date posted'] = pd.to_datetime(df['date posted'])"
   ]
  },
  {
   "cell_type": "code",
   "execution_count": 161,
   "metadata": {},
   "outputs": [],
   "source": [
    "df['year'] = pd.DatetimeIndex(df['datetime']).year\n",
    "years_data = df['year'].value_counts()\n",
    "most_sightings_years  = years_data.head(10)"
   ]
  },
  {
   "cell_type": "code",
   "execution_count": 162,
   "metadata": {},
   "outputs": [],
   "source": [
    "def is_top_years(year):\n",
    "    if year in most_sightings_years.index:\n",
    "        return year"
   ]
  },
  {
   "cell_type": "code",
   "execution_count": 163,
   "metadata": {},
   "outputs": [
    {
     "name": "stdout",
     "output_type": "stream",
     "text": [
      "[10. 10. 10. ...  9.  9.  9.]\n"
     ]
    },
    {
     "name": "stderr",
     "output_type": "stream",
     "text": [
      "C:\\Users\\prasadgk\\Anaconda3\\lib\\site-packages\\ipykernel_launcher.py:6: FutureWarning: The 'get_values' method is deprecated and will be removed in a future version. Use '.to_numpy()' or '.array' instead.\n",
      "  \n"
     ]
    }
   ],
   "source": [
    "columns=df['datetime'].dt.month\n",
    "index=df['datetime'].dt.year.apply(is_top_years)\n",
    "aggfunc='count'\n",
    "values='city'\n",
    "\n",
    "columns = columns.get_values()# columns.reset_index(level=1, drop=False,inplace=False)\n",
    "print(columns)"
   ]
  },
  {
   "cell_type": "code",
   "execution_count": 164,
   "metadata": {},
   "outputs": [],
   "source": [
    "month_vs_year = df .pivot_table(columns=columns,index=index, aggfunc='count',values='city')"
   ]
  },
  {
   "cell_type": "code",
   "execution_count": 165,
   "metadata": {},
   "outputs": [
    {
     "name": "stdout",
     "output_type": "stream",
     "text": [
      "\n",
      "Comparison of the top 10 years in which the UFO was sighted vs each month:\n",
      "          1.0   2.0   3.0   4.0   5.0   6.0   7.0   8.0   9.0   10.0  11.0  12.0\n",
      "datetime                                                                        \n",
      "2003.0     328   266   191   225   251   306   449   542   505   473   470   383\n",
      "2004.0     303   300   412   389   387   425   440   545   411   452   329   307\n",
      "2005.0     256   279   357   314   300   400   456   352   531   482   465   273\n",
      "2007.0     442   264   360   321   311   419   465   468   448   445   372   358\n",
      "2008.0     472   369   340   442   343   475   570   502   383   530   453   346\n",
      "2009.0     498   394   341   317   359   384   609   499   599   321   322   290\n",
      "2010.0     292   186   260   294   328   379   837   527   449   471   361   306\n",
      "2011.0     326   275   330   316   318   397   759   634   554   639   444   529\n",
      "2012.0     579   388   529   496   513   750   926   886   755   668   773   661\n",
      "2013.0     389   281   397   424   524   625   962   895   779   778   798   747\n"
     ]
    }
   ],
   "source": [
    "print(\"\\nComparison of the top 10 years in which the UFO was sighted vs each month:\")\n",
    "print(month_vs_year.head(10))"
   ]
  },
  {
   "cell_type": "markdown",
   "metadata": {},
   "source": [
    "### Q139.Write a pandas program to create a heatmap(rectangular data asa colour-encoded matrix) for comparison oftop 10 years in which (UFO )was sighted VSeach Month."
   ]
  },
  {
   "cell_type": "code",
   "execution_count": 166,
   "metadata": {
    "scrolled": true
   },
   "outputs": [
    {
     "name": "stderr",
     "output_type": "stream",
     "text": [
      "C:\\Users\\prasadgk\\Anaconda3\\lib\\site-packages\\ipykernel_launcher.py:19: FutureWarning: The 'get_values' method is deprecated and will be removed in a future version. Use '.to_numpy()' or '.array' instead.\n"
     ]
    },
    {
     "name": "stdout",
     "output_type": "stream",
     "text": [
      "\n",
      "Heatmap for comparison of the top 10 years in which the UFO was sighted vs each month:\n"
     ]
    },
    {
     "data": {
      "image/png": "[encoded data removed]",
      "text/plain": [
       "<Figure size 720x576 with 1 Axes>"
      ]
     },
     "metadata": {
      "needs_background": "light"
     },
     "output_type": "display_data"
    }
   ],
   "source": [
    "import pandas as pd\n",
    "import matplotlib.pyplot as plt\n",
    "df =pd.read_csv('ufo-1.csv')\n",
    "df['datetime'] = pd.to_datetime(df['datetime'])\n",
    "\n",
    "df['year'] = pd.DatetimeIndex(df['datetime']).year\n",
    "years_data = df['year'].value_counts()\n",
    "most_sightings_years  = years_data.head(10)\n",
    "\n",
    "def is_top_years(year):\n",
    "    if year in most_sightings_years.index:\n",
    "        return year\n",
    "\n",
    "columns=df['datetime'].dt.month\n",
    "index=df['datetime'].dt.year.apply(is_top_years)\n",
    "aggfunc='count'\n",
    "values='city'\n",
    "\n",
    "columns = columns.get_values()# columns.reset_index(level=1, drop=False,inplace=False)\n",
    "month_vs_year = df .pivot_table(columns=columns,index=index, aggfunc='count',values='city')\n",
    "month_vs_year.columns = month_vs_year.columns.astype(int)\n",
    "print(\"\\nHeatmap for comparison of the top 10 years in which the UFO was sighted vs each month:\")\n",
    "plt.figure(figsize=(10,8))\n",
    "plt.imshow(month_vs_year, cmap='hot', interpolation='nearest')\n",
    "plt.show()\n"
   ]
  },
  {
   "cell_type": "markdown",
   "metadata": {},
   "source": [
    "### Q140.Write a pandas program to create a Timewheel of Hour VSYearcomparison of the top 10 years in which the (UFO)was sighted."
   ]
  },
  {
   "cell_type": "code",
   "execution_count": 167,
   "metadata": {
    "scrolled": true
   },
   "outputs": [],
   "source": [
    "import pandas as pd\n",
    "import matplotlib.pyplot as plt\n",
    "df =pd.read_csv('ufo-1.csv')\n",
    "df['datetime'] = pd.to_datetime(df['datetime'])\n"
   ]
  },
  {
   "cell_type": "code",
   "execution_count": 168,
   "metadata": {},
   "outputs": [],
   "source": [
    "def is_top_years(year):\n",
    "    if year in most_sightings_years.index:\n",
    "        return year"
   ]
  },
  {
   "cell_type": "code",
   "execution_count": 169,
   "metadata": {},
   "outputs": [
    {
     "name": "stderr",
     "output_type": "stream",
     "text": [
      "C:\\Users\\prasadgk\\Anaconda3\\lib\\site-packages\\ipykernel_launcher.py:6: FutureWarning: The 'get_values' method is deprecated and will be removed in a future version. Use '.to_numpy()' or '.array' instead.\n",
      "  \n"
     ]
    }
   ],
   "source": [
    "most_sightigs_yeara = df['datetime'].dt.year.value_counts().head(10)\n",
    "\n",
    "\n",
    "columns=df['datetime'].dt.month\n",
    "index=df['datetime'].dt.year.apply(is_top_years)\n",
    "columns = columns.get_values()\n",
    "month_vs_year = df.pivot_table(columns=columns,\n",
    "                               index=index,\n",
    "                               aggfunc='count',\n",
    "                               values='city'\n",
    "                              )"
   ]
  },
  {
   "cell_type": "code",
   "execution_count": 170,
   "metadata": {},
   "outputs": [],
   "source": [
    "month_vs_year.index = month_vs_year.index.astype(int)\n",
    "month_vs_year.columns = month_vs_year.columns.astype(int)"
   ]
  },
  {
   "cell_type": "code",
   "execution_count": 171,
   "metadata": {},
   "outputs": [
    {
     "name": "stdout",
     "output_type": "stream",
     "text": [
      "\n",
      "Comparison of the top 10 years in which the UFO was sighted vs each month:\n"
     ]
    },
    {
     "data": {
      "image/png": "[encoded data removed]",
      "text/plain": [
       "<Figure size 576x576 with 1 Axes>"
      ]
     },
     "metadata": {},
     "output_type": "display_data"
    }
   ],
   "source": [
    "import matplotlib as mpl\n",
    "import matplotlib.cm as cm\n",
    "%matplotlib inline\n",
    "print(\"\\nComparison of the top 10 years in which the UFO was sighted vs each month:\")\n",
    "def pie_heatmap(table, cmap='coolwarm_r', vmin=None, vmax=None,inner_r=0.25, pie_args={}):\n",
    "   n, m = table.shape\n",
    "   vmin= table.min().min() if vmin is None else vmin\n",
    "   vmax= table.max().max() if vmax is None else vmax\n",
    "\n",
    "   centre_circle = plt.Circle((0,0),inner_r,edgecolor='black',facecolor='white',fill=True,linewidth=0.25)\n",
    "   plt.gcf().gca().add_artist(centre_circle)\n",
    "   norm = mpl.colors.Normalize(vmin=vmin, vmax=vmax)\n",
    "   cmapper = cm.ScalarMappable(norm=norm, cmap=cmap)\n",
    "\n",
    "   for i, (row_name, row) in enumerate(table.iterrows()):\n",
    "       labels = None if i > 0 else table.columns\n",
    "       wedges = plt.pie([1] * m,radius=inner_r+float(n-i)/n, colors=[cmapper.to_rgba(x) for x in row.values],\n",
    "           labels=labels, startangle=90, counterclock=False, wedgeprops={'linewidth':-1}, **pie_args)\n",
    "       plt.setp(wedges[0], edgecolor='grey',linewidth=1.5)\n",
    "       wedges = plt.pie([1], radius=inner_r+float(n-i-1)/n, colors=['w'], labels=[row_name], startangle=-90, wedgeprops={'linewidth':0})\n",
    "       plt.setp(wedges[0], edgecolor='grey',linewidth=1.5)\n",
    "plt.figure(figsize=(8,8))\n",
    "plt.title(\"Timewheel of Hour Vs Year\",y=1.08,fontsize=30)\n",
    "pie_heatmap(month_vs_year, vmin=-20,vmax=80,inner_r=0.2)"
   ]
  },
  {
   "cell_type": "markdown",
   "metadata": {},
   "source": [
    "### Q141. Write a python program to draw the line using given axis values with the suitable label in the x-axis, y-axis,and a title."
   ]
  },
  {
   "cell_type": "code",
   "execution_count": 172,
   "metadata": {},
   "outputs": [
    {
     "data": {
      "text/plain": [
       "[<matplotlib.lines.Line2D at 0x233d69cf908>]"
      ]
     },
     "execution_count": 172,
     "metadata": {},
     "output_type": "execute_result"
    },
    {
     "data": {
      "image/png": "[encoded data removed]",
      "text/plain": [
       "<Figure size 432x288 with 1 Axes>"
      ]
     },
     "metadata": {
      "needs_background": "light"
     },
     "output_type": "display_data"
    }
   ],
   "source": [
    "import matplotlib.pyplot as plt\n",
    "x = [1,2,3]\n",
    "y = [2,4,1]\n",
    "plt.xlabel('x-axis')\n",
    "plt.ylabel('y-axis')\n",
    "plt.title('sample graph')\n",
    "plt.plot(x,y)\n"
   ]
  },
  {
   "cell_type": "markdown",
   "metadata": {},
   "source": [
    "### Q142. Write a python program to draw the line charts of the financial data of the Alphabet Inc., between October."
   ]
  },
  {
   "cell_type": "code",
   "execution_count": 173,
   "metadata": {},
   "outputs": [
    {
     "data": {
      "image/png": "[encoded data removed]",
      "text/plain": [
       "<Figure size 432x288 with 1 Axes>"
      ]
     },
     "metadata": {
      "needs_background": "light"
     },
     "output_type": "display_data"
    }
   ],
   "source": [
    "import matplotlib.pyplot as plt\n",
    "import pandas as pd\n",
    "df = pd.read_csv('fdata.csv', sep=',', parse_dates=True, index_col=0,encoding=\"utf-8\")\n",
    "df.plot()\n",
    "plt.show()"
   ]
  },
  {
   "cell_type": "markdown",
   "metadata": {},
   "source": [
    "### Q143. Write a Python program to plot two or more lines on same plot with the suitable legends of eachline."
   ]
  },
  {
   "cell_type": "code",
   "execution_count": 174,
   "metadata": {},
   "outputs": [
    {
     "data": {
      "image/png": "[encoded data removed]",
      "text/plain": [
       "<Figure size 432x288 with 1 Axes>"
      ]
     },
     "metadata": {
      "needs_background": "light"
     },
     "output_type": "display_data"
    }
   ],
   "source": [
    "import matplotlib.pyplot as plt\n",
    "x1 = [10,20,30]\n",
    "y1 = [20,40,10]\n",
    "plt.plot(x1, y1, label='line 1')\n",
    "\n",
    "x2 = [10,20,30]\n",
    "y2 = [40,10,30]\n",
    "plt.plot(x2, y2, label = 'line 2')\n",
    "plt.xlabel('x-axis')\n",
    "plt.title('Two or more lines on same plot with suitable legends')\n",
    "plt.legend()\n",
    "plt.show()"
   ]
  },
  {
   "cell_type": "markdown",
   "metadata": {},
   "source": [
    "### Q144.Write a python programming to display a bar chart of the popularity of programming languages"
   ]
  },
  {
   "cell_type": "code",
   "execution_count": 175,
   "metadata": {
    "scrolled": true
   },
   "outputs": [
    {
     "data": {
      "image/png": "[encoded data removed]",
      "text/plain": [
       "<Figure size 432x288 with 1 Axes>"
      ]
     },
     "metadata": {
      "needs_background": "light"
     },
     "output_type": "display_data"
    }
   ],
   "source": [
    "import matplotlib.pyplot as plt\n",
    "x = ['Java','Python','PHP',\"JavaScript\",'C#','C++']\n",
    "popularity = [22.2,17.6,8.8,8,7.7,6.7]\n",
    "\n",
    "x_pos = [i for i, _ in enumerate(x)]\n",
    "plt.bar(x_pos, popularity, color='blue')\n",
    "plt.xlabel('Lauguages')\n",
    "plt.ylabel('Popularity')\n",
    "plt.title('Popularity of Programming Language\\n')\n",
    "plt.xticks(x_pos, x)\n",
    "plt.minorticks_on()\n",
    "plt.grid(which='major', linestyle='-', linewidth='0.5', color='red')\n",
    "plt.grid(which='minor', linestyle=':', linewidth='0.5', color='red')\n",
    "plt.show()"
   ]
  },
  {
   "cell_type": "markdown",
   "metadata": {},
   "source": [
    "### Q145.Write a python programming to display a horizontal bar chart of the popularity of programming languages."
   ]
  },
  {
   "cell_type": "code",
   "execution_count": 176,
   "metadata": {},
   "outputs": [
    {
     "data": {
      "image/png": "[encoded data removed]",
      "text/plain": [
       "<Figure size 432x288 with 1 Axes>"
      ]
     },
     "metadata": {
      "needs_background": "light"
     },
     "output_type": "display_data"
    }
   ],
   "source": [
    "import matplotlib.pyplot as plt\n",
    "x = ['Java','Python','PHP',\"JavaScript\",'C#','C++']\n",
    "popularity = [22.2,17.6,8.8,8,7.7,6.7]\n",
    "\n",
    "x_pos = [i for i, _ in enumerate(x)]\n",
    "plt.barh(x_pos, popularity, color='blue')\n",
    "plt.ylabel('Lauguages')\n",
    "plt.xlabel('Popularity')\n",
    "plt.title('Popularity of Programming Language\\n')\n",
    "plt.yticks(x_pos, x)\n",
    "plt.minorticks_on()\n",
    "plt.grid(which='major', linestyle='-', linewidth='0.5', color='red')\n",
    "plt.grid(which='minor', linestyle=':', linewidth='0.5', color='red')\n",
    "plt.show()"
   ]
  },
  {
   "cell_type": "markdown",
   "metadata": {},
   "source": [
    "### Q146.Write a python programming to display a bar chart of the Popularity of programming languages. Increase bottom margin"
   ]
  },
  {
   "cell_type": "code",
   "execution_count": 177,
   "metadata": {},
   "outputs": [
    {
     "data": {
      "image/png": "[encoded data removed]",
      "text/plain": [
       "<Figure size 432x288 with 1 Axes>"
      ]
     },
     "metadata": {
      "needs_background": "light"
     },
     "output_type": "display_data"
    }
   ],
   "source": [
    "import matplotlib.pyplot as plt\n",
    "x=['java','Pytoh','PHP','JavaScript','C#','C++']\n",
    "popularity = [22.2, 17.6, 8.8, 8, 7.7, 6.7]\n",
    "x_pos = [i for i, _ in enumerate(x)]\n",
    "plt.bar(x_pos, popularity, color=(0.4, 0.6, 0.8, 0.10))\n",
    "plt.xlabel('Languages')\n",
    "plt.ylabel('Popularity')\n",
    "plt.title('Popularity of Programming Languages')\n",
    "plt.xticks(x_pos, x, rotation=90)\n",
    "plt.subplots_adjust(bottom=0.4, top=0.8)\n",
    "plt.minorticks_on()\n",
    "plt.grid(which='major', linestyle='-', linewidth='0.5', color='red')\n",
    "plt.grid(which='minor', linestyle=':', linewidth='0.5', color='black')\n",
    "plt.show()"
   ]
  },
  {
   "cell_type": "markdown",
   "metadata": {},
   "source": [
    "### Q147.Write a python program to create the bar plot from a DataFrame."
   ]
  },
  {
   "cell_type": "code",
   "execution_count": 178,
   "metadata": {},
   "outputs": [
    {
     "data": {
      "image/png": "[encoded data removed]",
      "text/plain": [
       "<Figure size 432x288 with 1 Axes>"
      ]
     },
     "metadata": {
      "needs_background": "light"
     },
     "output_type": "display_data"
    }
   ],
   "source": [
    "import pandas as pd\n",
    "import matplotlib.pyplot as plt\n",
    "import numpy as np\n",
    "\n",
    "a=np.array([[4,8,5,7,6],[2,3,4,2,6],[4,7,4,7,8],[2,6,4,8,6],[2,4,3,3,2]])\n",
    "df=pd.DataFrame(a, columns=['a','b','c','d','e'], index=[2,4,6,8,10])\n",
    "\n",
    "df.plot(kind='bar')\n",
    "plt.minorticks_on()\n",
    "plt.grid(which='major', linestyle='-', linewidth='0.5', color='green')\n",
    "plt.grid(which='minor', linestyle=':', linewidth='0.5', color='black')\n",
    "plt.show()"
   ]
  },
  {
   "cell_type": "markdown",
   "metadata": {},
   "source": [
    "### Q148.Write a python program to draw thescatter plot comparing two subject marks of Mathematics and Science. Use marks of 10 students"
   ]
  },
  {
   "cell_type": "code",
   "execution_count": 179,
   "metadata": {},
   "outputs": [
    {
     "data": {
      "image/png": "[encoded data removed]",
      "text/plain": [
       "<Figure size 432x288 with 1 Axes>"
      ]
     },
     "metadata": {
      "needs_background": "light"
     },
     "output_type": "display_data"
    }
   ],
   "source": [
    "import matplotlib.pyplot as plt\n",
    "import pandas as pd\n",
    "\n",
    "math_marks = [88, 92, 80, 89, 100, 80, 60, 100, 80, 34]\n",
    "science_marks = [35,79,79,48,100,88,32,45,20,30]\n",
    "marks_range=[10,20,30,40,50,60,70,80,90,100]\n",
    "plt.scatter(marks_range, math_marks, label='Maths marks', color='r')\n",
    "plt.scatter(marks_range, science_marks, label='Science marks', color='g')\n",
    "plt.title('Scatter plot')\n",
    "plt.xlabel('Marks Range')\n",
    "plt.ylabel('Marks Scored')\n",
    "plt.legend()\n",
    "plt.show()"
   ]
  },
  {
   "cell_type": "markdown",
   "metadata": {},
   "source": [
    "### Q149.Write a python program to draw thescatter plot for three different groups comparing weights and heights."
   ]
  },
  {
   "cell_type": "code",
   "execution_count": 180,
   "metadata": {},
   "outputs": [
    {
     "data": {
      "image/png": "[encoded data removed]",
      "text/plain": [
       "<Figure size 432x288 with 1 Axes>"
      ]
     },
     "metadata": {
      "needs_background": "light"
     },
     "output_type": "display_data"
    }
   ],
   "source": [
    "import matplotlib.pyplot as plt\n",
    "import numpy as np \n",
    "w1=[67,57.2,59.6,59.64,55.8,61.2,60.45,61,56.23,56]\n",
    "h1=[101.7,197.6,98.3,125.1,113.7,157.7,136,148.9,125.3,114.9] \n",
    "w2=[61.9,64,62.1,64.2,62.3,65.4,62.4,61.4,62.5,63.6]\n",
    "h2=[152.8,155.3,135.1,125.2,151.3,135,182.2,195.9,165.1,125.1] \n",
    "w3=[68.2,67.2,68.4,68.7,71,71.3,70.8,70,71.1,71.7]\n",
    "h3=[165.8,170.9,192.8,135.4,161.4,136.1,167.1,235.1,181.1,177.3]\n",
    "\n",
    "weight = np.concatenate([w1, w2, w3])\n",
    "height = np.concatenate([h1, h2, h3])\n",
    "plt.scatter(weight, height, marker='*')\n",
    "plt.xlabel('weight', fontsize=16)\n",
    "plt.ylabel('height', fontsize=16)\n",
    "plt.title('Group wise Weight vs Height scatter plot', fontsize=20)\n",
    "plt.show()"
   ]
  },
  {
   "cell_type": "markdown",
   "metadata": {},
   "source": [
    "### Q150.Write a python program to draw a scatter plot to find sea-level rise in past 100 years."
   ]
  },
  {
   "cell_type": "code",
   "execution_count": 182,
   "metadata": {},
   "outputs": [
    {
     "data": {
      "image/png": "[encoded data removed]",
      "text/plain": [
       "<Figure size 432x288 with 1 Axes>"
      ]
     },
     "metadata": {
      "needs_background": "light"
     },
     "output_type": "display_data"
    }
   ],
   "source": [
    "df = pd.read_csv('sea-level.csv')\n",
    "Year = df['Year']\n",
    "sea_levels = df['CSIRO Adjusted Sea Level']\n",
    "plt.scatter(Year, sea_levels, edgecolors='r')\n",
    "plt.xlabel('Year')\n",
    "plt.ylabel('Sea Level (inches)')\n",
    "plt.title('Rise in Sealevel')\n",
    "plt.show()"
   ]
  },
  {
   "cell_type": "code",
   "execution_count": null,
   "metadata": {},
   "outputs": [],
   "source": []
  },
  {
   "cell_type": "code",
   "execution_count": null,
   "metadata": {},
   "outputs": [],
   "source": []
  }
 ],
 "metadata": {
  "anaconda-cloud": {},
  "colab": {
   "collapsed_sections": [],
   "name": "Ineuron-Python Subjective Assignement.ipynb",
   "provenance": []
  },
  "kernelspec": {
   "display_name": "Python 3",
   "language": "python",
   "name": "python3"
  },
  "language_info": {
   "codemirror_mode": {
    "name": "ipython",
    "version": 3
   },
   "file_extension": ".py",
   "mimetype": "text/x-python",
   "name": "python",
   "nbconvert_exporter": "python",
   "pygments_lexer": "ipython3",
   "version": "3.7.4"
  }
 },
 "nbformat": 4,
 "nbformat_minor": 1
}
